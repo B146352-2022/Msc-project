{
 "cells": [
  {
   "cell_type": "code",
   "execution_count": 22,
   "id": "1bccf3f4-be16-4844-96a7-a2b3f0db62b5",
   "metadata": {
    "tags": []
   },
   "outputs": [
    {
     "name": "stdout",
     "output_type": "stream",
     "text": [
      "The tensorboard extension is already loaded. To reload it, use:\n",
      "  %reload_ext tensorboard\n"
     ]
    }
   ],
   "source": [
    "import os\n",
    "import re\n",
    "import pandas as pd\n",
    "import numpy as np\n",
    "import tensorflow as tf\n",
    "from sklearn.metrics import confusion_matrix\n",
    "import matplotlib.pyplot as plt\n",
    "import seaborn as sns\n",
    "\n",
    "from keras.models import Sequential\n",
    "from keras.layers import Dense, Conv1D, MaxPooling1D, Flatten,Dropout,Conv2D\n",
    "from keras.layers import LSTM\n",
    "from keras.layers import Reshape\n",
    "from sklearn.model_selection import train_test_split\n",
    "# Load the TensorBoard notebook extension\n",
    "%load_ext tensorboard\n",
    "import datetime"
   ]
  },
  {
   "cell_type": "code",
   "execution_count": 23,
   "id": "79f515f9-14ce-427d-a44c-b74c344b3842",
   "metadata": {
    "tags": []
   },
   "outputs": [],
   "source": [
    "# get the raw sequence\n",
    "def input_file(file_path):\n",
    "    \"\"\"\n",
    "    input is the path of fasta file\n",
    "    output is a list of sequences\n",
    "    \"\"\"\n",
    "    sequences = []\n",
    "    current_sequence = \"\"\n",
    "\n",
    "    with open(fasta_file, 'r') as f:\n",
    "        for line in f:\n",
    "            line = line.strip()\n",
    "            if line.startswith(\">\"):\n",
    "                if current_sequence:\n",
    "                    sequences.append(current_sequence)\n",
    "                    current_sequence = \"\"\n",
    "            else:\n",
    "                current_sequence += line\n",
    "\n",
    "    if  current_sequence:\n",
    "        sequences.append(current_sequence)\n",
    "    \n",
    "    return sequences"
   ]
  },
  {
   "cell_type": "code",
   "execution_count": 24,
   "id": "288979ea-da06-4e93-b7f5-e0328c7c5abd",
   "metadata": {
    "tags": []
   },
   "outputs": [],
   "source": [
    "# one hot encoding for the input\n",
    "def one_hot_encode(seq):\n",
    "    \"\"\"\n",
    "    input is the individual sequence\n",
    "    output is the individual one-hot-encoded sequence\n",
    "    \"\"\"\n",
    "    map = np.asarray([[1,0,0,0,0],\n",
    "                      [0,1,0,0,0],\n",
    "                      [0,0,1,0,0],\n",
    "                      [0,0,0,1,0],\n",
    "                      [0,0,0,0,1]])\n",
    "    # replace ATCG with corresponding numbers\n",
    "    seq = seq.upper().replace('A','\\x00').replace('C','\\x01').replace('G', '\\x02').replace('T', '\\x03').replace('N','\\x04')\n",
    "    seq_array = np.fromstring(seq, np.int8)\n",
    "    seq_array = seq_array % 5\n",
    "    encoded_seq = map[seq_array]\n",
    "    \n",
    "    return encoded_seq\n",
    "    "
   ]
  },
  {
   "cell_type": "code",
   "execution_count": 25,
   "id": "2a6eb473-495b-4d28-9551-935eaae87d24",
   "metadata": {
    "tags": []
   },
   "outputs": [],
   "source": [
    "# pad the sequence and get the input\n",
    "def process_input(sequences,chunk_size):\n",
    "    \"\"\"\n",
    "    To ensure every sequence has the same length, I pad the sequence with \"N\" up to the length of set chunk_size\n",
    "    Then encode every sequence to get the final input for the model\n",
    "    input: a list of raw sequences and chunk size\n",
    "    output: the input of model (X)\n",
    "    \"\"\"\n",
    "    padded_seq = []\n",
    "    pad = ''\n",
    "    for seq in sequences:\n",
    "        pad = seq.ljust(chunk_size, 'N')\n",
    "        padded_seq.append(pad)\n",
    "\n",
    "    one_hot_sequences = [one_hot_encode(seq) for seq in padded_seq]\n",
    "    seq_array = np.array(one_hot_sequences)\n",
    "    one_hot_length = 5\n",
    "    X = seq_array.reshape(-1, chunk_size, one_hot_length)\n",
    "    return X"
   ]
  },
  {
   "cell_type": "code",
   "execution_count": 26,
   "id": "ff877ecb-0487-4177-ad42-9c77fb019a00",
   "metadata": {
    "tags": []
   },
   "outputs": [],
   "source": [
    "# translate sequence to VDJ sequence\n",
    "def translate_output(df,idx):\n",
    "    \"\"\"\n",
    "    input: the path of annotation file and the index of each item (sequence)\n",
    "    output: the individual VDJ sequence like \"VVVVVDDDJJJ\"\n",
    "    \"\"\"\n",
    "    # store the start, end position and length of VDJ\n",
    "    # the start and end\n",
    "    positions = {\n",
    "    'V': [df.loc[idx, 'v_sequence_start'] - 1, df.loc[idx, 'v_sequence_end']-1],\n",
    "    'D': [df.loc[idx, 'd_sequence_start'] - 1, df.loc[idx, 'd_sequence_end']-1],\n",
    "    'J': [df.loc[idx, 'j_sequence_start'] - 1, df.loc[idx, 'j_sequence_end']-1],\n",
    "    }\n",
    "    # the length \n",
    "    for key in positions.keys():\n",
    "        positions[key].append(positions[key][1] - positions[key][0]+1)\n",
    "    \n",
    "    # create sequence\n",
    "    seq = ['X'] * (positions['J'][1] + 1)\n",
    "    \n",
    "    # replace the X with VDJN \n",
    "    for key, (start, end, length) in positions.items():\n",
    "        seq[start:end+1] = [key] * length\n",
    "    my_seq = ''.join(seq)\n",
    "    my_seq = my_seq.replace('X', 'N')\n",
    "    my_seq = my_seq.ljust(chunk_size, 'X')\n",
    "    \n",
    "    return my_seq\n",
    "        "
   ]
  },
  {
   "cell_type": "code",
   "execution_count": 27,
   "id": "9cf8d194-74b8-46d2-a5eb-1e5c6bb5905e",
   "metadata": {
    "tags": []
   },
   "outputs": [],
   "source": [
    "# one-hot-encoding for the output\n",
    "def output_encoding(seq):\n",
    "    \"\"\"\n",
    "    input: the individual VDJ sequence\n",
    "    output: the individual encoded sequence\n",
    "    \"\"\"\n",
    "    map = np.asarray([[1,0,0,0,0],\n",
    "                      [0,1,0,0,0],\n",
    "                      [0,0,1,0,0],\n",
    "                      [0,0,0,1,0],\n",
    "                      [0,0,0,0,1]])\n",
    "   # replace VDJN with corresponding numbers\n",
    "    seq = seq.upper().replace('V','\\x00').replace('D','\\x01').replace('J', '\\x02').replace('N', '\\x03').replace('X','\\x04')\n",
    "    seq_array = np.fromstring(seq, np.int8)\n",
    "    seq_array = seq_array % 5\n",
    "    encoded_seq = map[seq_array]\n",
    "    \n",
    "    return encoded_seq"
   ]
  },
  {
   "cell_type": "code",
   "execution_count": 28,
   "id": "825d1d28-69dc-4245-a21a-646143a1d19b",
   "metadata": {
    "tags": []
   },
   "outputs": [],
   "source": [
    "# get the output\n",
    "def process_output(df):\n",
    "    \"\"\"\n",
    "    input: the dataframe obtained from the annotation file\n",
    "    output: the one-hot-encoded target label of the model\n",
    "    \"\"\"\n",
    "    encoded_VDJ = []\n",
    "    num_VDJ = []\n",
    "    for i in range(len(df)):\n",
    "        seq = translate_output(df,i)\n",
    "        seq_num = output_catogory(seq)\n",
    "        \n",
    "        num_VDJ.append(seq_num)\n",
    "        encoded_seq = output_encoding(seq)\n",
    "        encoded_VDJ.append(encoded_seq)\n",
    "        \n",
    "    y = np.array(encoded_VDJ)\n",
    "    y_class = np.array(num_VDJ)\n",
    "    \n",
    "    return y, y_class\n"
   ]
  },
  {
   "cell_type": "code",
   "execution_count": 29,
   "id": "74039c2c-f28c-4265-8d0b-045ebba86057",
   "metadata": {
    "tags": []
   },
   "outputs": [],
   "source": [
    "# translate the VDJ sequence to 1,2,3,4 for performance evaluation\n",
    "def output_catogory(seq):\n",
    "    \"\"\"\n",
    "    input is the individual VDJ sequence\n",
    "    output is a list of numbers including 0,1,2,3,4, which respectively correspond to VDJNX\n",
    "    \"\"\"\n",
    "    seq = seq.replace('V','\\x00').replace('D','\\x01').replace('J', '\\x02').replace('N', '\\x03').replace('X','\\x04')\n",
    "    return np.fromstring(seq, np.int8)"
   ]
  },
  {
   "cell_type": "code",
   "execution_count": 30,
   "id": "23e5884a-df5a-48dc-b9b5-7dd37a403a17",
   "metadata": {
    "tags": []
   },
   "outputs": [],
   "source": [
    "def plot_confusion_matrix(cm, classes=None, title='Confusion matrix'):\n",
    "    \"\"\"Plots a confusion matrix.\"\"\"\n",
    "    if classes is not None:\n",
    "        sns.heatmap(cm, xticklabels=classes, yticklabels=classes, vmin=0., vmax=1., annot=True)\n",
    "    else:\n",
    "        sns.heatmap(cm, vmin=0., vmax=1.)\n",
    "    plt.title(title)\n",
    "    plt.ylabel('True label')\n",
    "    plt.xlabel('Predicted label')"
   ]
  },
  {
   "cell_type": "markdown",
   "id": "7de5dc12-ba81-4e14-814a-e5c0c7a9c38c",
   "metadata": {},
   "source": [
    "## input and output"
   ]
  },
  {
   "cell_type": "code",
   "execution_count": 31,
   "id": "3b6532cb-093a-45a5-a2fa-2c6832048ba0",
   "metadata": {
    "tags": []
   },
   "outputs": [
    {
     "name": "stdout",
     "output_type": "stream",
     "text": [
      "(10000, 450, 5)\n",
      "[[[0 0 1 0 0]\n",
      "  [1 0 0 0 0]\n",
      "  [0 0 1 0 0]\n",
      "  ...\n",
      "  [0 0 0 0 1]\n",
      "  [0 0 0 0 1]\n",
      "  [0 0 0 0 1]]\n",
      "\n",
      " [[0 1 0 0 0]\n",
      "  [1 0 0 0 0]\n",
      "  [0 0 1 0 0]\n",
      "  ...\n",
      "  [0 0 0 0 1]\n",
      "  [0 0 0 0 1]\n",
      "  [0 0 0 0 1]]\n",
      "\n",
      " [[0 1 0 0 0]\n",
      "  [1 0 0 0 0]\n",
      "  [0 0 1 0 0]\n",
      "  ...\n",
      "  [0 0 0 0 1]\n",
      "  [0 0 0 0 1]\n",
      "  [0 0 0 0 1]]\n",
      "\n",
      " ...\n",
      "\n",
      " [[0 1 0 0 0]\n",
      "  [1 0 0 0 0]\n",
      "  [0 0 1 0 0]\n",
      "  ...\n",
      "  [0 0 0 0 1]\n",
      "  [0 0 0 0 1]\n",
      "  [0 0 0 0 1]]\n",
      "\n",
      " [[0 0 1 0 0]\n",
      "  [1 0 0 0 0]\n",
      "  [0 0 1 0 0]\n",
      "  ...\n",
      "  [0 0 0 0 1]\n",
      "  [0 0 0 0 1]\n",
      "  [0 0 0 0 1]]\n",
      "\n",
      " [[0 1 0 0 0]\n",
      "  [1 0 0 0 0]\n",
      "  [0 0 1 0 0]\n",
      "  ...\n",
      "  [0 0 0 0 1]\n",
      "  [0 0 0 0 1]\n",
      "  [0 0 0 0 1]]]\n"
     ]
    },
    {
     "name": "stderr",
     "output_type": "stream",
     "text": [
      "/tmp/ipykernel_478837/3505619144.py:14: DeprecationWarning: The binary mode of fromstring is deprecated, as it behaves surprisingly on unicode inputs. Use frombuffer instead\n",
      "  seq_array = np.fromstring(seq, np.int8)\n"
     ]
    }
   ],
   "source": [
    "fasta_file = os.path.join('..','repertoire','bigger','bigger_10000.fasta')\n",
    "sequences = input_file(fasta_file)\n",
    "chunk_size = 450\n",
    "X = process_input(sequences, chunk_size)\n",
    "print(X.shape)\n",
    "print(X)"
   ]
  },
  {
   "cell_type": "code",
   "execution_count": 32,
   "id": "94f5044a-b18d-49ee-bbf8-60c94f5fac0d",
   "metadata": {
    "tags": []
   },
   "outputs": [
    {
     "name": "stderr",
     "output_type": "stream",
     "text": [
      "/tmp/ipykernel_478837/2970507474.py:8: DeprecationWarning: The binary mode of fromstring is deprecated, as it behaves surprisingly on unicode inputs. Use frombuffer instead\n",
      "  return np.fromstring(seq, np.int8)\n",
      "/tmp/ipykernel_478837/3818073805.py:14: DeprecationWarning: The binary mode of fromstring is deprecated, as it behaves surprisingly on unicode inputs. Use frombuffer instead\n",
      "  seq_array = np.fromstring(seq, np.int8)\n"
     ]
    },
    {
     "name": "stdout",
     "output_type": "stream",
     "text": [
      "(10000, 450, 5)\n",
      "(10000, 450)\n",
      "[[[1 0 0 0 0]\n",
      "  [1 0 0 0 0]\n",
      "  [1 0 0 0 0]\n",
      "  ...\n",
      "  [0 0 0 0 1]\n",
      "  [0 0 0 0 1]\n",
      "  [0 0 0 0 1]]\n",
      "\n",
      " [[1 0 0 0 0]\n",
      "  [1 0 0 0 0]\n",
      "  [1 0 0 0 0]\n",
      "  ...\n",
      "  [0 0 0 0 1]\n",
      "  [0 0 0 0 1]\n",
      "  [0 0 0 0 1]]\n",
      "\n",
      " [[1 0 0 0 0]\n",
      "  [1 0 0 0 0]\n",
      "  [1 0 0 0 0]\n",
      "  ...\n",
      "  [0 0 0 0 1]\n",
      "  [0 0 0 0 1]\n",
      "  [0 0 0 0 1]]\n",
      "\n",
      " ...\n",
      "\n",
      " [[1 0 0 0 0]\n",
      "  [1 0 0 0 0]\n",
      "  [1 0 0 0 0]\n",
      "  ...\n",
      "  [0 0 0 0 1]\n",
      "  [0 0 0 0 1]\n",
      "  [0 0 0 0 1]]\n",
      "\n",
      " [[1 0 0 0 0]\n",
      "  [1 0 0 0 0]\n",
      "  [1 0 0 0 0]\n",
      "  ...\n",
      "  [0 0 0 0 1]\n",
      "  [0 0 0 0 1]\n",
      "  [0 0 0 0 1]]\n",
      "\n",
      " [[1 0 0 0 0]\n",
      "  [1 0 0 0 0]\n",
      "  [1 0 0 0 0]\n",
      "  ...\n",
      "  [0 0 0 0 1]\n",
      "  [0 0 0 0 1]\n",
      "  [0 0 0 0 1]]]\n"
     ]
    }
   ],
   "source": [
    "annotation_file = os.path.join('..','repertoire','bigger','bigger_10000.tsv')\n",
    "df = pd.read_csv(annotation_file, sep='\\t', header=0)\n",
    "y,y_class = process_output(df)\n",
    "print(y.shape)\n",
    "print(y_class.shape)\n",
    "print(y)"
   ]
  },
  {
   "cell_type": "markdown",
   "id": "a3d7e9bf-b932-4024-b7de-9a0ae3a2444e",
   "metadata": {
    "tags": []
   },
   "source": [
    "## build the model"
   ]
  },
  {
   "cell_type": "code",
   "execution_count": 33,
   "id": "e6e7adaf-e4db-4cab-b368-039d33e70a0f",
   "metadata": {
    "tags": []
   },
   "outputs": [
    {
     "name": "stdout",
     "output_type": "stream",
     "text": [
      "GPU device: PhysicalDevice(name='/physical_device:GPU:0', device_type='GPU')\n",
      "number of GPU device:  1\n"
     ]
    }
   ],
   "source": [
    "gpus = tf.config.list_physical_devices('GPU')\n",
    "\n",
    "if gpus:\n",
    "    for gpu in gpus:\n",
    "        print(\"GPU device:\", gpu)\n",
    "        print(\"number of GPU device: \",len(tf.config.experimental.list_physical_devices('GPU')))\n",
    "else:\n",
    "    print(\"No GPU devices found.\")\n",
    "\n",
    "\n",
    "tf.config.experimental.set_memory_growth(gpus[0], True)\n"
   ]
  },
  {
   "cell_type": "code",
   "execution_count": 34,
   "id": "ee291f3b-f786-49e4-90c7-d527587fea9e",
   "metadata": {
    "tags": []
   },
   "outputs": [],
   "source": [
    "import time\n",
    "import keras\n",
    "from tensorflow.keras.optimizers import Adam\n",
    "from tensorflow.keras.callbacks import ReduceLROnPlateau"
   ]
  },
  {
   "cell_type": "code",
   "execution_count": 35,
   "id": "0953441c-dcfe-4a4a-953b-6686229ef24c",
   "metadata": {
    "tags": []
   },
   "outputs": [],
   "source": [
    "SEED = 42\n",
    "keras.utils.set_random_seed(SEED)\n",
    "tf.config.experimental.enable_op_determinism()"
   ]
  },
  {
   "cell_type": "code",
   "execution_count": 43,
   "id": "757a40b0-2535-4d39-bc58-e1ad2bf0c9c1",
   "metadata": {
    "tags": []
   },
   "outputs": [
    {
     "name": "stdout",
     "output_type": "stream",
     "text": [
      "Model: \"sequential_7\"\n",
      "_________________________________________________________________\n",
      " Layer (type)                Output Shape              Param #   \n",
      "=================================================================\n",
      " conv1d_14 (Conv1D)          (None, 450, 16)           176       \n",
      "                                                                 \n",
      " dropout_14 (Dropout)        (None, 450, 16)           0         \n",
      "                                                                 \n",
      " conv1d_15 (Conv1D)          (None, 450, 8)            264       \n",
      "                                                                 \n",
      " max_pooling1d_7 (MaxPooling  (None, 450, 8)           0         \n",
      " 1D)                                                             \n",
      "                                                                 \n",
      " flatten_7 (Flatten)         (None, 3600)              0         \n",
      "                                                                 \n",
      " dense_14 (Dense)            (None, 32)                115232    \n",
      "                                                                 \n",
      " dropout_15 (Dropout)        (None, 32)                0         \n",
      "                                                                 \n",
      " dense_15 (Dense)            (None, 2250)              74250     \n",
      "                                                                 \n",
      " reshape_7 (Reshape)         (None, 450, 5)            0         \n",
      "                                                                 \n",
      "=================================================================\n",
      "Total params: 189,922\n",
      "Trainable params: 189,922\n",
      "Non-trainable params: 0\n",
      "_________________________________________________________________\n",
      "None\n",
      "Epoch 1/18\n"
     ]
    },
    {
     "name": "stderr",
     "output_type": "stream",
     "text": [
      "2023-08-03 16:57:20.528538: I tensorflow/core/common_runtime/executor.cc:1197] [/device:CPU:0] (DEBUG INFO) Executor start aborting (this does not indicate an error and you can ignore this message): INVALID_ARGUMENT: You must feed a value for placeholder tensor 'Placeholder/_11' with dtype int64 and shape [7000,450,5]\n",
      "\t [[{{node Placeholder/_11}}]]\n",
      "2023-08-03 16:57:20.528653: I tensorflow/core/common_runtime/executor.cc:1197] [/device:CPU:0] (DEBUG INFO) Executor start aborting (this does not indicate an error and you can ignore this message): INVALID_ARGUMENT: You must feed a value for placeholder tensor 'Placeholder/_11' with dtype int64 and shape [7000,450,5]\n",
      "\t [[{{node Placeholder/_11}}]]\n"
     ]
    },
    {
     "name": "stdout",
     "output_type": "stream",
     "text": [
      "219/219 [==============================] - 1s 2ms/step - loss: 0.6197 - accuracy: 0.7667 - val_loss: 0.1531 - val_accuracy: 0.9362\n",
      "Epoch 2/18\n",
      " 43/219 [====>.........................] - ETA: 0s - loss: 0.2097 - accuracy: 0.9232"
     ]
    },
    {
     "name": "stderr",
     "output_type": "stream",
     "text": [
      "2023-08-03 16:57:21.370004: I tensorflow/core/common_runtime/executor.cc:1197] [/device:CPU:0] (DEBUG INFO) Executor start aborting (this does not indicate an error and you can ignore this message): INVALID_ARGUMENT: You must feed a value for placeholder tensor 'Placeholder/_11' with dtype int64 and shape [3000,450,5]\n",
      "\t [[{{node Placeholder/_11}}]]\n",
      "2023-08-03 16:57:21.370139: I tensorflow/core/common_runtime/executor.cc:1197] [/device:CPU:0] (DEBUG INFO) Executor start aborting (this does not indicate an error and you can ignore this message): INVALID_ARGUMENT: You must feed a value for placeholder tensor 'Placeholder/_11' with dtype int64 and shape [3000,450,5]\n",
      "\t [[{{node Placeholder/_11}}]]\n"
     ]
    },
    {
     "name": "stdout",
     "output_type": "stream",
     "text": [
      "219/219 [==============================] - 0s 1ms/step - loss: 0.1916 - accuracy: 0.9257 - val_loss: 0.1465 - val_accuracy: 0.9362\n",
      "Epoch 3/18\n",
      "219/219 [==============================] - 0s 1ms/step - loss: 0.1669 - accuracy: 0.9304 - val_loss: 0.1441 - val_accuracy: 0.9365\n",
      "Epoch 4/18\n",
      "219/219 [==============================] - 0s 1ms/step - loss: 0.1560 - accuracy: 0.9333 - val_loss: 0.1429 - val_accuracy: 0.9361\n",
      "Epoch 5/18\n",
      "219/219 [==============================] - 0s 1ms/step - loss: 0.1507 - accuracy: 0.9349 - val_loss: 0.1420 - val_accuracy: 0.9367\n",
      "Epoch 6/18\n",
      "219/219 [==============================] - 0s 2ms/step - loss: 0.1477 - accuracy: 0.9360 - val_loss: 0.1408 - val_accuracy: 0.9383\n",
      "Epoch 7/18\n",
      "219/219 [==============================] - 0s 1ms/step - loss: 0.1449 - accuracy: 0.9366 - val_loss: 0.1383 - val_accuracy: 0.9370\n",
      "Epoch 8/18\n",
      "219/219 [==============================] - 0s 1ms/step - loss: 0.1410 - accuracy: 0.9381 - val_loss: 0.1314 - val_accuracy: 0.9417\n",
      "Epoch 9/18\n",
      "219/219 [==============================] - 0s 1ms/step - loss: 0.1305 - accuracy: 0.9426 - val_loss: 0.1120 - val_accuracy: 0.9525\n",
      "Epoch 10/18\n",
      "219/219 [==============================] - 0s 1ms/step - loss: 0.1111 - accuracy: 0.9512 - val_loss: 0.0924 - val_accuracy: 0.9618\n",
      "Epoch 11/18\n",
      "219/219 [==============================] - 0s 1ms/step - loss: 0.0995 - accuracy: 0.9560 - val_loss: 0.0855 - val_accuracy: 0.9630\n",
      "Epoch 12/18\n",
      "219/219 [==============================] - 0s 1ms/step - loss: 0.0940 - accuracy: 0.9582 - val_loss: 0.0832 - val_accuracy: 0.9632\n",
      "Epoch 13/18\n",
      "219/219 [==============================] - 0s 1ms/step - loss: 0.0914 - accuracy: 0.9589 - val_loss: 0.0817 - val_accuracy: 0.9638\n",
      "Epoch 14/18\n",
      "219/219 [==============================] - 0s 1ms/step - loss: 0.0897 - accuracy: 0.9598 - val_loss: 0.0801 - val_accuracy: 0.9648\n",
      "Epoch 15/18\n",
      "219/219 [==============================] - 0s 1ms/step - loss: 0.0879 - accuracy: 0.9604 - val_loss: 0.0791 - val_accuracy: 0.9652\n",
      "Epoch 16/18\n",
      "219/219 [==============================] - 0s 1ms/step - loss: 0.0866 - accuracy: 0.9608 - val_loss: 0.0778 - val_accuracy: 0.9659\n",
      "Epoch 17/18\n",
      "219/219 [==============================] - 0s 1ms/step - loss: 0.0856 - accuracy: 0.9613 - val_loss: 0.0770 - val_accuracy: 0.9662\n",
      "Epoch 18/18\n",
      "219/219 [==============================] - 0s 1ms/step - loss: 0.0842 - accuracy: 0.9617 - val_loss: 0.0760 - val_accuracy: 0.9667\n",
      "Training the model took 6.53 seconds\n"
     ]
    }
   ],
   "source": [
    "# create the model\n",
    "sequence_length = chunk_size\n",
    "one_hot_length = 5\n",
    "input_shape = (sequence_length, one_hot_length)\n",
    "num_classes = 5\n",
    "\n",
    "model = Sequential()\n",
    "model.add(Conv1D(filters=16, kernel_size=2, padding='same', activation='relu', input_shape=input_shape))\n",
    "model.add(Dropout(0.5))\n",
    "\n",
    "model.add(Conv1D(filters=8, kernel_size=2, padding='same', activation='relu'))\n",
    "model.add(MaxPooling1D(pool_size=1))\n",
    "\n",
    "model.add(Flatten())\n",
    "model.add(Dense(32, activation='relu', kernel_initializer='he_normal'))\n",
    "model.add(Dropout(0.5))\n",
    "model.add(Dense(450*5, activation='softmax'))\n",
    "model.add(Reshape((450,5)))\n",
    "model.compile(loss='categorical_crossentropy', optimizer= Adam(learning_rate=0.0001), metrics=['accuracy'])\n",
    "print(model.summary())\n",
    "\n",
    "start_time = time.time()\n",
    "log_dir = \"logs/CNNonshm/\" + datetime.datetime.now().strftime(\"%Y%m%d-%H%M%S\")\n",
    "tf_callback = tf.keras.callbacks.TensorBoard(log_dir=log_dir)\n",
    "\n",
    "X_train, X_test, y_train, y_test = train_test_split(X,y, test_size=.3)\n",
    "model.fit(X_train, y_train, validation_data = (X_test, y_test), epochs=18, batch_size=32, callbacks=[tf_callback])\n",
    "end_time = time.time()\n",
    "training_time = end_time - start_time\n",
    "print(\"Training the model took {:.2f} seconds\".format(training_time))"
   ]
  },
  {
   "cell_type": "code",
   "execution_count": 44,
   "id": "3ac56a49-37ae-4f4c-9cb7-d4dff0f7c7f9",
   "metadata": {},
   "outputs": [
    {
     "name": "stdout",
     "output_type": "stream",
     "text": [
      "94/94 [==============================] - 0s 459us/step\n"
     ]
    },
    {
     "name": "stderr",
     "output_type": "stream",
     "text": [
      "2023-08-03 16:57:29.730771: I tensorflow/core/common_runtime/executor.cc:1197] [/device:CPU:0] (DEBUG INFO) Executor start aborting (this does not indicate an error and you can ignore this message): INVALID_ARGUMENT: You must feed a value for placeholder tensor 'Placeholder/_10' with dtype int64 and shape [3000,450,5]\n",
      "\t [[{{node Placeholder/_10}}]]\n",
      "2023-08-03 16:57:29.730885: I tensorflow/core/common_runtime/executor.cc:1197] [/device:CPU:0] (DEBUG INFO) Executor start aborting (this does not indicate an error and you can ignore this message): INVALID_ARGUMENT: You must feed a value for placeholder tensor 'Placeholder/_10' with dtype int64 and shape [3000,450,5]\n",
      "\t [[{{node Placeholder/_10}}]]\n"
     ]
    },
    {
     "data": {
      "text/plain": [
       "array([[3.79226543e-03, 2.70252570e-11, 5.73298187e-10, 1.79708548e-12,\n",
       "        3.23557951e-11],\n",
       "       [1.52311416e-03, 4.63474224e-12, 1.67369556e-11, 2.13550601e-11,\n",
       "        7.03083685e-12],\n",
       "       [1.42058427e-03, 6.75796086e-11, 2.96634550e-10, 2.10543596e-11,\n",
       "        3.00428293e-11],\n",
       "       ...,\n",
       "       [6.31809952e-11, 8.49013047e-12, 7.30952018e-12, 7.31534971e-12,\n",
       "        2.18306828e-04],\n",
       "       [1.56306176e-10, 4.51876904e-12, 1.28797736e-11, 2.75456524e-12,\n",
       "        2.79928558e-04],\n",
       "       [4.22768287e-12, 3.01470134e-11, 1.08721825e-11, 1.86239756e-11,\n",
       "        1.71368557e-03]], dtype=float32)"
      ]
     },
     "execution_count": 44,
     "metadata": {},
     "output_type": "execute_result"
    }
   ],
   "source": [
    "y_pred = model.predict(X_test)\n",
    "y_pred[0]"
   ]
  },
  {
   "cell_type": "markdown",
   "id": "b8748e43-e39b-49f1-bcaf-bec6ecd9bbef",
   "metadata": {},
   "source": [
    "## Evaluation"
   ]
  },
  {
   "cell_type": "code",
   "execution_count": 45,
   "id": "5a75b8b9-1fcc-4546-88b2-1a3a9edb0a77",
   "metadata": {
    "tags": []
   },
   "outputs": [
    {
     "name": "stdout",
     "output_type": "stream",
     "text": [
      "[0 0 0 0 0 0 0 0 0 0 0 0 0 0 0 0 0 0 0 0 0 0 0 0 0 0 0 0 0 0 0 0 0 0 0 0 0\n",
      " 0 0 0 0 0 0 0 0 0 0 0 0 0 0 0 0 0 0 0 0 0 0 0 0 0 0 0 0 0 0 0 0 0 0 0 0 0\n",
      " 0 0 0 0 0 0 0 0 0 0 0 0 0 0 0 0 0 0 0 0 0 0 0 0 0 0 0 0 0 0 0 0 0 0 0 0 0\n",
      " 0 0 0 0 0 0 0 0 0 0 0 0 0 0 0 0 0 0 0 0 0 0 0 0 0 0 0 0 0 0 0 0 0 0 0 0 0\n",
      " 0 0 0 0 0 0 0 0 0 0 0 0 0 0 0 0 0 0 0 0 0 0 0 0 0 0 0 0 0 0 0 0 0 0 0 0 0\n",
      " 0 0 0 0 0 0 0 0 0 0 0 0 0 0 0 0 0 0 0 0 0 0 0 0 0 0 0 0 0 0 0 0 0 0 0 0 0\n",
      " 0 0 0 0 0 0 0 0 0 0 0 0 0 0 0 0 0 0 0 0 0 0 0 0 0 0 0 0 0 0 0 0 0 0 0 0 0\n",
      " 0 0 0 0 0 0 0 0 0 0 0 0 0 0 0 0 0 0 0 0 0 0 0 0 0 0 0 0 0 0 0 0 0 0 0 0 0\n",
      " 3 3 3 3 3 3 3 3 3 3 1 1 1 1 1 1 1 1 1 1 1 1 1 1 1 1 1 1 3 3 3 3 3 3 3 3 3\n",
      " 2 2 2 2 2 2 2 2 2 2 2 2 2 2 2 2 2 2 2 2 2 2 2 2 2 2 2 2 2 2 2 2 2 2 2 2 2\n",
      " 2 2 2 2 2 2 2 2 2 2 2 2 4 4 4 4 4 4 4 4 4 4 4 4 4 4 4 4 4 4 4 4 4 4 4 4 4\n",
      " 4 4 4 4 4 4 4 4 4 4 4 4 4 4 4 4 4 4 4 4 4 4 4 4 4 4 4 4 4 4 4 4 4 4 4 4 4\n",
      " 4 4 4 4 4 4]\n",
      "(3000, 450)\n"
     ]
    }
   ],
   "source": [
    "pred_classes = np.argmax(y_pred, axis=-1)\n",
    "print(pred_classes[0])\n",
    "print(pred_classes.shape)"
   ]
  },
  {
   "cell_type": "code",
   "execution_count": 46,
   "id": "3251a888-dd8d-4af1-819e-b95bce7022c9",
   "metadata": {
    "tags": []
   },
   "outputs": [
    {
     "name": "stdout",
     "output_type": "stream",
     "text": [
      "[0 0 0 0 0 0 0 0 0 0 0 0 0 0 0 0 0 0 0 0 0 0 0 0 0 0 0 0 0 0 0 0 0 0 0 0 0\n",
      " 0 0 0 0 0 0 0 0 0 0 0 0 0 0 0 0 0 0 0 0 0 0 0 0 0 0 0 0 0 0 0 0 0 0 0 0 0\n",
      " 0 0 0 0 0 0 0 0 0 0 0 0 0 0 0 0 0 0 0 0 0 0 0 0 0 0 0 0 0 0 0 0 0 0 0 0 0\n",
      " 0 0 0 0 0 0 0 0 0 0 0 0 0 0 0 0 0 0 0 0 0 0 0 0 0 0 0 0 0 0 0 0 0 0 0 0 0\n",
      " 0 0 0 0 0 0 0 0 0 0 0 0 0 0 0 0 0 0 0 0 0 0 0 0 0 0 0 0 0 0 0 0 0 0 0 0 0\n",
      " 0 0 0 0 0 0 0 0 0 0 0 0 0 0 0 0 0 0 0 0 0 0 0 0 0 0 0 0 0 0 0 0 0 0 0 0 0\n",
      " 0 0 0 0 0 0 0 0 0 0 0 0 0 0 0 0 0 0 0 0 0 0 0 0 0 0 0 0 0 0 0 0 0 0 0 0 0\n",
      " 0 0 0 0 0 0 0 0 0 0 0 0 0 0 0 0 0 0 0 0 0 0 0 0 0 0 0 0 0 0 0 0 0 0 0 0 0\n",
      " 0 0 3 3 3 3 3 3 3 1 1 1 1 1 1 1 1 1 1 1 1 1 1 1 1 1 1 1 1 1 1 3 3 3 3 3 3\n",
      " 3 3 3 3 3 3 3 3 3 3 3 2 2 2 2 2 2 2 2 2 2 2 2 2 2 2 2 2 2 2 2 2 2 2 2 2 2\n",
      " 2 2 2 2 2 2 2 2 2 2 2 2 4 4 4 4 4 4 4 4 4 4 4 4 4 4 4 4 4 4 4 4 4 4 4 4 4\n",
      " 4 4 4 4 4 4 4 4 4 4 4 4 4 4 4 4 4 4 4 4 4 4 4 4 4 4 4 4 4 4 4 4 4 4 4 4 4\n",
      " 4 4 4 4 4 4]\n",
      "(3000, 450)\n"
     ]
    }
   ],
   "source": [
    "y_true = np.argmax(y_test,axis=-1)\n",
    "print(y_true[0])\n",
    "print(y_true.shape)"
   ]
  },
  {
   "cell_type": "code",
   "execution_count": 47,
   "id": "3c3368d3-aaf9-48a1-a044-63eca2733cab",
   "metadata": {
    "tags": []
   },
   "outputs": [
    {
     "data": {
      "text/plain": [
       "([<matplotlib.axis.YTick at 0x7fcb0830f590>,\n",
       "  <matplotlib.axis.YTick at 0x7fcb0854e710>,\n",
       "  <matplotlib.axis.YTick at 0x7fcc58b70590>,\n",
       "  <matplotlib.axis.YTick at 0x7fcb0834f2d0>,\n",
       "  <matplotlib.axis.YTick at 0x7fcb08344c50>],\n",
       " [Text(0, 0.5, 'V'),\n",
       "  Text(0, 1.5, 'D'),\n",
       "  Text(0, 2.5, 'J'),\n",
       "  Text(0, 3.5, 'N'),\n",
       "  Text(0, 4.5, 'X')])"
      ]
     },
     "execution_count": 47,
     "metadata": {},
     "output_type": "execute_result"
    },
    {
     "data": {
      "image/png": "[encoded data removed]",
      "text/plain": [
       "<Figure size 640x480 with 2 Axes>"
      ]
     },
     "metadata": {},
     "output_type": "display_data"
    }
   ],
   "source": [
    "y_true_flat = y_true.flatten()\n",
    "y_pred_flat = pred_classes.flatten()\n",
    "cm = confusion_matrix(y_true_flat,y_pred_flat)\n",
    "cm_norm = cm/cm.sum(axis=1)[:, np.newaxis]\n",
    "plt.figure()\n",
    "plot_confusion_matrix(cm_norm, classes=['V', 'D', 'J', 'N', 'X'])\n",
    "labels = ['V', 'D', 'J', 'N', 'X']\n",
    "plt.xticks(np.arange(5) + 0.5, labels)\n",
    "plt.yticks(np.arange(5) + 0.5, labels)"
   ]
  },
  {
   "cell_type": "code",
   "execution_count": 48,
   "id": "5fd6e4b2-0d19-47e1-a04c-2dada991027a",
   "metadata": {
    "tags": []
   },
   "outputs": [
    {
     "data": {
      "image/png": "[encoded data removed]",
      "text/plain": [
       "<Figure size 640x480 with 2 Axes>"
      ]
     },
     "metadata": {},
     "output_type": "display_data"
    }
   ],
   "source": [
    "plt.figure()\n",
    "sns.heatmap(cm, annot=True, fmt=\"d\")\n",
    "\n",
    "labels = ['V', 'D', 'J', 'N', 'X']\n",
    "plt.xticks(np.arange(5) + 0.5, labels)\n",
    "plt.yticks(np.arange(5) + 0.5, labels)\n",
    "\n",
    "plt.title(\"Confusion matrix\")\n",
    "plt.ylabel('True label')\n",
    "plt.xlabel('Predicted label')\n",
    "plt.show()"
   ]
  },
  {
   "cell_type": "code",
   "execution_count": 49,
   "id": "0f13f536-01ab-4355-b131-4181f93bdc37",
   "metadata": {
    "tags": []
   },
   "outputs": [],
   "source": [
    "from sklearn.metrics import accuracy_score, precision_score, recall_score, f1_score\n",
    "\n",
    "from sklearn.metrics import roc_curve, auc\n",
    "from sklearn.preprocessing import label_binarize\n",
    "from scipy import interp\n",
    "from itertools import cycle"
   ]
  },
  {
   "cell_type": "code",
   "execution_count": 50,
   "id": "26de2a51-2a05-4c2d-bc4b-43d00daf50b6",
   "metadata": {
    "tags": []
   },
   "outputs": [
    {
     "name": "stdout",
     "output_type": "stream",
     "text": [
      "Accuracy: 0.9666718518518519\n",
      "Precision: 0.8225877646687021\n",
      "Recall: 0.8166668607373623\n",
      "F1 Score: 0.8177564165091237\n"
     ]
    }
   ],
   "source": [
    "# accuracy\n",
    "accuracy = accuracy_score(y_true_flat, y_pred_flat)\n",
    "print('Accuracy:', accuracy)\n",
    "\n",
    "# precision\n",
    "precision = precision_score(y_true_flat, y_pred_flat, average='macro')\n",
    "print('Precision:', precision)\n",
    "\n",
    "# recall\n",
    "recall = recall_score(y_true_flat, y_pred_flat, average='macro')\n",
    "print('Recall:', recall)\n",
    "\n",
    "# F1-score\n",
    "f1 = f1_score(y_true_flat, y_pred_flat, average='macro')\n",
    "print('F1 Score:', f1)"
   ]
  },
  {
   "cell_type": "code",
   "execution_count": 53,
   "id": "08764036-cb0e-4ffc-8eab-1d0f34dbb2f1",
   "metadata": {
    "tags": []
   },
   "outputs": [
    {
     "data": {
      "image/png": "[encoded data removed]",
      "text/plain": [
       "<Figure size 640x480 with 1 Axes>"
      ]
     },
     "metadata": {},
     "output_type": "display_data"
    }
   ],
   "source": [
    "vdjclass = [\"V\",\"D\",\"J\",\"N\",\"X\"]\n",
    "plt.figure()\n",
    "for i in range(5):\n",
    "    y_pred_1d = y_pred[:,:,i].ravel()\n",
    "    y_true_1d = y_test[:,:,i].ravel()\n",
    "    fpr, tpr, _ = roc_curve(y_true_1d, y_pred_1d)\n",
    "    roc_auc = auc(fpr, tpr)\n",
    "    \n",
    "    plt.plot(fpr, tpr, label='Class %s (AUC = %0.2f)' % (vdjclass[i],roc_auc))\n",
    "plt.plot([0, 1], [0, 1], 'k--')\n",
    "plt.xlim([0.0, 1.0])\n",
    "plt.ylim([0.0, 1.05])\n",
    "plt.xlabel('False Positive Rate')\n",
    "plt.ylabel('True Positive Rate')\n",
    "plt.title('Receiver operating characteristic (ROC) curve ')\n",
    "plt.legend(loc=\"lower right\")\n",
    "plt.show()"
   ]
  }
 ],
 "metadata": {
  "kernelspec": {
   "display_name": "test",
   "language": "python",
   "name": "test"
  },
  "language_info": {
   "codemirror_mode": {
    "name": "ipython",
    "version": 3
   },
   "file_extension": ".py",
   "mimetype": "text/x-python",
   "name": "python",
   "nbconvert_exporter": "python",
   "pygments_lexer": "ipython3",
   "version": "3.11.4"
  }
 },
 "nbformat": 4,
 "nbformat_minor": 5
}
