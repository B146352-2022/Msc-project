{
 "cells": [
  {
   "cell_type": "code",
   "execution_count": 13,
   "id": "3264f38f-1ba3-439e-ac31-7c4b97bc7237",
   "metadata": {
    "tags": []
   },
   "outputs": [],
   "source": [
    "import nbformat\n",
    "from keras.wrappers.scikit_learn import KerasClassifier \n",
    "from sklearn.model_selection import GridSearchCV\n",
    "import keras_tuner\n",
    "import keras"
   ]
  },
  {
   "cell_type": "code",
   "execution_count": 14,
   "id": "51fdb5c5-3ca3-4df2-bd10-aee921ffac18",
   "metadata": {
    "tags": []
   },
   "outputs": [
    {
     "name": "stdout",
     "output_type": "stream",
     "text": [
      "The tensorboard extension is already loaded. To reload it, use:\n",
      "  %reload_ext tensorboard\n"
     ]
    }
   ],
   "source": [
    "%run 'one_hot.ipynb'"
   ]
  },
  {
   "cell_type": "code",
   "execution_count": 15,
   "id": "7b28a3c3-02d5-4926-b7ae-74349ca41245",
   "metadata": {
    "tags": []
   },
   "outputs": [
    {
     "name": "stderr",
     "output_type": "stream",
     "text": [
      "/tmp/ipykernel_519835/3505619144.py:14: DeprecationWarning: The binary mode of fromstring is deprecated, as it behaves surprisingly on unicode inputs. Use frombuffer instead\n",
      "  seq_array = np.fromstring(seq, np.int8)\n",
      "/tmp/ipykernel_519835/2970507474.py:8: DeprecationWarning: The binary mode of fromstring is deprecated, as it behaves surprisingly on unicode inputs. Use frombuffer instead\n",
      "  return np.fromstring(seq, np.int8)\n",
      "/tmp/ipykernel_519835/3818073805.py:14: DeprecationWarning: The binary mode of fromstring is deprecated, as it behaves surprisingly on unicode inputs. Use frombuffer instead\n",
      "  seq_array = np.fromstring(seq, np.int8)\n"
     ]
    }
   ],
   "source": [
    "fasta_file = os.path.join('..','repertoire','bigger','bigger_10000.fasta')\n",
    "sequences = input_file(fasta_file)\n",
    "chunk_size = 450\n",
    "X = process_input(sequences, chunk_size)\n",
    "annotation_file = os.path.join('..','repertoire','bigger','bigger_10000.tsv')\n",
    "df = pd.read_csv(annotation_file, sep='\\t', header=0)\n",
    "y,y_class = process_output(df)"
   ]
  },
  {
   "cell_type": "code",
   "execution_count": 16,
   "id": "5a1c132b-cd1a-4ec5-b98f-c68d222099b4",
   "metadata": {
    "tags": []
   },
   "outputs": [
    {
     "name": "stdout",
     "output_type": "stream",
     "text": [
      "GPU device: PhysicalDevice(name='/physical_device:GPU:0', device_type='GPU')\n",
      "number of GPU device:  1\n"
     ]
    }
   ],
   "source": [
    "gpus = tf.config.list_physical_devices('GPU')\n",
    "\n",
    "if gpus:\n",
    "    for gpu in gpus:\n",
    "        print(\"GPU device:\", gpu)\n",
    "        print(\"number of GPU device: \",len(tf.config.experimental.list_physical_devices('GPU')))\n",
    "else:\n",
    "    print(\"No GPU devices found.\")\n",
    "\n",
    "\n",
    "tf.config.experimental.set_memory_growth(gpus[0], True)"
   ]
  },
  {
   "cell_type": "code",
   "execution_count": 33,
   "id": "f12716bd-29c7-475b-b12d-49348fc06639",
   "metadata": {
    "tags": []
   },
   "outputs": [],
   "source": [
    "def call_existing_code(units, activation, dropout, lr, filters):\n",
    "    \n",
    "    # parameters of input shape\n",
    "    sequence_length = 450\n",
    "    one_hot_length = 5\n",
    "    input_shape = (sequence_length, one_hot_length)\n",
    "    \n",
    "    # create the model\n",
    "    model = Sequential()\n",
    "    model.add(Conv1D(filters=filters, kernel_size=2, padding='same', activation='relu', input_shape=input_shape))\n",
    "    if dropout:\n",
    "        model.add(Dropout(0.5))\n",
    "    model.add(Conv1D(filters=filters, kernel_size=2, padding='same', activation='relu'))\n",
    "    model.add(MaxPooling1D(pool_size=1))\n",
    "    model.add(Flatten())\n",
    "    model.add(Dense(units=units, activation=activation))\n",
    "    if dropout:\n",
    "        model.add(Dropout(0.5))\n",
    "    model.add(Dense(450*5, activation='softmax'))\n",
    "    model.add(Reshape((450,5)))\n",
    "    model.compile(\n",
    "        optimizer=keras.optimizers.Adam(learning_rate=lr),\n",
    "        loss=\"categorical_crossentropy\",\n",
    "        metrics=[\"accuracy\"]\n",
    "    )\n",
    "    return model"
   ]
  },
  {
   "cell_type": "code",
   "execution_count": 36,
   "id": "283d3c78-7d75-4bff-b1ed-de9695b136b5",
   "metadata": {
    "tags": []
   },
   "outputs": [],
   "source": [
    "def create_model(hp):\n",
    " \n",
    "    #hyperparameter\n",
    "    filters = hp.Int(\"filters\", min_value=8, max_value=64, step=8)\n",
    "    units = hp.Int(\"units\", min_value=32, max_value=128, step=32)\n",
    "    activation = hp.Choice(\"activation\",[\"relu\",\"tanh\"])\n",
    "    dropout = hp.Boolean(\"dropout\")\n",
    "    lr=hp.Float(\"lr\", min_value=1e-4, max_value=1e-2, sampling=\"log\")\n",
    "    \n",
    "    #build the model\n",
    "    model = call_existing_code(\n",
    "        units=units, activation=activation, dropout=dropout, lr=lr, filters=filters\n",
    "    )\n",
    "   \n",
    "    return model"
   ]
  },
  {
   "cell_type": "code",
   "execution_count": 37,
   "id": "23b5f63b-b91f-4194-a428-1ac6c63ae8d3",
   "metadata": {
    "tags": []
   },
   "outputs": [
    {
     "data": {
      "text/plain": [
       "<keras.engine.sequential.Sequential at 0x7fc7ec028f10>"
      ]
     },
     "execution_count": 37,
     "metadata": {},
     "output_type": "execute_result"
    }
   ],
   "source": [
    "create_model(keras_tuner.HyperParameters())"
   ]
  },
  {
   "cell_type": "code",
   "execution_count": 38,
   "id": "f38dcec8-011d-46c0-bc56-58894d611842",
   "metadata": {
    "tags": []
   },
   "outputs": [],
   "source": [
    "tuner = keras_tuner.RandomSearch(\n",
    "    hypermodel=create_model,\n",
    "    objective=\"val_accuracy\",\n",
    "    max_trials=20,\n",
    "    executions_per_trial=3,\n",
    "    overwrite=True,\n",
    "    directory=\"output\",\n",
    "    project_name=\"VDJ\"\n",
    ")"
   ]
  },
  {
   "cell_type": "code",
   "execution_count": 39,
   "id": "b3d1983e-75b9-43dc-b050-71010a6635f7",
   "metadata": {
    "tags": []
   },
   "outputs": [
    {
     "name": "stdout",
     "output_type": "stream",
     "text": [
      "Search space summary\n",
      "Default search space size: 5\n",
      "filters (Int)\n",
      "{'default': None, 'conditions': [], 'min_value': 8, 'max_value': 64, 'step': 8, 'sampling': 'linear'}\n",
      "units (Int)\n",
      "{'default': None, 'conditions': [], 'min_value': 32, 'max_value': 128, 'step': 32, 'sampling': 'linear'}\n",
      "activation (Choice)\n",
      "{'default': 'relu', 'conditions': [], 'values': ['relu', 'tanh'], 'ordered': False}\n",
      "dropout (Boolean)\n",
      "{'default': False, 'conditions': []}\n",
      "lr (Float)\n",
      "{'default': 0.0001, 'conditions': [], 'min_value': 0.0001, 'max_value': 0.01, 'step': None, 'sampling': 'log'}\n"
     ]
    }
   ],
   "source": [
    "tuner.search_space_summary()"
   ]
  },
  {
   "cell_type": "code",
   "execution_count": 40,
   "id": "8ebb5750-fd72-4b3a-8c0a-c129ca5378b0",
   "metadata": {
    "tags": []
   },
   "outputs": [],
   "source": [
    "X_train, X_temp, y_train, y_temp = train_test_split(X, y, test_size=0.3, random_state=42)\n",
    "X_val, X_test, y_val, y_test = train_test_split(X_temp, y_temp, test_size=0.5, random_state=42)"
   ]
  },
  {
   "cell_type": "code",
   "execution_count": 42,
   "id": "4d34d9a1-5a71-4812-9084-27b71ef1cda7",
   "metadata": {
    "tags": []
   },
   "outputs": [
    {
     "name": "stdout",
     "output_type": "stream",
     "text": [
      "INFO:tensorflow:Oracle triggered exit\n"
     ]
    }
   ],
   "source": [
    "tuner.search(X_train, y_train, epochs=15, validation_data=(X_val, y_val))"
   ]
  },
  {
   "cell_type": "code",
   "execution_count": 43,
   "id": "ccb0d818-2a39-4ff4-9e67-5afb3c2a4721",
   "metadata": {
    "tags": []
   },
   "outputs": [
    {
     "name": "stdout",
     "output_type": "stream",
     "text": [
      "WARNING:tensorflow:Detecting that an object or model or tf.train.Checkpoint is being deleted with unrestored values. See the following logs for the specific values in question. To silence these warnings, use `status.expect_partial()`. See https://www.tensorflow.org/api_docs/python/tf/train/Checkpoint#restorefor details about the status object returned by the restore function.\n",
      "WARNING:tensorflow:Value in checkpoint could not be found in the restored object: (root).optimizer.iter\n",
      "WARNING:tensorflow:Value in checkpoint could not be found in the restored object: (root).optimizer.beta_1\n",
      "WARNING:tensorflow:Value in checkpoint could not be found in the restored object: (root).optimizer.beta_2\n",
      "WARNING:tensorflow:Value in checkpoint could not be found in the restored object: (root).optimizer.decay\n",
      "WARNING:tensorflow:Value in checkpoint could not be found in the restored object: (root).optimizer.learning_rate\n",
      "WARNING:tensorflow:Detecting that an object or model or tf.train.Checkpoint is being deleted with unrestored values. See the following logs for the specific values in question. To silence these warnings, use `status.expect_partial()`. See https://www.tensorflow.org/api_docs/python/tf/train/Checkpoint#restorefor details about the status object returned by the restore function.\n",
      "WARNING:tensorflow:Value in checkpoint could not be found in the restored object: (root).optimizer.iter\n",
      "WARNING:tensorflow:Value in checkpoint could not be found in the restored object: (root).optimizer.beta_1\n",
      "WARNING:tensorflow:Value in checkpoint could not be found in the restored object: (root).optimizer.beta_2\n",
      "WARNING:tensorflow:Value in checkpoint could not be found in the restored object: (root).optimizer.decay\n",
      "WARNING:tensorflow:Value in checkpoint could not be found in the restored object: (root).optimizer.learning_rate\n",
      "Model: \"sequential\"\n",
      "_________________________________________________________________\n",
      " Layer (type)                Output Shape              Param #   \n",
      "=================================================================\n",
      " conv1d (Conv1D)             (None, 450, 64)           704       \n",
      "                                                                 \n",
      " conv1d_1 (Conv1D)           (None, 450, 64)           8256      \n",
      "                                                                 \n",
      " max_pooling1d (MaxPooling1D  (None, 450, 64)          0         \n",
      " )                                                               \n",
      "                                                                 \n",
      " flatten (Flatten)           (None, 28800)             0         \n",
      "                                                                 \n",
      " dense (Dense)               (None, 96)                2764896   \n",
      "                                                                 \n",
      " dense_1 (Dense)             (None, 2250)              218250    \n",
      "                                                                 \n",
      " reshape (Reshape)           (None, 450, 5)            0         \n",
      "                                                                 \n",
      "=================================================================\n",
      "Total params: 2,992,106\n",
      "Trainable params: 2,992,106\n",
      "Non-trainable params: 0\n",
      "_________________________________________________________________\n"
     ]
    }
   ],
   "source": [
    "# Get the top 2 models.\n",
    "models = tuner.get_best_models(num_models=2)\n",
    "best_model = models[0]\n",
    "# Build the model.\n",
    "# Needed for `Sequential` without specified `input_shape`.\n",
    "best_model.build(input_shape=(None, 28, 28))\n",
    "best_model.summary()"
   ]
  },
  {
   "cell_type": "code",
   "execution_count": 44,
   "id": "cbccb17a-0e7e-47dc-9058-5ae9bd170496",
   "metadata": {
    "tags": []
   },
   "outputs": [
    {
     "name": "stdout",
     "output_type": "stream",
     "text": [
      "Results summary\n",
      "Results in output/VDJ\n",
      "Showing 10 best trials\n",
      "Objective(name=\"val_accuracy\", direction=\"max\")\n",
      "\n",
      "Trial 12 summary\n",
      "Hyperparameters:\n",
      "filters: 64\n",
      "units: 96\n",
      "activation: relu\n",
      "dropout: False\n",
      "lr: 0.0012513458296776205\n",
      "Score: 0.9877585172653198\n",
      "\n",
      "Trial 09 summary\n",
      "Hyperparameters:\n",
      "filters: 64\n",
      "units: 96\n",
      "activation: relu\n",
      "dropout: False\n",
      "lr: 0.003378131836989523\n",
      "Score: 0.987045427163442\n",
      "\n",
      "Trial 01 summary\n",
      "Hyperparameters:\n",
      "filters: 16\n",
      "units: 64\n",
      "activation: relu\n",
      "dropout: False\n",
      "lr: 0.003072821882297506\n",
      "Score: 0.9865214824676514\n",
      "\n",
      "Trial 15 summary\n",
      "Hyperparameters:\n",
      "filters: 32\n",
      "units: 32\n",
      "activation: relu\n",
      "dropout: False\n",
      "lr: 0.0029533922569706128\n",
      "Score: 0.9865204890569051\n",
      "\n",
      "Trial 11 summary\n",
      "Hyperparameters:\n",
      "filters: 16\n",
      "units: 96\n",
      "activation: tanh\n",
      "dropout: False\n",
      "lr: 0.0029860644714577917\n",
      "Score: 0.9855698744455973\n",
      "\n",
      "Trial 10 summary\n",
      "Hyperparameters:\n",
      "filters: 32\n",
      "units: 128\n",
      "activation: relu\n",
      "dropout: True\n",
      "lr: 0.002647525297275649\n",
      "Score: 0.9812301198641459\n",
      "\n",
      "Trial 17 summary\n",
      "Hyperparameters:\n",
      "filters: 56\n",
      "units: 64\n",
      "activation: relu\n",
      "dropout: False\n",
      "lr: 0.00011307631534561521\n",
      "Score: 0.9801367918650309\n",
      "\n",
      "Trial 06 summary\n",
      "Hyperparameters:\n",
      "filters: 8\n",
      "units: 128\n",
      "activation: relu\n",
      "dropout: True\n",
      "lr: 0.0015315675711345933\n",
      "Score: 0.9773836930592855\n",
      "\n",
      "Trial 04 summary\n",
      "Hyperparameters:\n",
      "filters: 8\n",
      "units: 128\n",
      "activation: tanh\n",
      "dropout: True\n",
      "lr: 0.0010575697475283586\n",
      "Score: 0.9766977628072103\n",
      "\n",
      "Trial 13 summary\n",
      "Hyperparameters:\n",
      "filters: 8\n",
      "units: 128\n",
      "activation: relu\n",
      "dropout: True\n",
      "lr: 0.0006434892781748454\n",
      "Score: 0.9765259226163229\n"
     ]
    }
   ],
   "source": [
    "tuner.results_summary()"
   ]
  },
  {
   "cell_type": "code",
   "execution_count": 56,
   "id": "17c8bc86-2d0b-49a9-98b5-d70115fd4adf",
   "metadata": {
    "tags": []
   },
   "outputs": [],
   "source": [
    "import time\n",
    "import keras\n",
    "from tensorflow.keras.optimizers import Adam\n",
    "from sklearn.metrics import confusion_matrix"
   ]
  },
  {
   "cell_type": "code",
   "execution_count": 51,
   "id": "8ad6544f-dfbf-4700-8283-af292ac24cc7",
   "metadata": {
    "tags": []
   },
   "outputs": [
    {
     "name": "stdout",
     "output_type": "stream",
     "text": [
      "Model: \"sequential_6\"\n",
      "_________________________________________________________________\n",
      " Layer (type)                Output Shape              Param #   \n",
      "=================================================================\n",
      " conv1d_11 (Conv1D)          (None, 450, 64)           704       \n",
      "                                                                 \n",
      " conv1d_12 (Conv1D)          (None, 450, 64)           8256      \n",
      "                                                                 \n",
      " max_pooling1d_5 (MaxPooling  (None, 450, 64)          0         \n",
      " 1D)                                                             \n",
      "                                                                 \n",
      " flatten_5 (Flatten)         (None, 28800)             0         \n",
      "                                                                 \n",
      " dense_10 (Dense)            (None, 96)                2764896   \n",
      "                                                                 \n",
      " dense_11 (Dense)            (None, 2250)              218250    \n",
      "                                                                 \n",
      " reshape_5 (Reshape)         (None, 450, 5)            0         \n",
      "                                                                 \n",
      "=================================================================\n",
      "Total params: 2,992,106\n",
      "Trainable params: 2,992,106\n",
      "Non-trainable params: 0\n",
      "_________________________________________________________________\n",
      "None\n",
      "Epoch 1/30\n",
      "219/219 [==============================] - 1s 2ms/step - loss: 0.1190 - accuracy: 0.9489 - val_loss: 0.0599 - val_accuracy: 0.9725\n",
      "Epoch 2/30\n",
      "219/219 [==============================] - 0s 1ms/step - loss: 0.0507 - accuracy: 0.9775 - val_loss: 0.0449 - val_accuracy: 0.9802\n",
      "Epoch 3/30\n",
      "219/219 [==============================] - 0s 1ms/step - loss: 0.0404 - accuracy: 0.9825 - val_loss: 0.0394 - val_accuracy: 0.9830\n",
      "Epoch 4/30\n",
      "219/219 [==============================] - 0s 2ms/step - loss: 0.0358 - accuracy: 0.9847 - val_loss: 0.0370 - val_accuracy: 0.9843\n",
      "Epoch 5/30\n",
      "219/219 [==============================] - 0s 1ms/step - loss: 0.0330 - accuracy: 0.9860 - val_loss: 0.0350 - val_accuracy: 0.9851\n",
      "Epoch 6/30\n",
      "219/219 [==============================] - 0s 2ms/step - loss: 0.0311 - accuracy: 0.9868 - val_loss: 0.0344 - val_accuracy: 0.9854\n",
      "Epoch 7/30\n",
      "219/219 [==============================] - 0s 2ms/step - loss: 0.0294 - accuracy: 0.9876 - val_loss: 0.0315 - val_accuracy: 0.9869\n",
      "Epoch 8/30\n",
      "219/219 [==============================] - 0s 1ms/step - loss: 0.0280 - accuracy: 0.9882 - val_loss: 0.0314 - val_accuracy: 0.9868\n",
      "Epoch 9/30\n",
      "219/219 [==============================] - 0s 1ms/step - loss: 0.0269 - accuracy: 0.9887 - val_loss: 0.0303 - val_accuracy: 0.9872\n",
      "Epoch 10/30\n",
      "219/219 [==============================] - 0s 1ms/step - loss: 0.0258 - accuracy: 0.9892 - val_loss: 0.0303 - val_accuracy: 0.9874\n",
      "Epoch 11/30\n",
      "219/219 [==============================] - 0s 1ms/step - loss: 0.0249 - accuracy: 0.9896 - val_loss: 0.0307 - val_accuracy: 0.9874\n",
      "Epoch 12/30\n",
      "219/219 [==============================] - 0s 1ms/step - loss: 0.0239 - accuracy: 0.9899 - val_loss: 0.0304 - val_accuracy: 0.9876\n",
      "Epoch 13/30\n",
      "219/219 [==============================] - 0s 1ms/step - loss: 0.0234 - accuracy: 0.9902 - val_loss: 0.0294 - val_accuracy: 0.9880\n",
      "Epoch 14/30\n",
      "219/219 [==============================] - 0s 1ms/step - loss: 0.0225 - accuracy: 0.9906 - val_loss: 0.0301 - val_accuracy: 0.9877\n",
      "Epoch 15/30\n",
      "219/219 [==============================] - 0s 1ms/step - loss: 0.0222 - accuracy: 0.9908 - val_loss: 0.0300 - val_accuracy: 0.9879\n",
      "Epoch 16/30\n",
      "219/219 [==============================] - 0s 2ms/step - loss: 0.0212 - accuracy: 0.9911 - val_loss: 0.0300 - val_accuracy: 0.9882\n",
      "Epoch 17/30\n",
      "219/219 [==============================] - 0s 1ms/step - loss: 0.0207 - accuracy: 0.9913 - val_loss: 0.0305 - val_accuracy: 0.9881\n",
      "Epoch 18/30\n",
      "219/219 [==============================] - 0s 1ms/step - loss: 0.0200 - accuracy: 0.9916 - val_loss: 0.0313 - val_accuracy: 0.9879\n",
      "Epoch 19/30\n",
      "219/219 [==============================] - 0s 1ms/step - loss: 0.0196 - accuracy: 0.9919 - val_loss: 0.0301 - val_accuracy: 0.9881\n",
      "Epoch 20/30\n",
      "219/219 [==============================] - 0s 2ms/step - loss: 0.0188 - accuracy: 0.9922 - val_loss: 0.0312 - val_accuracy: 0.9879\n",
      "Epoch 21/30\n",
      "219/219 [==============================] - 0s 1ms/step - loss: 0.0186 - accuracy: 0.9923 - val_loss: 0.0308 - val_accuracy: 0.9882\n",
      "Epoch 22/30\n",
      "219/219 [==============================] - 0s 2ms/step - loss: 0.0179 - accuracy: 0.9925 - val_loss: 0.0320 - val_accuracy: 0.9878\n",
      "Epoch 23/30\n",
      "219/219 [==============================] - 0s 2ms/step - loss: 0.0175 - accuracy: 0.9927 - val_loss: 0.0323 - val_accuracy: 0.9880\n",
      "Epoch 24/30\n",
      "219/219 [==============================] - 0s 1ms/step - loss: 0.0170 - accuracy: 0.9930 - val_loss: 0.0326 - val_accuracy: 0.9879\n",
      "Epoch 25/30\n",
      "219/219 [==============================] - 0s 1ms/step - loss: 0.0167 - accuracy: 0.9930 - val_loss: 0.0334 - val_accuracy: 0.9877\n",
      "Epoch 26/30\n",
      "219/219 [==============================] - 0s 1ms/step - loss: 0.0161 - accuracy: 0.9934 - val_loss: 0.0339 - val_accuracy: 0.9877\n",
      "Epoch 27/30\n",
      "219/219 [==============================] - 0s 1ms/step - loss: 0.0155 - accuracy: 0.9936 - val_loss: 0.0354 - val_accuracy: 0.9876\n",
      "Epoch 28/30\n",
      "219/219 [==============================] - 0s 1ms/step - loss: 0.0152 - accuracy: 0.9937 - val_loss: 0.0353 - val_accuracy: 0.9877\n",
      "Epoch 29/30\n",
      "219/219 [==============================] - 0s 1ms/step - loss: 0.0150 - accuracy: 0.9938 - val_loss: 0.0358 - val_accuracy: 0.9878\n",
      "Epoch 30/30\n",
      "219/219 [==============================] - 0s 2ms/step - loss: 0.0144 - accuracy: 0.9941 - val_loss: 0.0369 - val_accuracy: 0.9877\n",
      "Training the model took 10.39 seconds\n"
     ]
    }
   ],
   "source": [
    "sequence_length = chunk_size\n",
    "one_hot_length = 5\n",
    "input_shape = (sequence_length, one_hot_length)\n",
    "num_classes = 5\n",
    "\n",
    "model = Sequential()\n",
    "model.add(Conv1D(filters=64, kernel_size=2, padding='same', activation='relu', input_shape=input_shape))\n",
    "\n",
    "\n",
    "model.add(Conv1D(filters=64, kernel_size=2, padding='same', activation='relu'))\n",
    "model.add(MaxPooling1D(pool_size=1))\n",
    "\n",
    "model.add(Flatten())\n",
    "model.add(Dense(96, activation='relu', kernel_initializer='he_normal'))\n",
    "\n",
    "model.add(Dense(450*5, activation='softmax'))\n",
    "model.add(Reshape((450,5)))\n",
    "model.compile(loss='categorical_crossentropy', optimizer= Adam(learning_rate=0.0012513458296776205), metrics=['accuracy'])\n",
    "print(model.summary())\n",
    "\n",
    "start_time = time.time()\n",
    "log_dir = \"logs/CNNonshm/\" + datetime.datetime.now().strftime(\"%Y%m%d-%H%M%S\")\n",
    "tf_callback = tf.keras.callbacks.TensorBoard(log_dir=log_dir)\n",
    "\n",
    "X_train, X_test, y_train, y_test = train_test_split(X,y, test_size=.3)\n",
    "model.fit(X_train, y_train, validation_data = (X_test, y_test), epochs=30, batch_size=32, callbacks=[tf_callback])\n",
    "end_time = time.time()\n",
    "training_time = end_time - start_time\n",
    "print(\"Training the model took {:.2f} seconds\".format(training_time))"
   ]
  },
  {
   "cell_type": "code",
   "execution_count": 53,
   "id": "14678247-5711-453c-8bc8-ae0edaf1ef59",
   "metadata": {
    "tags": []
   },
   "outputs": [
    {
     "name": "stdout",
     "output_type": "stream",
     "text": [
      "94/94 [==============================] - 0s 488us/step\n"
     ]
    }
   ],
   "source": [
    "y_pred = model.predict(X_test)\n",
    "pred_classes = np.argmax(y_pred, axis=-1)"
   ]
  },
  {
   "cell_type": "code",
   "execution_count": 54,
   "id": "9f697d21-981c-40f3-a8ea-5ad1d236a076",
   "metadata": {
    "tags": []
   },
   "outputs": [],
   "source": [
    "y_true = np.argmax(y_test,axis=-1)"
   ]
  },
  {
   "cell_type": "code",
   "execution_count": 58,
   "id": "53093d31-7187-442f-bc14-d4016642e274",
   "metadata": {
    "tags": []
   },
   "outputs": [],
   "source": [
    "def plot_confusion_matrix(cm, classes=None, title='Confusion matrix'):\n",
    "    \"\"\"Plots a confusion matrix.\"\"\"\n",
    "    if classes is not None:\n",
    "        sns.heatmap(cm, xticklabels=classes, yticklabels=classes, vmin=0., vmax=1., annot=True)\n",
    "    else:\n",
    "        sns.heatmap(cm, vmin=0., vmax=1.)\n",
    "    plt.title(title)\n",
    "    plt.ylabel('True label')\n",
    "    plt.xlabel('Predicted label')"
   ]
  },
  {
   "cell_type": "code",
   "execution_count": 59,
   "id": "d3af17da-99aa-45a1-9895-e21e626fa0e7",
   "metadata": {
    "tags": []
   },
   "outputs": [
    {
     "data": {
      "text/plain": [
       "([<matplotlib.axis.YTick at 0x7fc7e573fe50>,\n",
       "  <matplotlib.axis.YTick at 0x7fc7e573d850>,\n",
       "  <matplotlib.axis.YTick at 0x7fc7dc8b7b90>,\n",
       "  <matplotlib.axis.YTick at 0x7fc7e57cb690>,\n",
       "  <matplotlib.axis.YTick at 0x7fc7e57cd8d0>],\n",
       " [Text(0, 0.5, 'V'),\n",
       "  Text(0, 1.5, 'D'),\n",
       "  Text(0, 2.5, 'J'),\n",
       "  Text(0, 3.5, 'N'),\n",
       "  Text(0, 4.5, 'X')])"
      ]
     },
     "execution_count": 59,
     "metadata": {},
     "output_type": "execute_result"
    },
    {
     "data": {
      "image/png": "[encoded data removed]",
      "text/plain": [
       "<Figure size 640x480 with 2 Axes>"
      ]
     },
     "metadata": {},
     "output_type": "display_data"
    }
   ],
   "source": [
    "y_true_flat = y_true.flatten()\n",
    "y_pred_flat = pred_classes.flatten()\n",
    "cm = confusion_matrix(y_true_flat,y_pred_flat)\n",
    "cm_norm = cm/cm.sum(axis=1)[:, np.newaxis]\n",
    "plt.figure()\n",
    "plot_confusion_matrix(cm_norm, classes=['V', 'D', 'J', 'N', 'X'])\n",
    "labels = ['V', 'D', 'J', 'N', 'X']\n",
    "plt.xticks(np.arange(5) + 0.5, labels)\n",
    "plt.yticks(np.arange(5) + 0.5, labels)"
   ]
  },
  {
   "cell_type": "code",
   "execution_count": 61,
   "id": "daad1bff-1940-49ef-a7ff-441e99b1a282",
   "metadata": {
    "tags": []
   },
   "outputs": [],
   "source": [
    "from sklearn.metrics import accuracy_score, precision_score, recall_score, f1_score\n",
    "\n",
    "from sklearn.metrics import roc_curve, auc\n",
    "from sklearn.preprocessing import label_binarize\n",
    "from scipy import interp\n",
    "from itertools import cycle"
   ]
  },
  {
   "cell_type": "code",
   "execution_count": 63,
   "id": "2e1dc7cb-4171-4495-addb-37141b23eba9",
   "metadata": {
    "tags": []
   },
   "outputs": [
    {
     "name": "stdout",
     "output_type": "stream",
     "text": [
      "Accuracy: 0.9876592592592592\n",
      "Precision: 0.9266639633068877\n",
      "Recall: 0.9268696307041744\n",
      "F1 Score: 0.9266998376928164\n"
     ]
    }
   ],
   "source": [
    "# accuracy\n",
    "accuracy = accuracy_score(y_true_flat, y_pred_flat)\n",
    "print('Accuracy:', accuracy)\n",
    "\n",
    "# precision\n",
    "precision = precision_score(y_true_flat, y_pred_flat, average='macro')\n",
    "print('Precision:', precision)\n",
    "\n",
    "# recall\n",
    "recall = recall_score(y_true_flat, y_pred_flat, average='macro')\n",
    "print('Recall:', recall)\n",
    "\n",
    "# F1-score\n",
    "f1 = f1_score(y_true_flat, y_pred_flat, average='macro')\n",
    "print('F1 Score:', f1)"
   ]
  },
  {
   "cell_type": "code",
   "execution_count": 66,
   "id": "ef920fd1-fb0d-4fc8-8588-2303e9f1469c",
   "metadata": {
    "tags": []
   },
   "outputs": [
    {
     "data": {
      "image/png": "[encoded data removed]",
      "text/plain": [
       "<Figure size 640x480 with 1 Axes>"
      ]
     },
     "metadata": {},
     "output_type": "display_data"
    }
   ],
   "source": [
    "vdjclass = [\"V\",\"D\",\"J\",\"N\",\"X\"]\n",
    "plt.figure()\n",
    "for i in range(5):\n",
    "    y_pred_1d = y_pred[:,:,i].ravel()\n",
    "    y_true_1d = y_test[:,:,i].ravel()\n",
    "    fpr, tpr, _ = roc_curve(y_true_1d, y_pred_1d)\n",
    "    roc_auc = auc(fpr, tpr)\n",
    "    \n",
    "    plt.plot(fpr, tpr, label='Class %s (AUC = %0.2f)' % (vdjclass[i],roc_auc))\n",
    "plt.plot([0, 1], [0, 1], 'k--')\n",
    "plt.xlim([0.0, 1.0])\n",
    "plt.ylim([0.0, 1.05])\n",
    "plt.xlabel('False Positive Rate')\n",
    "plt.ylabel('True Positive Rate')\n",
    "plt.title('Receiver operating characteristic (ROC) curve ')\n",
    "plt.legend(loc=\"lower right\")\n",
    "plt.show()"
   ]
  },
  {
   "cell_type": "code",
   "execution_count": null,
   "id": "2242f6b5-f9c9-45d1-8e8c-e0aba0070815",
   "metadata": {},
   "outputs": [],
   "source": []
  }
 ],
 "metadata": {
  "kernelspec": {
   "display_name": "test",
   "language": "python",
   "name": "test"
  },
  "language_info": {
   "codemirror_mode": {
    "name": "ipython",
    "version": 3
   },
   "file_extension": ".py",
   "mimetype": "text/x-python",
   "name": "python",
   "nbconvert_exporter": "python",
   "pygments_lexer": "ipython3",
   "version": "3.11.4"
  }
 },
 "nbformat": 4,
 "nbformat_minor": 5
}
