{
 "cells": [
  {
   "cell_type": "code",
   "execution_count": 1,
   "id": "be3fdac2-0f54-4d3b-8772-a718f759ddea",
   "metadata": {
    "tags": []
   },
   "outputs": [
    {
     "name": "stderr",
     "output_type": "stream",
     "text": [
      "2023-07-30 20:22:42.136241: I tensorflow/core/util/port.cc:110] oneDNN custom operations are on. You may see slightly different numerical results due to floating-point round-off errors from different computation orders. To turn them off, set the environment variable `TF_ENABLE_ONEDNN_OPTS=0`.\n",
      "2023-07-30 20:22:42.156760: I tensorflow/core/platform/cpu_feature_guard.cc:182] This TensorFlow binary is optimized to use available CPU instructions in performance-critical operations.\n",
      "To enable the following instructions: SSE4.1 SSE4.2 AVX AVX2 AVX_VNNI FMA, in other operations, rebuild TensorFlow with the appropriate compiler flags.\n"
     ]
    }
   ],
   "source": [
    "import os\n",
    "import re\n",
    "import pandas as pd\n",
    "import numpy as np\n",
    "import tensorflow as tf\n",
    "from sklearn.metrics import confusion_matrix\n",
    "import matplotlib.pyplot as plt\n",
    "import seaborn as sns\n",
    "import nbformat\n",
    "\n",
    "from keras.models import Sequential\n",
    "from keras.layers import Dense, Conv1D, MaxPooling1D, Flatten,Dropout,Conv2D\n",
    "from keras.layers import LSTM\n",
    "from keras.layers import Reshape\n",
    "from sklearn.model_selection import train_test_split\n",
    "# Load the TensorBoard notebook extension\n",
    "%load_ext tensorboard\n",
    "import datetime"
   ]
  },
  {
   "cell_type": "code",
   "execution_count": 2,
   "id": "58499ad2-e122-454d-a7e4-9cba365322ac",
   "metadata": {
    "tags": []
   },
   "outputs": [
    {
     "name": "stdout",
     "output_type": "stream",
     "text": [
      "The tensorboard extension is already loaded. To reload it, use:\n",
      "  %reload_ext tensorboard\n"
     ]
    }
   ],
   "source": [
    "%run 'one_hot.ipynb'"
   ]
  },
  {
   "cell_type": "code",
   "execution_count": 3,
   "id": "bd93070a-c411-492c-9980-f6f732eb51ca",
   "metadata": {
    "tags": []
   },
   "outputs": [
    {
     "name": "stdout",
     "output_type": "stream",
     "text": [
      "GPU device: PhysicalDevice(name='/physical_device:GPU:0', device_type='GPU')\n",
      "number of GPU device:  1\n"
     ]
    },
    {
     "name": "stderr",
     "output_type": "stream",
     "text": [
      "2023-07-30 20:22:44.073931: I tensorflow/compiler/xla/stream_executor/cuda/cuda_gpu_executor.cc:996] successful NUMA node read from SysFS had negative value (-1), but there must be at least one NUMA node, so returning NUMA node zero. See more at https://github.com/torvalds/linux/blob/v6.0/Documentation/ABI/testing/sysfs-bus-pci#L344-L355\n",
      "2023-07-30 20:22:44.086031: I tensorflow/compiler/xla/stream_executor/cuda/cuda_gpu_executor.cc:996] successful NUMA node read from SysFS had negative value (-1), but there must be at least one NUMA node, so returning NUMA node zero. See more at https://github.com/torvalds/linux/blob/v6.0/Documentation/ABI/testing/sysfs-bus-pci#L344-L355\n",
      "2023-07-30 20:22:44.086116: I tensorflow/compiler/xla/stream_executor/cuda/cuda_gpu_executor.cc:996] successful NUMA node read from SysFS had negative value (-1), but there must be at least one NUMA node, so returning NUMA node zero. See more at https://github.com/torvalds/linux/blob/v6.0/Documentation/ABI/testing/sysfs-bus-pci#L344-L355\n"
     ]
    }
   ],
   "source": [
    "gpus = tf.config.list_physical_devices('GPU')\n",
    "\n",
    "if gpus:\n",
    "    for gpu in gpus:\n",
    "        print(\"GPU device:\", gpu)\n",
    "        print(\"number of GPU device: \",len(tf.config.experimental.list_physical_devices('GPU')))\n",
    "else:\n",
    "    print(\"No GPU devices found.\")\n",
    "\n",
    "\n",
    "tf.config.experimental.set_memory_growth(gpus[0], True)\n",
    "\n"
   ]
  },
  {
   "cell_type": "code",
   "execution_count": 4,
   "id": "70723b97-b7d3-40a5-bf50-1f22272a0ccf",
   "metadata": {
    "tags": []
   },
   "outputs": [],
   "source": [
    "fasta_file = os.path.join('..','repertoire','shm','shm_default.fasta')\n",
    "annotation_file = os.path.join('..','repertoire','shm','shm_default.tsv')"
   ]
  },
  {
   "cell_type": "code",
   "execution_count": 5,
   "id": "ae326e3a-f743-4005-b56d-7ee738dadf11",
   "metadata": {
    "tags": []
   },
   "outputs": [],
   "source": [
    "# pad the sequence and get the input\n",
    "def process_input(sequences,chunk_size):\n",
    "    \"\"\"\n",
    "    To ensure every sequence has the same length, I pad the sequence with \"N\" up to the length of set chunk_size\n",
    "    Then encode every sequence to get the final input for the model\n",
    "    input: a list of raw sequences and chunk size\n",
    "    output: the input of model (X)\n",
    "    \"\"\"\n",
    "    padded_seq = []\n",
    "    pad = ''\n",
    "    for seq in sequences:\n",
    "        pad = seq.ljust(chunk_size, 'N')\n",
    "        padded_seq.append(pad)\n",
    "    \n",
    "    combined_sequence = ''.join(padded_seq)\n",
    "    one_hot_sequences = one_hot_encode(combined_sequence) \n",
    "   \n",
    "    return one_hot_sequences"
   ]
  },
  {
   "cell_type": "code",
   "execution_count": 6,
   "id": "1f93cc49-2c4f-4a2d-9bb2-ac0afdcdd6e4",
   "metadata": {
    "tags": []
   },
   "outputs": [
    {
     "name": "stderr",
     "output_type": "stream",
     "text": [
      "/tmp/ipykernel_405649/3505619144.py:14: DeprecationWarning: The binary mode of fromstring is deprecated, as it behaves surprisingly on unicode inputs. Use frombuffer instead\n",
      "  seq_array = np.fromstring(seq, np.int8)\n"
     ]
    },
    {
     "data": {
      "text/plain": [
       "(4500000, 5)"
      ]
     },
     "execution_count": 6,
     "metadata": {},
     "output_type": "execute_result"
    }
   ],
   "source": [
    "chunk_size=450\n",
    "sequences = input_file(fasta_file)\n",
    "X = process_input(sequences,chunk_size)\n",
    "X.shape"
   ]
  },
  {
   "cell_type": "code",
   "execution_count": 7,
   "id": "32e8e248-2534-4167-8e15-8d663c7fa351",
   "metadata": {
    "tags": []
   },
   "outputs": [
    {
     "name": "stderr",
     "output_type": "stream",
     "text": [
      "/tmp/ipykernel_405649/2970507474.py:8: DeprecationWarning: The binary mode of fromstring is deprecated, as it behaves surprisingly on unicode inputs. Use frombuffer instead\n",
      "  return np.fromstring(seq, np.int8)\n",
      "/tmp/ipykernel_405649/3818073805.py:14: DeprecationWarning: The binary mode of fromstring is deprecated, as it behaves surprisingly on unicode inputs. Use frombuffer instead\n",
      "  seq_array = np.fromstring(seq, np.int8)\n"
     ]
    }
   ],
   "source": [
    "df = pd.read_csv(annotation_file, sep='\\t', header=0)\n",
    "chunk_size=450\n",
    "VDJ_seq = []\n",
    "VDJ_num = []\n",
    "for i in range(len(df)):\n",
    "    seq = translate_output(df,i)\n",
    "    seq_num = output_catogory(seq)\n",
    "    VDJ_seq.append(seq)\n",
    "    VDJ_num.append(seq_num)\n",
    "        \n",
    "combined_vdj = ''.join(VDJ_seq)\n",
    "encoded_vdj = output_encoding(combined_vdj)"
   ]
  },
  {
   "cell_type": "code",
   "execution_count": 8,
   "id": "4000f3ea-dba8-4512-87c2-32a83454ee63",
   "metadata": {
    "tags": []
   },
   "outputs": [
    {
     "name": "stdout",
     "output_type": "stream",
     "text": [
      "4500000\n",
      "(4500000, 5)\n"
     ]
    }
   ],
   "source": [
    "print(len(combined_vdj))\n",
    "print(encoded_vdj.shape)\n",
    "y = encoded_vdj"
   ]
  },
  {
   "cell_type": "code",
   "execution_count": 9,
   "id": "4833515d-bead-4839-bbc3-245f6ee0bdfd",
   "metadata": {
    "tags": []
   },
   "outputs": [],
   "source": [
    "train_data_ratio = 0.8 # Choose 80% of the data for training\n",
    "data_len = len(X)\n",
    "train_data_len = int(data_len*train_data_ratio)\n",
    "train_x = X[:train_data_len]\n",
    "train_y = y[:train_data_len]\n",
    "test_x = X[train_data_len:]\n",
    "test_y = y[train_data_len:]"
   ]
  },
  {
   "cell_type": "code",
   "execution_count": 10,
   "id": "e0be1b40-e953-4b6a-b118-7e6d453ba762",
   "metadata": {
    "tags": []
   },
   "outputs": [],
   "source": [
    "timesteps = 450  \n",
    "\n",
    "train_x_tensor = np.array([train_x[i:i+timesteps] for i in range(0, train_x.shape[0]-timesteps+1, timesteps)])\n",
    "train_y_tensor = np.array([train_y[i:i+timesteps] for i in range(0, train_y.shape[0]-timesteps+1, timesteps)])\n",
    "test_x_tensor = np.array([test_x[i:i+timesteps] for i in range(0, test_x.shape[0]-timesteps+1, timesteps)])\n",
    "test_y_tensor = np.array([test_y[i:i+timesteps] for i in range(0, test_y.shape[0]-timesteps+1, timesteps)])\n"
   ]
  },
  {
   "cell_type": "code",
   "execution_count": 11,
   "id": "8674c72b-9f83-451e-a791-326e30f5f381",
   "metadata": {
    "tags": []
   },
   "outputs": [],
   "source": [
    "EPCOHS = 100 #  an arbitrary cutoff, generally defined as \"one pass over the entire dataset\", used to separate training into distinct phases, which is useful for logging and periodic evaluation.\n",
    "BATCH_SIZE = 450 # a set of N samples. The samples in a batch are processed` independently, in parallel. If training, a batch results in only one update to the model.\n",
    "INPUT_DIM = 4 # a vocabulary of 4 words in case of fnn sequence (ATCG)\n",
    "OUTPUT_DIM = 50 # Embedding output\n",
    "RNN_HIDDEN_DIM = 62\n",
    "DROPOUT_RATIO = 0.2 # proportion of neurones not used for training\n",
    "MAXLEN = 150 # cuts text after number of these characters in pad_sequences"
   ]
  },
  {
   "cell_type": "code",
   "execution_count": 16,
   "id": "38c7444f-6f4e-46c1-8044-9f48cbdfd215",
   "metadata": {
    "tags": []
   },
   "outputs": [],
   "source": [
    "from keras.layers import Dense, Dropout, LSTM, Embedding, Activation, Lambda, Bidirectional\n",
    "from tensorflow.keras.layers import TimeDistributed\n",
    "import time"
   ]
  },
  {
   "cell_type": "code",
   "execution_count": 17,
   "id": "26421f0a-a3e9-4de2-8a9d-dd81369179c5",
   "metadata": {
    "tags": []
   },
   "outputs": [
    {
     "name": "stderr",
     "output_type": "stream",
     "text": [
      "2023-07-30 20:24:52.239031: I tensorflow/core/common_runtime/executor.cc:1197] [/device:CPU:0] (DEBUG INFO) Executor start aborting (this does not indicate an error and you can ignore this message): INVALID_ARGUMENT: You must feed a value for placeholder tensor 'gradients/split_2_grad/concat/split_2/split_dim' with dtype int32\n",
      "\t [[{{node gradients/split_2_grad/concat/split_2/split_dim}}]]\n",
      "2023-07-30 20:24:52.239604: I tensorflow/core/common_runtime/executor.cc:1197] [/device:CPU:0] (DEBUG INFO) Executor start aborting (this does not indicate an error and you can ignore this message): INVALID_ARGUMENT: You must feed a value for placeholder tensor 'gradients/split_grad/concat/split/split_dim' with dtype int32\n",
      "\t [[{{node gradients/split_grad/concat/split/split_dim}}]]\n",
      "2023-07-30 20:24:52.240010: I tensorflow/core/common_runtime/executor.cc:1197] [/device:CPU:0] (DEBUG INFO) Executor start aborting (this does not indicate an error and you can ignore this message): INVALID_ARGUMENT: You must feed a value for placeholder tensor 'gradients/split_1_grad/concat/split_1/split_dim' with dtype int32\n",
      "\t [[{{node gradients/split_1_grad/concat/split_1/split_dim}}]]\n",
      "2023-07-30 20:24:52.287881: I tensorflow/core/common_runtime/executor.cc:1197] [/device:CPU:0] (DEBUG INFO) Executor start aborting (this does not indicate an error and you can ignore this message): INVALID_ARGUMENT: You must feed a value for placeholder tensor 'gradients/ReverseV2_grad/ReverseV2/ReverseV2/axis' with dtype int32 and shape [1]\n",
      "\t [[{{node gradients/ReverseV2_grad/ReverseV2/ReverseV2/axis}}]]\n",
      "2023-07-30 20:24:52.303992: I tensorflow/core/common_runtime/executor.cc:1197] [/device:CPU:0] (DEBUG INFO) Executor start aborting (this does not indicate an error and you can ignore this message): INVALID_ARGUMENT: You must feed a value for placeholder tensor 'gradients/split_2_grad/concat/split_2/split_dim' with dtype int32\n",
      "\t [[{{node gradients/split_2_grad/concat/split_2/split_dim}}]]\n",
      "2023-07-30 20:24:52.304460: I tensorflow/core/common_runtime/executor.cc:1197] [/device:CPU:0] (DEBUG INFO) Executor start aborting (this does not indicate an error and you can ignore this message): INVALID_ARGUMENT: You must feed a value for placeholder tensor 'gradients/split_grad/concat/split/split_dim' with dtype int32\n",
      "\t [[{{node gradients/split_grad/concat/split/split_dim}}]]\n",
      "2023-07-30 20:24:52.304863: I tensorflow/core/common_runtime/executor.cc:1197] [/device:CPU:0] (DEBUG INFO) Executor start aborting (this does not indicate an error and you can ignore this message): INVALID_ARGUMENT: You must feed a value for placeholder tensor 'gradients/split_1_grad/concat/split_1/split_dim' with dtype int32\n",
      "\t [[{{node gradients/split_1_grad/concat/split_1/split_dim}}]]\n",
      "2023-07-30 20:24:52.384103: I tensorflow/core/common_runtime/executor.cc:1197] [/device:CPU:0] (DEBUG INFO) Executor start aborting (this does not indicate an error and you can ignore this message): INVALID_ARGUMENT: You must feed a value for placeholder tensor 'gradients/split_2_grad/concat/split_2/split_dim' with dtype int32\n",
      "\t [[{{node gradients/split_2_grad/concat/split_2/split_dim}}]]\n",
      "2023-07-30 20:24:52.384585: I tensorflow/core/common_runtime/executor.cc:1197] [/device:CPU:0] (DEBUG INFO) Executor start aborting (this does not indicate an error and you can ignore this message): INVALID_ARGUMENT: You must feed a value for placeholder tensor 'gradients/split_grad/concat/split/split_dim' with dtype int32\n",
      "\t [[{{node gradients/split_grad/concat/split/split_dim}}]]\n",
      "2023-07-30 20:24:52.385029: I tensorflow/core/common_runtime/executor.cc:1197] [/device:CPU:0] (DEBUG INFO) Executor start aborting (this does not indicate an error and you can ignore this message): INVALID_ARGUMENT: You must feed a value for placeholder tensor 'gradients/split_1_grad/concat/split_1/split_dim' with dtype int32\n",
      "\t [[{{node gradients/split_1_grad/concat/split_1/split_dim}}]]\n",
      "2023-07-30 20:24:52.432603: I tensorflow/core/common_runtime/executor.cc:1197] [/device:CPU:0] (DEBUG INFO) Executor start aborting (this does not indicate an error and you can ignore this message): INVALID_ARGUMENT: You must feed a value for placeholder tensor 'gradients/ReverseV2_grad/ReverseV2/ReverseV2/axis' with dtype int32 and shape [1]\n",
      "\t [[{{node gradients/ReverseV2_grad/ReverseV2/ReverseV2/axis}}]]\n"
     ]
    },
    {
     "name": "stdout",
     "output_type": "stream",
     "text": [
      "Model: \"sequential_3\"\n",
      "_________________________________________________________________\n",
      " Layer (type)                Output Shape              Param #   \n",
      "=================================================================\n",
      " bidirectional_6 (Bidirectio  (None, 450, 124)         33728     \n",
      " nal)                                                            \n",
      "                                                                 \n",
      " dropout_6 (Dropout)         (None, 450, 124)          0         \n",
      "                                                                 \n",
      " bidirectional_7 (Bidirectio  (None, 450, 124)         92752     \n",
      " nal)                                                            \n",
      "                                                                 \n",
      " time_distributed_3 (TimeDis  (None, 450, 5)           625       \n",
      " tributed)                                                       \n",
      "                                                                 \n",
      " dropout_7 (Dropout)         (None, 450, 5)            0         \n",
      "                                                                 \n",
      " dense_7 (Dense)             (None, 450, 5)            30        \n",
      "                                                                 \n",
      "=================================================================\n",
      "Total params: 127,135\n",
      "Trainable params: 127,135\n",
      "Non-trainable params: 0\n",
      "_________________________________________________________________\n",
      "None\n",
      "Epoch 1/150\n"
     ]
    },
    {
     "name": "stderr",
     "output_type": "stream",
     "text": [
      "2023-07-30 20:24:52.452338: I tensorflow/core/common_runtime/executor.cc:1197] [/device:CPU:0] (DEBUG INFO) Executor start aborting (this does not indicate an error and you can ignore this message): INVALID_ARGUMENT: You must feed a value for placeholder tensor 'gradients/split_2_grad/concat/split_2/split_dim' with dtype int32\n",
      "\t [[{{node gradients/split_2_grad/concat/split_2/split_dim}}]]\n",
      "2023-07-30 20:24:52.452869: I tensorflow/core/common_runtime/executor.cc:1197] [/device:CPU:0] (DEBUG INFO) Executor start aborting (this does not indicate an error and you can ignore this message): INVALID_ARGUMENT: You must feed a value for placeholder tensor 'gradients/split_grad/concat/split/split_dim' with dtype int32\n",
      "\t [[{{node gradients/split_grad/concat/split/split_dim}}]]\n",
      "2023-07-30 20:24:52.453271: I tensorflow/core/common_runtime/executor.cc:1197] [/device:CPU:0] (DEBUG INFO) Executor start aborting (this does not indicate an error and you can ignore this message): INVALID_ARGUMENT: You must feed a value for placeholder tensor 'gradients/split_1_grad/concat/split_1/split_dim' with dtype int32\n",
      "\t [[{{node gradients/split_1_grad/concat/split_1/split_dim}}]]\n",
      "2023-07-30 20:24:52.686046: I tensorflow/core/common_runtime/executor.cc:1197] [/device:CPU:0] (DEBUG INFO) Executor start aborting (this does not indicate an error and you can ignore this message): INVALID_ARGUMENT: You must feed a value for placeholder tensor 'gradients/split_2_grad/concat/split_2/split_dim' with dtype int32\n",
      "\t [[{{node gradients/split_2_grad/concat/split_2/split_dim}}]]\n",
      "2023-07-30 20:24:52.686744: I tensorflow/core/common_runtime/executor.cc:1197] [/device:CPU:0] (DEBUG INFO) Executor start aborting (this does not indicate an error and you can ignore this message): INVALID_ARGUMENT: You must feed a value for placeholder tensor 'gradients/split_grad/concat/split/split_dim' with dtype int32\n",
      "\t [[{{node gradients/split_grad/concat/split/split_dim}}]]\n",
      "2023-07-30 20:24:52.687314: I tensorflow/core/common_runtime/executor.cc:1197] [/device:CPU:0] (DEBUG INFO) Executor start aborting (this does not indicate an error and you can ignore this message): INVALID_ARGUMENT: You must feed a value for placeholder tensor 'gradients/split_1_grad/concat/split_1/split_dim' with dtype int32\n",
      "\t [[{{node gradients/split_1_grad/concat/split_1/split_dim}}]]\n",
      "2023-07-30 20:24:52.748019: I tensorflow/core/common_runtime/executor.cc:1197] [/device:CPU:0] (DEBUG INFO) Executor start aborting (this does not indicate an error and you can ignore this message): INVALID_ARGUMENT: You must feed a value for placeholder tensor 'gradients/ReverseV2_grad/ReverseV2/ReverseV2/axis' with dtype int32 and shape [1]\n",
      "\t [[{{node gradients/ReverseV2_grad/ReverseV2/ReverseV2/axis}}]]\n",
      "2023-07-30 20:24:52.770794: I tensorflow/core/common_runtime/executor.cc:1197] [/device:CPU:0] (DEBUG INFO) Executor start aborting (this does not indicate an error and you can ignore this message): INVALID_ARGUMENT: You must feed a value for placeholder tensor 'gradients/split_2_grad/concat/split_2/split_dim' with dtype int32\n",
      "\t [[{{node gradients/split_2_grad/concat/split_2/split_dim}}]]\n",
      "2023-07-30 20:24:52.771374: I tensorflow/core/common_runtime/executor.cc:1197] [/device:CPU:0] (DEBUG INFO) Executor start aborting (this does not indicate an error and you can ignore this message): INVALID_ARGUMENT: You must feed a value for placeholder tensor 'gradients/split_grad/concat/split/split_dim' with dtype int32\n",
      "\t [[{{node gradients/split_grad/concat/split/split_dim}}]]\n",
      "2023-07-30 20:24:52.771943: I tensorflow/core/common_runtime/executor.cc:1197] [/device:CPU:0] (DEBUG INFO) Executor start aborting (this does not indicate an error and you can ignore this message): INVALID_ARGUMENT: You must feed a value for placeholder tensor 'gradients/split_1_grad/concat/split_1/split_dim' with dtype int32\n",
      "\t [[{{node gradients/split_1_grad/concat/split_1/split_dim}}]]\n",
      "2023-07-30 20:24:52.855248: I tensorflow/core/common_runtime/executor.cc:1197] [/device:CPU:0] (DEBUG INFO) Executor start aborting (this does not indicate an error and you can ignore this message): INVALID_ARGUMENT: You must feed a value for placeholder tensor 'gradients/split_2_grad/concat/split_2/split_dim' with dtype int32\n",
      "\t [[{{node gradients/split_2_grad/concat/split_2/split_dim}}]]\n",
      "2023-07-30 20:24:52.855886: I tensorflow/core/common_runtime/executor.cc:1197] [/device:CPU:0] (DEBUG INFO) Executor start aborting (this does not indicate an error and you can ignore this message): INVALID_ARGUMENT: You must feed a value for placeholder tensor 'gradients/split_grad/concat/split/split_dim' with dtype int32\n",
      "\t [[{{node gradients/split_grad/concat/split/split_dim}}]]\n",
      "2023-07-30 20:24:52.856425: I tensorflow/core/common_runtime/executor.cc:1197] [/device:CPU:0] (DEBUG INFO) Executor start aborting (this does not indicate an error and you can ignore this message): INVALID_ARGUMENT: You must feed a value for placeholder tensor 'gradients/split_1_grad/concat/split_1/split_dim' with dtype int32\n",
      "\t [[{{node gradients/split_1_grad/concat/split_1/split_dim}}]]\n",
      "2023-07-30 20:24:53.115690: I tensorflow/core/common_runtime/executor.cc:1197] [/device:CPU:0] (DEBUG INFO) Executor start aborting (this does not indicate an error and you can ignore this message): INVALID_ARGUMENT: You must feed a value for placeholder tensor 'gradients/ReverseV2_grad/ReverseV2/ReverseV2/axis' with dtype int32 and shape [1]\n",
      "\t [[{{node gradients/ReverseV2_grad/ReverseV2/ReverseV2/axis}}]]\n",
      "2023-07-30 20:24:53.138554: I tensorflow/core/common_runtime/executor.cc:1197] [/device:CPU:0] (DEBUG INFO) Executor start aborting (this does not indicate an error and you can ignore this message): INVALID_ARGUMENT: You must feed a value for placeholder tensor 'gradients/split_2_grad/concat/split_2/split_dim' with dtype int32\n",
      "\t [[{{node gradients/split_2_grad/concat/split_2/split_dim}}]]\n",
      "2023-07-30 20:24:53.139181: I tensorflow/core/common_runtime/executor.cc:1197] [/device:CPU:0] (DEBUG INFO) Executor start aborting (this does not indicate an error and you can ignore this message): INVALID_ARGUMENT: You must feed a value for placeholder tensor 'gradients/split_grad/concat/split/split_dim' with dtype int32\n",
      "\t [[{{node gradients/split_grad/concat/split/split_dim}}]]\n",
      "2023-07-30 20:24:53.139741: I tensorflow/core/common_runtime/executor.cc:1197] [/device:CPU:0] (DEBUG INFO) Executor start aborting (this does not indicate an error and you can ignore this message): INVALID_ARGUMENT: You must feed a value for placeholder tensor 'gradients/split_1_grad/concat/split_1/split_dim' with dtype int32\n",
      "\t [[{{node gradients/split_1_grad/concat/split_1/split_dim}}]]\n",
      "2023-07-30 20:24:53.279323: I tensorflow/core/common_runtime/executor.cc:1197] [/device:CPU:0] (DEBUG INFO) Executor start aborting (this does not indicate an error and you can ignore this message): INVALID_ARGUMENT: You must feed a value for placeholder tensor 'gradients/ReverseV2_grad/ReverseV2/ReverseV2/axis' with dtype int32 and shape [1]\n",
      "\t [[{{node gradients/ReverseV2_grad/ReverseV2/ReverseV2/axis}}]]\n",
      "2023-07-30 20:24:53.389180: I tensorflow/core/common_runtime/executor.cc:1197] [/device:CPU:0] (DEBUG INFO) Executor start aborting (this does not indicate an error and you can ignore this message): INVALID_ARGUMENT: You must feed a value for placeholder tensor 'gradients/ReverseV2_grad/ReverseV2/ReverseV2/axis' with dtype int32 and shape [1]\n",
      "\t [[{{node gradients/ReverseV2_grad/ReverseV2/ReverseV2/axis}}]]\n",
      "2023-07-30 20:24:53.647530: I tensorflow/core/common_runtime/executor.cc:1197] [/device:CPU:0] (DEBUG INFO) Executor start aborting (this does not indicate an error and you can ignore this message): INVALID_ARGUMENT: You must feed a value for placeholder tensor 'gradients/split_2_grad/concat/split_2/split_dim' with dtype int32\n",
      "\t [[{{node gradients/split_2_grad/concat/split_2/split_dim}}]]\n",
      "2023-07-30 20:24:53.648488: I tensorflow/core/common_runtime/executor.cc:1197] [/device:CPU:0] (DEBUG INFO) Executor start aborting (this does not indicate an error and you can ignore this message): INVALID_ARGUMENT: You must feed a value for placeholder tensor 'gradients/split_grad/concat/split/split_dim' with dtype int32\n",
      "\t [[{{node gradients/split_grad/concat/split/split_dim}}]]\n",
      "2023-07-30 20:24:53.649047: I tensorflow/core/common_runtime/executor.cc:1197] [/device:CPU:0] (DEBUG INFO) Executor start aborting (this does not indicate an error and you can ignore this message): INVALID_ARGUMENT: You must feed a value for placeholder tensor 'gradients/split_1_grad/concat/split_1/split_dim' with dtype int32\n",
      "\t [[{{node gradients/split_1_grad/concat/split_1/split_dim}}]]\n",
      "2023-07-30 20:24:53.709179: I tensorflow/core/common_runtime/executor.cc:1197] [/device:CPU:0] (DEBUG INFO) Executor start aborting (this does not indicate an error and you can ignore this message): INVALID_ARGUMENT: You must feed a value for placeholder tensor 'gradients/ReverseV2_grad/ReverseV2/ReverseV2/axis' with dtype int32 and shape [1]\n",
      "\t [[{{node gradients/ReverseV2_grad/ReverseV2/ReverseV2/axis}}]]\n",
      "2023-07-30 20:24:53.730531: I tensorflow/core/common_runtime/executor.cc:1197] [/device:CPU:0] (DEBUG INFO) Executor start aborting (this does not indicate an error and you can ignore this message): INVALID_ARGUMENT: You must feed a value for placeholder tensor 'gradients/split_2_grad/concat/split_2/split_dim' with dtype int32\n",
      "\t [[{{node gradients/split_2_grad/concat/split_2/split_dim}}]]\n",
      "2023-07-30 20:24:53.731138: I tensorflow/core/common_runtime/executor.cc:1197] [/device:CPU:0] (DEBUG INFO) Executor start aborting (this does not indicate an error and you can ignore this message): INVALID_ARGUMENT: You must feed a value for placeholder tensor 'gradients/split_grad/concat/split/split_dim' with dtype int32\n",
      "\t [[{{node gradients/split_grad/concat/split/split_dim}}]]\n",
      "2023-07-30 20:24:53.731694: I tensorflow/core/common_runtime/executor.cc:1197] [/device:CPU:0] (DEBUG INFO) Executor start aborting (this does not indicate an error and you can ignore this message): INVALID_ARGUMENT: You must feed a value for placeholder tensor 'gradients/split_1_grad/concat/split_1/split_dim' with dtype int32\n",
      "\t [[{{node gradients/split_1_grad/concat/split_1/split_dim}}]]\n",
      "2023-07-30 20:24:53.812797: I tensorflow/core/common_runtime/executor.cc:1197] [/device:CPU:0] (DEBUG INFO) Executor start aborting (this does not indicate an error and you can ignore this message): INVALID_ARGUMENT: You must feed a value for placeholder tensor 'gradients/split_2_grad/concat/split_2/split_dim' with dtype int32\n",
      "\t [[{{node gradients/split_2_grad/concat/split_2/split_dim}}]]\n",
      "2023-07-30 20:24:53.813419: I tensorflow/core/common_runtime/executor.cc:1197] [/device:CPU:0] (DEBUG INFO) Executor start aborting (this does not indicate an error and you can ignore this message): INVALID_ARGUMENT: You must feed a value for placeholder tensor 'gradients/split_grad/concat/split/split_dim' with dtype int32\n",
      "\t [[{{node gradients/split_grad/concat/split/split_dim}}]]\n",
      "2023-07-30 20:24:53.813946: I tensorflow/core/common_runtime/executor.cc:1197] [/device:CPU:0] (DEBUG INFO) Executor start aborting (this does not indicate an error and you can ignore this message): INVALID_ARGUMENT: You must feed a value for placeholder tensor 'gradients/split_1_grad/concat/split_1/split_dim' with dtype int32\n",
      "\t [[{{node gradients/split_1_grad/concat/split_1/split_dim}}]]\n",
      "2023-07-30 20:24:53.873158: I tensorflow/core/common_runtime/executor.cc:1197] [/device:CPU:0] (DEBUG INFO) Executor start aborting (this does not indicate an error and you can ignore this message): INVALID_ARGUMENT: You must feed a value for placeholder tensor 'gradients/ReverseV2_grad/ReverseV2/ReverseV2/axis' with dtype int32 and shape [1]\n",
      "\t [[{{node gradients/ReverseV2_grad/ReverseV2/ReverseV2/axis}}]]\n",
      "2023-07-30 20:24:53.894415: I tensorflow/core/common_runtime/executor.cc:1197] [/device:CPU:0] (DEBUG INFO) Executor start aborting (this does not indicate an error and you can ignore this message): INVALID_ARGUMENT: You must feed a value for placeholder tensor 'gradients/split_2_grad/concat/split_2/split_dim' with dtype int32\n",
      "\t [[{{node gradients/split_2_grad/concat/split_2/split_dim}}]]\n",
      "2023-07-30 20:24:53.894999: I tensorflow/core/common_runtime/executor.cc:1197] [/device:CPU:0] (DEBUG INFO) Executor start aborting (this does not indicate an error and you can ignore this message): INVALID_ARGUMENT: You must feed a value for placeholder tensor 'gradients/split_grad/concat/split/split_dim' with dtype int32\n",
      "\t [[{{node gradients/split_grad/concat/split/split_dim}}]]\n",
      "2023-07-30 20:24:53.895556: I tensorflow/core/common_runtime/executor.cc:1197] [/device:CPU:0] (DEBUG INFO) Executor start aborting (this does not indicate an error and you can ignore this message): INVALID_ARGUMENT: You must feed a value for placeholder tensor 'gradients/split_1_grad/concat/split_1/split_dim' with dtype int32\n",
      "\t [[{{node gradients/split_1_grad/concat/split_1/split_dim}}]]\n",
      "2023-07-30 20:24:54.034613: I tensorflow/core/common_runtime/executor.cc:1197] [/device:CPU:0] (DEBUG INFO) Executor start aborting (this does not indicate an error and you can ignore this message): INVALID_ARGUMENT: You must feed a value for placeholder tensor 'gradients/ReverseV2_grad/ReverseV2/ReverseV2/axis' with dtype int32 and shape [1]\n",
      "\t [[{{node gradients/ReverseV2_grad/ReverseV2/ReverseV2/axis}}]]\n",
      "2023-07-30 20:24:54.144897: I tensorflow/core/common_runtime/executor.cc:1197] [/device:CPU:0] (DEBUG INFO) Executor start aborting (this does not indicate an error and you can ignore this message): INVALID_ARGUMENT: You must feed a value for placeholder tensor 'gradients/ReverseV2_grad/ReverseV2/ReverseV2/axis' with dtype int32 and shape [1]\n",
      "\t [[{{node gradients/ReverseV2_grad/ReverseV2/ReverseV2/axis}}]]\n"
     ]
    },
    {
     "name": "stdout",
     "output_type": "stream",
     "text": [
      "125/125 [==============================] - ETA: 0s - loss: 1.1687 - accuracy: 0.7923"
     ]
    },
    {
     "name": "stderr",
     "output_type": "stream",
     "text": [
      "2023-07-30 20:25:01.014161: I tensorflow/core/common_runtime/executor.cc:1197] [/device:CPU:0] (DEBUG INFO) Executor start aborting (this does not indicate an error and you can ignore this message): INVALID_ARGUMENT: You must feed a value for placeholder tensor 'gradients/split_2_grad/concat/split_2/split_dim' with dtype int32\n",
      "\t [[{{node gradients/split_2_grad/concat/split_2/split_dim}}]]\n",
      "2023-07-30 20:25:01.014851: I tensorflow/core/common_runtime/executor.cc:1197] [/device:CPU:0] (DEBUG INFO) Executor start aborting (this does not indicate an error and you can ignore this message): INVALID_ARGUMENT: You must feed a value for placeholder tensor 'gradients/split_grad/concat/split/split_dim' with dtype int32\n",
      "\t [[{{node gradients/split_grad/concat/split/split_dim}}]]\n",
      "2023-07-30 20:25:01.015366: I tensorflow/core/common_runtime/executor.cc:1197] [/device:CPU:0] (DEBUG INFO) Executor start aborting (this does not indicate an error and you can ignore this message): INVALID_ARGUMENT: You must feed a value for placeholder tensor 'gradients/split_1_grad/concat/split_1/split_dim' with dtype int32\n",
      "\t [[{{node gradients/split_1_grad/concat/split_1/split_dim}}]]\n",
      "2023-07-30 20:25:01.071419: I tensorflow/core/common_runtime/executor.cc:1197] [/device:CPU:0] (DEBUG INFO) Executor start aborting (this does not indicate an error and you can ignore this message): INVALID_ARGUMENT: You must feed a value for placeholder tensor 'gradients/ReverseV2_grad/ReverseV2/ReverseV2/axis' with dtype int32 and shape [1]\n",
      "\t [[{{node gradients/ReverseV2_grad/ReverseV2/ReverseV2/axis}}]]\n",
      "2023-07-30 20:25:01.093201: I tensorflow/core/common_runtime/executor.cc:1197] [/device:CPU:0] (DEBUG INFO) Executor start aborting (this does not indicate an error and you can ignore this message): INVALID_ARGUMENT: You must feed a value for placeholder tensor 'gradients/split_2_grad/concat/split_2/split_dim' with dtype int32\n",
      "\t [[{{node gradients/split_2_grad/concat/split_2/split_dim}}]]\n",
      "2023-07-30 20:25:01.093796: I tensorflow/core/common_runtime/executor.cc:1197] [/device:CPU:0] (DEBUG INFO) Executor start aborting (this does not indicate an error and you can ignore this message): INVALID_ARGUMENT: You must feed a value for placeholder tensor 'gradients/split_grad/concat/split/split_dim' with dtype int32\n",
      "\t [[{{node gradients/split_grad/concat/split/split_dim}}]]\n",
      "2023-07-30 20:25:01.094321: I tensorflow/core/common_runtime/executor.cc:1197] [/device:CPU:0] (DEBUG INFO) Executor start aborting (this does not indicate an error and you can ignore this message): INVALID_ARGUMENT: You must feed a value for placeholder tensor 'gradients/split_1_grad/concat/split_1/split_dim' with dtype int32\n",
      "\t [[{{node gradients/split_1_grad/concat/split_1/split_dim}}]]\n",
      "2023-07-30 20:25:01.171594: I tensorflow/core/common_runtime/executor.cc:1197] [/device:CPU:0] (DEBUG INFO) Executor start aborting (this does not indicate an error and you can ignore this message): INVALID_ARGUMENT: You must feed a value for placeholder tensor 'gradients/split_2_grad/concat/split_2/split_dim' with dtype int32\n",
      "\t [[{{node gradients/split_2_grad/concat/split_2/split_dim}}]]\n",
      "2023-07-30 20:25:01.172188: I tensorflow/core/common_runtime/executor.cc:1197] [/device:CPU:0] (DEBUG INFO) Executor start aborting (this does not indicate an error and you can ignore this message): INVALID_ARGUMENT: You must feed a value for placeholder tensor 'gradients/split_grad/concat/split/split_dim' with dtype int32\n",
      "\t [[{{node gradients/split_grad/concat/split/split_dim}}]]\n",
      "2023-07-30 20:25:01.172722: I tensorflow/core/common_runtime/executor.cc:1197] [/device:CPU:0] (DEBUG INFO) Executor start aborting (this does not indicate an error and you can ignore this message): INVALID_ARGUMENT: You must feed a value for placeholder tensor 'gradients/split_1_grad/concat/split_1/split_dim' with dtype int32\n",
      "\t [[{{node gradients/split_1_grad/concat/split_1/split_dim}}]]\n",
      "2023-07-30 20:25:01.228914: I tensorflow/core/common_runtime/executor.cc:1197] [/device:CPU:0] (DEBUG INFO) Executor start aborting (this does not indicate an error and you can ignore this message): INVALID_ARGUMENT: You must feed a value for placeholder tensor 'gradients/ReverseV2_grad/ReverseV2/ReverseV2/axis' with dtype int32 and shape [1]\n",
      "\t [[{{node gradients/ReverseV2_grad/ReverseV2/ReverseV2/axis}}]]\n",
      "2023-07-30 20:25:01.251632: I tensorflow/core/common_runtime/executor.cc:1197] [/device:CPU:0] (DEBUG INFO) Executor start aborting (this does not indicate an error and you can ignore this message): INVALID_ARGUMENT: You must feed a value for placeholder tensor 'gradients/split_2_grad/concat/split_2/split_dim' with dtype int32\n",
      "\t [[{{node gradients/split_2_grad/concat/split_2/split_dim}}]]\n",
      "2023-07-30 20:25:01.252240: I tensorflow/core/common_runtime/executor.cc:1197] [/device:CPU:0] (DEBUG INFO) Executor start aborting (this does not indicate an error and you can ignore this message): INVALID_ARGUMENT: You must feed a value for placeholder tensor 'gradients/split_grad/concat/split/split_dim' with dtype int32\n",
      "\t [[{{node gradients/split_grad/concat/split/split_dim}}]]\n",
      "2023-07-30 20:25:01.252763: I tensorflow/core/common_runtime/executor.cc:1197] [/device:CPU:0] (DEBUG INFO) Executor start aborting (this does not indicate an error and you can ignore this message): INVALID_ARGUMENT: You must feed a value for placeholder tensor 'gradients/split_1_grad/concat/split_1/split_dim' with dtype int32\n",
      "\t [[{{node gradients/split_1_grad/concat/split_1/split_dim}}]]\n"
     ]
    },
    {
     "name": "stdout",
     "output_type": "stream",
     "text": [
      "125/125 [==============================] - 10s 60ms/step - loss: 1.1687 - accuracy: 0.7923 - val_loss: 1.0260 - val_accuracy: 0.8368\n",
      "Epoch 2/150\n",
      "125/125 [==============================] - 7s 56ms/step - loss: 0.9898 - accuracy: 0.8284 - val_loss: 0.8910 - val_accuracy: 0.8368\n",
      "Epoch 3/150\n",
      "125/125 [==============================] - 7s 56ms/step - loss: 0.8939 - accuracy: 0.8284 - val_loss: 0.8048 - val_accuracy: 0.8368\n",
      "Epoch 4/150\n",
      "125/125 [==============================] - 7s 56ms/step - loss: 0.7745 - accuracy: 0.8521 - val_loss: 0.6439 - val_accuracy: 0.9371\n",
      "Epoch 5/150\n",
      "125/125 [==============================] - 7s 56ms/step - loss: 0.7976 - accuracy: 0.7740 - val_loss: 0.6914 - val_accuracy: 0.8360\n",
      "Epoch 6/150\n",
      "125/125 [==============================] - 7s 56ms/step - loss: 0.7159 - accuracy: 0.7986 - val_loss: 0.6058 - val_accuracy: 0.8368\n",
      "Epoch 7/150\n",
      "125/125 [==============================] - 7s 56ms/step - loss: 0.6044 - accuracy: 0.8180 - val_loss: 0.4707 - val_accuracy: 0.8368\n",
      "Epoch 8/150\n",
      "125/125 [==============================] - 7s 56ms/step - loss: 0.5147 - accuracy: 0.9010 - val_loss: 0.4048 - val_accuracy: 0.9365\n",
      "Epoch 9/150\n",
      "125/125 [==============================] - 7s 56ms/step - loss: 0.4677 - accuracy: 0.9106 - val_loss: 0.3606 - val_accuracy: 0.9367\n",
      "Epoch 10/150\n",
      "125/125 [==============================] - 7s 56ms/step - loss: 0.4315 - accuracy: 0.8949 - val_loss: 0.3165 - val_accuracy: 0.9378\n",
      "Epoch 11/150\n",
      "125/125 [==============================] - 7s 55ms/step - loss: 0.3943 - accuracy: 0.8992 - val_loss: 0.2745 - val_accuracy: 0.9612\n",
      "Epoch 12/150\n",
      "125/125 [==============================] - 7s 55ms/step - loss: 0.3618 - accuracy: 0.9087 - val_loss: 0.2486 - val_accuracy: 0.9640\n",
      "Epoch 13/150\n",
      "125/125 [==============================] - 7s 56ms/step - loss: 0.3421 - accuracy: 0.9241 - val_loss: 0.2277 - val_accuracy: 0.9651\n",
      "Epoch 14/150\n",
      "125/125 [==============================] - 7s 56ms/step - loss: 0.3257 - accuracy: 0.9319 - val_loss: 0.2114 - val_accuracy: 0.9654\n",
      "Epoch 15/150\n",
      "125/125 [==============================] - 7s 56ms/step - loss: 0.3126 - accuracy: 0.9329 - val_loss: 0.1974 - val_accuracy: 0.9650\n",
      "Epoch 16/150\n",
      "125/125 [==============================] - 7s 55ms/step - loss: 0.3004 - accuracy: 0.9335 - val_loss: 0.1836 - val_accuracy: 0.9660\n",
      "Epoch 17/150\n",
      "125/125 [==============================] - 7s 56ms/step - loss: 0.2897 - accuracy: 0.9337 - val_loss: 0.1725 - val_accuracy: 0.9669\n",
      "Epoch 18/150\n",
      "125/125 [==============================] - 7s 56ms/step - loss: 0.2809 - accuracy: 0.9339 - val_loss: 0.1628 - val_accuracy: 0.9671\n",
      "Epoch 19/150\n",
      "125/125 [==============================] - 7s 55ms/step - loss: 0.2725 - accuracy: 0.9341 - val_loss: 0.1532 - val_accuracy: 0.9676\n",
      "Epoch 20/150\n",
      "125/125 [==============================] - 7s 56ms/step - loss: 0.2683 - accuracy: 0.9332 - val_loss: 0.1456 - val_accuracy: 0.9676\n",
      "Epoch 21/150\n",
      "125/125 [==============================] - 7s 55ms/step - loss: 0.2586 - accuracy: 0.9345 - val_loss: 0.1381 - val_accuracy: 0.9680\n",
      "Epoch 22/150\n",
      "125/125 [==============================] - 7s 56ms/step - loss: 0.2531 - accuracy: 0.9345 - val_loss: 0.1317 - val_accuracy: 0.9679\n",
      "Epoch 23/150\n",
      "125/125 [==============================] - 7s 56ms/step - loss: 0.2481 - accuracy: 0.9345 - val_loss: 0.1253 - val_accuracy: 0.9682\n",
      "Epoch 24/150\n",
      "125/125 [==============================] - 7s 56ms/step - loss: 0.2432 - accuracy: 0.9347 - val_loss: 0.1211 - val_accuracy: 0.9678\n",
      "Epoch 25/150\n",
      "125/125 [==============================] - 7s 56ms/step - loss: 0.2393 - accuracy: 0.9348 - val_loss: 0.1161 - val_accuracy: 0.9679\n",
      "Epoch 26/150\n",
      "125/125 [==============================] - 7s 56ms/step - loss: 0.2353 - accuracy: 0.9348 - val_loss: 0.1114 - val_accuracy: 0.9685\n",
      "Epoch 27/150\n",
      "125/125 [==============================] - 7s 55ms/step - loss: 0.2314 - accuracy: 0.9351 - val_loss: 0.1069 - val_accuracy: 0.9686\n",
      "Epoch 28/150\n",
      "125/125 [==============================] - 7s 55ms/step - loss: 0.2281 - accuracy: 0.9352 - val_loss: 0.1034 - val_accuracy: 0.9687\n",
      "Epoch 29/150\n",
      "125/125 [==============================] - 7s 55ms/step - loss: 0.2253 - accuracy: 0.9352 - val_loss: 0.0995 - val_accuracy: 0.9688\n",
      "Epoch 30/150\n",
      "125/125 [==============================] - 7s 56ms/step - loss: 0.2224 - accuracy: 0.9353 - val_loss: 0.0979 - val_accuracy: 0.9684\n",
      "Epoch 31/150\n",
      "125/125 [==============================] - 7s 55ms/step - loss: 0.2196 - accuracy: 0.9355 - val_loss: 0.0937 - val_accuracy: 0.9686\n",
      "Epoch 32/150\n",
      "125/125 [==============================] - 7s 56ms/step - loss: 0.2178 - accuracy: 0.9354 - val_loss: 0.0906 - val_accuracy: 0.9688\n",
      "Epoch 33/150\n",
      "125/125 [==============================] - 7s 55ms/step - loss: 0.2260 - accuracy: 0.9330 - val_loss: 0.0897 - val_accuracy: 0.9687\n",
      "Epoch 34/150\n",
      "125/125 [==============================] - 7s 56ms/step - loss: 0.2143 - accuracy: 0.9353 - val_loss: 0.0867 - val_accuracy: 0.9690\n",
      "Epoch 35/150\n",
      "125/125 [==============================] - 7s 55ms/step - loss: 0.2127 - accuracy: 0.9353 - val_loss: 0.0845 - val_accuracy: 0.9692\n",
      "Epoch 36/150\n",
      "125/125 [==============================] - 7s 55ms/step - loss: 0.2101 - accuracy: 0.9356 - val_loss: 0.0826 - val_accuracy: 0.9688\n",
      "Epoch 37/150\n",
      "125/125 [==============================] - 7s 55ms/step - loss: 0.2088 - accuracy: 0.9355 - val_loss: 0.0804 - val_accuracy: 0.9693\n",
      "Epoch 38/150\n",
      "125/125 [==============================] - 7s 55ms/step - loss: 0.2071 - accuracy: 0.9357 - val_loss: 0.0789 - val_accuracy: 0.9692\n",
      "Epoch 39/150\n",
      "125/125 [==============================] - 7s 56ms/step - loss: 0.2057 - accuracy: 0.9357 - val_loss: 0.0773 - val_accuracy: 0.9692\n",
      "Epoch 40/150\n",
      "125/125 [==============================] - 7s 56ms/step - loss: 0.2046 - accuracy: 0.9356 - val_loss: 0.0753 - val_accuracy: 0.9696\n",
      "Epoch 41/150\n",
      "125/125 [==============================] - 7s 56ms/step - loss: 0.2032 - accuracy: 0.9357 - val_loss: 0.0745 - val_accuracy: 0.9692\n",
      "Epoch 42/150\n",
      "125/125 [==============================] - 7s 55ms/step - loss: 0.2016 - accuracy: 0.9359 - val_loss: 0.0744 - val_accuracy: 0.9693\n",
      "Epoch 43/150\n",
      "125/125 [==============================] - 7s 56ms/step - loss: 0.2004 - accuracy: 0.9358 - val_loss: 0.0750 - val_accuracy: 0.9696\n",
      "Epoch 44/150\n",
      "125/125 [==============================] - 7s 56ms/step - loss: 0.1982 - accuracy: 0.9360 - val_loss: 0.0747 - val_accuracy: 0.9696\n",
      "Epoch 45/150\n",
      "125/125 [==============================] - 7s 56ms/step - loss: 0.1965 - accuracy: 0.9358 - val_loss: 0.0743 - val_accuracy: 0.9692\n",
      "Epoch 46/150\n",
      "125/125 [==============================] - 7s 55ms/step - loss: 0.1945 - accuracy: 0.9360 - val_loss: 0.0745 - val_accuracy: 0.9697\n",
      "Epoch 47/150\n",
      "125/125 [==============================] - 7s 56ms/step - loss: 0.1925 - accuracy: 0.9361 - val_loss: 0.0741 - val_accuracy: 0.9689\n",
      "Epoch 48/150\n",
      "125/125 [==============================] - 7s 56ms/step - loss: 0.1905 - accuracy: 0.9361 - val_loss: 0.0736 - val_accuracy: 0.9700\n",
      "Epoch 49/150\n",
      "125/125 [==============================] - 7s 56ms/step - loss: 0.1888 - accuracy: 0.9361 - val_loss: 0.0730 - val_accuracy: 0.9697\n",
      "Epoch 50/150\n",
      "125/125 [==============================] - 7s 56ms/step - loss: 0.1877 - accuracy: 0.9359 - val_loss: 0.0713 - val_accuracy: 0.9698\n",
      "Epoch 51/150\n",
      "125/125 [==============================] - 7s 56ms/step - loss: 0.1856 - accuracy: 0.9363 - val_loss: 0.0735 - val_accuracy: 0.9690\n",
      "Epoch 52/150\n",
      "125/125 [==============================] - 7s 56ms/step - loss: 0.1843 - accuracy: 0.9362 - val_loss: 0.0710 - val_accuracy: 0.9699\n",
      "Epoch 53/150\n",
      "125/125 [==============================] - 7s 56ms/step - loss: 0.1833 - accuracy: 0.9361 - val_loss: 0.0702 - val_accuracy: 0.9699\n",
      "Epoch 54/150\n",
      "125/125 [==============================] - 7s 56ms/step - loss: 0.1814 - accuracy: 0.9365 - val_loss: 0.0696 - val_accuracy: 0.9700\n",
      "Epoch 55/150\n",
      "125/125 [==============================] - 7s 56ms/step - loss: 0.1807 - accuracy: 0.9364 - val_loss: 0.0694 - val_accuracy: 0.9692\n",
      "Epoch 56/150\n",
      "125/125 [==============================] - 7s 56ms/step - loss: 0.1796 - accuracy: 0.9368 - val_loss: 0.0685 - val_accuracy: 0.9696\n",
      "Epoch 57/150\n",
      "125/125 [==============================] - 7s 56ms/step - loss: 0.1789 - accuracy: 0.9375 - val_loss: 0.0677 - val_accuracy: 0.9695\n",
      "Epoch 58/150\n",
      "125/125 [==============================] - 7s 56ms/step - loss: 0.1785 - accuracy: 0.9386 - val_loss: 0.0667 - val_accuracy: 0.9704\n",
      "Epoch 59/150\n",
      "125/125 [==============================] - 7s 56ms/step - loss: 0.1772 - accuracy: 0.9407 - val_loss: 0.0671 - val_accuracy: 0.9701\n",
      "Epoch 60/150\n",
      "125/125 [==============================] - 7s 56ms/step - loss: 0.1762 - accuracy: 0.9436 - val_loss: 0.0660 - val_accuracy: 0.9702\n",
      "Epoch 61/150\n",
      "125/125 [==============================] - 7s 56ms/step - loss: 0.1756 - accuracy: 0.9456 - val_loss: 0.0670 - val_accuracy: 0.9696\n",
      "Epoch 62/150\n",
      "125/125 [==============================] - 7s 56ms/step - loss: 0.1755 - accuracy: 0.9469 - val_loss: 0.0653 - val_accuracy: 0.9702\n",
      "Epoch 63/150\n",
      "125/125 [==============================] - 7s 56ms/step - loss: 0.1743 - accuracy: 0.9495 - val_loss: 0.0646 - val_accuracy: 0.9700\n",
      "Epoch 64/150\n",
      "125/125 [==============================] - 7s 56ms/step - loss: 0.1734 - accuracy: 0.9504 - val_loss: 0.0638 - val_accuracy: 0.9705\n",
      "Epoch 65/150\n",
      "125/125 [==============================] - 7s 55ms/step - loss: 0.1730 - accuracy: 0.9507 - val_loss: 0.0630 - val_accuracy: 0.9707\n",
      "Epoch 66/150\n",
      "125/125 [==============================] - 7s 56ms/step - loss: 0.1720 - accuracy: 0.9513 - val_loss: 0.0630 - val_accuracy: 0.9703\n",
      "Epoch 67/150\n",
      "125/125 [==============================] - 7s 56ms/step - loss: 0.1715 - accuracy: 0.9513 - val_loss: 0.0628 - val_accuracy: 0.9702\n",
      "Epoch 68/150\n",
      "125/125 [==============================] - 7s 56ms/step - loss: 0.1714 - accuracy: 0.9514 - val_loss: 0.0622 - val_accuracy: 0.9704\n",
      "Epoch 69/150\n",
      "125/125 [==============================] - 7s 55ms/step - loss: 0.1704 - accuracy: 0.9518 - val_loss: 0.0617 - val_accuracy: 0.9706\n",
      "Epoch 70/150\n",
      "125/125 [==============================] - 7s 55ms/step - loss: 0.1696 - accuracy: 0.9518 - val_loss: 0.0612 - val_accuracy: 0.9707\n",
      "Epoch 71/150\n",
      "125/125 [==============================] - 7s 56ms/step - loss: 0.1679 - accuracy: 0.9521 - val_loss: 0.0592 - val_accuracy: 0.9706\n",
      "Epoch 72/150\n",
      "125/125 [==============================] - 7s 56ms/step - loss: 0.1649 - accuracy: 0.9589 - val_loss: 0.0576 - val_accuracy: 0.9804\n",
      "Epoch 73/150\n",
      "125/125 [==============================] - 7s 55ms/step - loss: 0.1631 - accuracy: 0.9596 - val_loss: 0.0552 - val_accuracy: 0.9829\n",
      "Epoch 74/150\n",
      "125/125 [==============================] - 7s 56ms/step - loss: 0.1614 - accuracy: 0.9601 - val_loss: 0.0539 - val_accuracy: 0.9843\n",
      "Epoch 75/150\n",
      "125/125 [==============================] - 7s 55ms/step - loss: 0.1597 - accuracy: 0.9606 - val_loss: 0.0523 - val_accuracy: 0.9853\n",
      "Epoch 76/150\n",
      "125/125 [==============================] - 7s 53ms/step - loss: 0.1578 - accuracy: 0.9611 - val_loss: 0.0510 - val_accuracy: 0.9844\n",
      "Epoch 77/150\n",
      "125/125 [==============================] - 7s 56ms/step - loss: 0.1564 - accuracy: 0.9615 - val_loss: 0.0503 - val_accuracy: 0.9859\n",
      "Epoch 78/150\n",
      "125/125 [==============================] - 7s 55ms/step - loss: 0.1558 - accuracy: 0.9616 - val_loss: 0.0479 - val_accuracy: 0.9867\n",
      "Epoch 79/150\n",
      "125/125 [==============================] - 7s 56ms/step - loss: 0.1542 - accuracy: 0.9620 - val_loss: 0.0477 - val_accuracy: 0.9865\n",
      "Epoch 80/150\n",
      "125/125 [==============================] - 7s 56ms/step - loss: 0.1532 - accuracy: 0.9624 - val_loss: 0.0464 - val_accuracy: 0.9870\n",
      "Epoch 81/150\n",
      "125/125 [==============================] - 7s 56ms/step - loss: 0.1519 - accuracy: 0.9628 - val_loss: 0.0454 - val_accuracy: 0.9876\n",
      "Epoch 82/150\n",
      "125/125 [==============================] - 7s 56ms/step - loss: 0.1509 - accuracy: 0.9630 - val_loss: 0.0448 - val_accuracy: 0.9875\n",
      "Epoch 83/150\n",
      "125/125 [==============================] - 7s 55ms/step - loss: 0.1516 - accuracy: 0.9626 - val_loss: 0.0446 - val_accuracy: 0.9876\n",
      "Epoch 84/150\n",
      "125/125 [==============================] - 7s 55ms/step - loss: 0.1484 - accuracy: 0.9637 - val_loss: 0.0437 - val_accuracy: 0.9879\n",
      "Epoch 85/150\n",
      "125/125 [==============================] - 7s 56ms/step - loss: 0.1469 - accuracy: 0.9642 - val_loss: 0.0434 - val_accuracy: 0.9882\n",
      "Epoch 86/150\n",
      "125/125 [==============================] - 7s 56ms/step - loss: 0.1455 - accuracy: 0.9645 - val_loss: 0.0424 - val_accuracy: 0.9886\n",
      "Epoch 87/150\n",
      "125/125 [==============================] - 7s 55ms/step - loss: 0.1441 - accuracy: 0.9648 - val_loss: 0.0415 - val_accuracy: 0.9886\n",
      "Epoch 88/150\n",
      "125/125 [==============================] - 7s 56ms/step - loss: 0.1430 - accuracy: 0.9650 - val_loss: 0.0413 - val_accuracy: 0.9884\n",
      "Epoch 89/150\n",
      "125/125 [==============================] - 7s 56ms/step - loss: 0.1415 - accuracy: 0.9653 - val_loss: 0.0405 - val_accuracy: 0.9890\n",
      "Epoch 90/150\n",
      "125/125 [==============================] - 7s 56ms/step - loss: 0.1402 - accuracy: 0.9654 - val_loss: 0.0408 - val_accuracy: 0.9888\n",
      "Epoch 91/150\n",
      "125/125 [==============================] - 7s 55ms/step - loss: 0.1397 - accuracy: 0.9654 - val_loss: 0.0399 - val_accuracy: 0.9889\n",
      "Epoch 92/150\n",
      "125/125 [==============================] - 7s 56ms/step - loss: 0.1389 - accuracy: 0.9657 - val_loss: 0.0390 - val_accuracy: 0.9894\n",
      "Epoch 93/150\n",
      "125/125 [==============================] - 7s 56ms/step - loss: 0.1372 - accuracy: 0.9664 - val_loss: 0.0394 - val_accuracy: 0.9891\n",
      "Epoch 94/150\n",
      "125/125 [==============================] - 7s 56ms/step - loss: 0.1368 - accuracy: 0.9669 - val_loss: 0.0385 - val_accuracy: 0.9894\n",
      "Epoch 95/150\n",
      "125/125 [==============================] - 7s 56ms/step - loss: 0.1353 - accuracy: 0.9674 - val_loss: 0.0389 - val_accuracy: 0.9891\n",
      "Epoch 96/150\n",
      "125/125 [==============================] - 7s 56ms/step - loss: 0.1342 - accuracy: 0.9678 - val_loss: 0.0385 - val_accuracy: 0.9893\n",
      "Epoch 97/150\n",
      "125/125 [==============================] - 7s 56ms/step - loss: 0.1334 - accuracy: 0.9679 - val_loss: 0.0380 - val_accuracy: 0.9896\n",
      "Epoch 98/150\n",
      "125/125 [==============================] - 7s 56ms/step - loss: 0.1317 - accuracy: 0.9682 - val_loss: 0.0370 - val_accuracy: 0.9898\n",
      "Epoch 99/150\n",
      "125/125 [==============================] - 7s 55ms/step - loss: 0.1309 - accuracy: 0.9684 - val_loss: 0.0373 - val_accuracy: 0.9895\n",
      "Epoch 100/150\n",
      "125/125 [==============================] - 7s 55ms/step - loss: 0.1309 - accuracy: 0.9680 - val_loss: 0.0366 - val_accuracy: 0.9898\n",
      "Epoch 101/150\n",
      "125/125 [==============================] - 7s 55ms/step - loss: 0.1295 - accuracy: 0.9684 - val_loss: 0.0363 - val_accuracy: 0.9900\n",
      "Epoch 102/150\n",
      "125/125 [==============================] - 7s 56ms/step - loss: 0.1278 - accuracy: 0.9687 - val_loss: 0.0361 - val_accuracy: 0.9897\n",
      "Epoch 103/150\n",
      "125/125 [==============================] - 7s 56ms/step - loss: 0.1274 - accuracy: 0.9686 - val_loss: 0.0354 - val_accuracy: 0.9900\n",
      "Epoch 104/150\n",
      "125/125 [==============================] - 7s 56ms/step - loss: 0.1265 - accuracy: 0.9688 - val_loss: 0.0353 - val_accuracy: 0.9900\n",
      "Epoch 105/150\n",
      "125/125 [==============================] - 7s 56ms/step - loss: 0.1255 - accuracy: 0.9690 - val_loss: 0.0362 - val_accuracy: 0.9891\n",
      "Epoch 106/150\n",
      "125/125 [==============================] - 7s 56ms/step - loss: 0.1246 - accuracy: 0.9693 - val_loss: 0.0346 - val_accuracy: 0.9901\n",
      "Epoch 107/150\n",
      "125/125 [==============================] - 7s 55ms/step - loss: 0.1235 - accuracy: 0.9694 - val_loss: 0.0343 - val_accuracy: 0.9901\n",
      "Epoch 108/150\n",
      "125/125 [==============================] - 7s 55ms/step - loss: 0.1230 - accuracy: 0.9696 - val_loss: 0.0337 - val_accuracy: 0.9902\n",
      "Epoch 109/150\n",
      "125/125 [==============================] - 7s 56ms/step - loss: 0.1219 - accuracy: 0.9699 - val_loss: 0.0340 - val_accuracy: 0.9901\n",
      "Epoch 110/150\n",
      "125/125 [==============================] - 7s 56ms/step - loss: 0.1212 - accuracy: 0.9700 - val_loss: 0.0336 - val_accuracy: 0.9902\n",
      "Epoch 111/150\n",
      "125/125 [==============================] - 7s 55ms/step - loss: 0.1238 - accuracy: 0.9691 - val_loss: 0.0340 - val_accuracy: 0.9897\n",
      "Epoch 112/150\n",
      "125/125 [==============================] - 7s 56ms/step - loss: 0.1212 - accuracy: 0.9698 - val_loss: 0.0345 - val_accuracy: 0.9900\n",
      "Epoch 113/150\n",
      "125/125 [==============================] - 7s 55ms/step - loss: 0.1197 - accuracy: 0.9701 - val_loss: 0.0332 - val_accuracy: 0.9899\n",
      "Epoch 114/150\n",
      "125/125 [==============================] - 7s 56ms/step - loss: 0.1189 - accuracy: 0.9703 - val_loss: 0.0324 - val_accuracy: 0.9903\n",
      "Epoch 115/150\n",
      "125/125 [==============================] - 7s 56ms/step - loss: 0.1185 - accuracy: 0.9700 - val_loss: 0.0325 - val_accuracy: 0.9903\n",
      "Epoch 116/150\n",
      "125/125 [==============================] - 7s 56ms/step - loss: 0.1170 - accuracy: 0.9701 - val_loss: 0.0324 - val_accuracy: 0.9903\n",
      "Epoch 117/150\n",
      "125/125 [==============================] - 7s 56ms/step - loss: 0.1163 - accuracy: 0.9701 - val_loss: 0.0340 - val_accuracy: 0.9898\n",
      "Epoch 118/150\n",
      "125/125 [==============================] - 7s 56ms/step - loss: 0.1152 - accuracy: 0.9703 - val_loss: 0.0320 - val_accuracy: 0.9904\n",
      "Epoch 119/150\n",
      "125/125 [==============================] - 7s 56ms/step - loss: 0.1144 - accuracy: 0.9704 - val_loss: 0.0323 - val_accuracy: 0.9903\n",
      "Epoch 120/150\n",
      "125/125 [==============================] - 7s 56ms/step - loss: 0.1146 - accuracy: 0.9701 - val_loss: 0.0320 - val_accuracy: 0.9904\n",
      "Epoch 121/150\n",
      "125/125 [==============================] - 7s 56ms/step - loss: 0.1138 - accuracy: 0.9703 - val_loss: 0.0316 - val_accuracy: 0.9905\n",
      "Epoch 122/150\n",
      "125/125 [==============================] - 7s 56ms/step - loss: 0.1121 - accuracy: 0.9706 - val_loss: 0.0316 - val_accuracy: 0.9905\n",
      "Epoch 123/150\n",
      "125/125 [==============================] - 7s 56ms/step - loss: 0.1116 - accuracy: 0.9706 - val_loss: 0.0318 - val_accuracy: 0.9904\n",
      "Epoch 124/150\n",
      "125/125 [==============================] - 7s 56ms/step - loss: 0.1112 - accuracy: 0.9706 - val_loss: 0.0312 - val_accuracy: 0.9906\n",
      "Epoch 125/150\n",
      "125/125 [==============================] - 7s 56ms/step - loss: 0.1100 - accuracy: 0.9707 - val_loss: 0.0312 - val_accuracy: 0.9905\n",
      "Epoch 126/150\n",
      "125/125 [==============================] - 7s 55ms/step - loss: 0.1094 - accuracy: 0.9706 - val_loss: 0.0310 - val_accuracy: 0.9905\n",
      "Epoch 127/150\n",
      "125/125 [==============================] - 7s 56ms/step - loss: 0.1089 - accuracy: 0.9702 - val_loss: 0.0307 - val_accuracy: 0.9906\n",
      "Epoch 128/150\n",
      "125/125 [==============================] - 7s 56ms/step - loss: 0.1077 - accuracy: 0.9702 - val_loss: 0.0310 - val_accuracy: 0.9906\n",
      "Epoch 129/150\n",
      "125/125 [==============================] - 7s 56ms/step - loss: 0.1079 - accuracy: 0.9695 - val_loss: 0.0308 - val_accuracy: 0.9907\n",
      "Epoch 130/150\n",
      "125/125 [==============================] - 7s 56ms/step - loss: 0.1072 - accuracy: 0.9694 - val_loss: 0.0309 - val_accuracy: 0.9905\n",
      "Epoch 131/150\n",
      "125/125 [==============================] - 7s 56ms/step - loss: 0.1067 - accuracy: 0.9692 - val_loss: 0.0307 - val_accuracy: 0.9905\n",
      "Epoch 132/150\n",
      "125/125 [==============================] - 7s 55ms/step - loss: 0.1066 - accuracy: 0.9690 - val_loss: 0.0305 - val_accuracy: 0.9906\n",
      "Epoch 133/150\n",
      "125/125 [==============================] - 7s 56ms/step - loss: 0.1054 - accuracy: 0.9693 - val_loss: 0.0300 - val_accuracy: 0.9906\n",
      "Epoch 134/150\n",
      "125/125 [==============================] - 7s 56ms/step - loss: 0.1054 - accuracy: 0.9692 - val_loss: 0.0298 - val_accuracy: 0.9907\n",
      "Epoch 135/150\n",
      "125/125 [==============================] - 7s 56ms/step - loss: 0.1052 - accuracy: 0.9692 - val_loss: 0.0295 - val_accuracy: 0.9908\n",
      "Epoch 136/150\n",
      "125/125 [==============================] - 7s 56ms/step - loss: 0.1047 - accuracy: 0.9693 - val_loss: 0.0303 - val_accuracy: 0.9905\n",
      "Epoch 137/150\n",
      "125/125 [==============================] - 7s 56ms/step - loss: 0.1041 - accuracy: 0.9694 - val_loss: 0.0301 - val_accuracy: 0.9907\n",
      "Epoch 138/150\n",
      "125/125 [==============================] - 7s 56ms/step - loss: 0.1088 - accuracy: 0.9682 - val_loss: 0.0357 - val_accuracy: 0.9887\n",
      "Epoch 139/150\n",
      "125/125 [==============================] - 7s 55ms/step - loss: 0.1075 - accuracy: 0.9683 - val_loss: 0.0303 - val_accuracy: 0.9906\n",
      "Epoch 140/150\n",
      "125/125 [==============================] - 7s 56ms/step - loss: 0.1042 - accuracy: 0.9692 - val_loss: 0.0300 - val_accuracy: 0.9906\n",
      "Epoch 141/150\n",
      "125/125 [==============================] - 7s 56ms/step - loss: 0.1037 - accuracy: 0.9694 - val_loss: 0.0299 - val_accuracy: 0.9907\n",
      "Epoch 142/150\n",
      "125/125 [==============================] - 7s 56ms/step - loss: 0.1035 - accuracy: 0.9693 - val_loss: 0.0300 - val_accuracy: 0.9905\n",
      "Epoch 143/150\n",
      "125/125 [==============================] - 7s 56ms/step - loss: 0.1031 - accuracy: 0.9695 - val_loss: 0.0298 - val_accuracy: 0.9906\n",
      "Epoch 144/150\n",
      "125/125 [==============================] - 7s 55ms/step - loss: 0.1031 - accuracy: 0.9695 - val_loss: 0.0296 - val_accuracy: 0.9907\n",
      "Epoch 145/150\n",
      "125/125 [==============================] - 7s 56ms/step - loss: 0.1027 - accuracy: 0.9695 - val_loss: 0.0292 - val_accuracy: 0.9908\n",
      "Epoch 146/150\n",
      "125/125 [==============================] - 7s 55ms/step - loss: 0.1021 - accuracy: 0.9696 - val_loss: 0.0293 - val_accuracy: 0.9907\n",
      "Epoch 147/150\n",
      "125/125 [==============================] - 7s 56ms/step - loss: 0.1023 - accuracy: 0.9696 - val_loss: 0.0291 - val_accuracy: 0.9908\n",
      "Epoch 148/150\n",
      "125/125 [==============================] - 7s 56ms/step - loss: 0.1019 - accuracy: 0.9697 - val_loss: 0.0293 - val_accuracy: 0.9906\n",
      "Epoch 149/150\n",
      "125/125 [==============================] - 7s 56ms/step - loss: 0.1017 - accuracy: 0.9697 - val_loss: 0.0292 - val_accuracy: 0.9907\n",
      "Epoch 150/150\n",
      "125/125 [==============================] - 7s 56ms/step - loss: 0.1012 - accuracy: 0.9698 - val_loss: 0.0290 - val_accuracy: 0.9908\n",
      "Training the model took 1045.59 seconds\n"
     ]
    }
   ],
   "source": [
    "model = Sequential()\n",
    "\n",
    "model.add(Bidirectional(LSTM(units=RNN_HIDDEN_DIM, return_sequences=True),input_shape=(450,5)))\n",
    "model.add(Dropout(DROPOUT_RATIO))\n",
    "model.add(Bidirectional(LSTM(units=RNN_HIDDEN_DIM, return_sequences=True)))\n",
    "\n",
    "model.add(TimeDistributed(Dense(5, activation='softmax')))\n",
    "model.add(Dropout(DROPOUT_RATIO))\n",
    "model.add(Dense(5, activation='softmax'))\n",
    "model.compile('adam', 'categorical_crossentropy', metrics=['accuracy'])\n",
    "print(model.summary())\n",
    "\n",
    "start_time = time.time()\n",
    "log_dir = \"logs/LSTMshm/\" + datetime.datetime.now().strftime(\"%Y%m%d-%H%M%S\")\n",
    "tf_callback = tf.keras.callbacks.TensorBoard(log_dir=log_dir)\n",
    "model.fit(train_x_tensor, train_y_tensor, validation_data = (test_x_tensor, test_y_tensor), epochs=150, batch_size=64, callbacks=[tf_callback])\n",
    "end_time = time.time()\n",
    "training_time = end_time - start_time\n",
    "print(\"Training the model took {:.2f} seconds\".format(training_time))"
   ]
  },
  {
   "cell_type": "code",
   "execution_count": 19,
   "id": "d63b9727-df7d-4be2-88cb-807627631e47",
   "metadata": {
    "tags": []
   },
   "outputs": [
    {
     "name": "stderr",
     "output_type": "stream",
     "text": [
      "2023-07-30 20:42:31.843583: I tensorflow/core/common_runtime/executor.cc:1197] [/device:CPU:0] (DEBUG INFO) Executor start aborting (this does not indicate an error and you can ignore this message): INVALID_ARGUMENT: You must feed a value for placeholder tensor 'gradients/split_2_grad/concat/split_2/split_dim' with dtype int32\n",
      "\t [[{{node gradients/split_2_grad/concat/split_2/split_dim}}]]\n",
      "2023-07-30 20:42:31.844427: I tensorflow/core/common_runtime/executor.cc:1197] [/device:CPU:0] (DEBUG INFO) Executor start aborting (this does not indicate an error and you can ignore this message): INVALID_ARGUMENT: You must feed a value for placeholder tensor 'gradients/split_grad/concat/split/split_dim' with dtype int32\n",
      "\t [[{{node gradients/split_grad/concat/split/split_dim}}]]\n",
      "2023-07-30 20:42:31.844940: I tensorflow/core/common_runtime/executor.cc:1197] [/device:CPU:0] (DEBUG INFO) Executor start aborting (this does not indicate an error and you can ignore this message): INVALID_ARGUMENT: You must feed a value for placeholder tensor 'gradients/split_1_grad/concat/split_1/split_dim' with dtype int32\n",
      "\t [[{{node gradients/split_1_grad/concat/split_1/split_dim}}]]\n",
      "2023-07-30 20:42:31.903438: I tensorflow/core/common_runtime/executor.cc:1197] [/device:CPU:0] (DEBUG INFO) Executor start aborting (this does not indicate an error and you can ignore this message): INVALID_ARGUMENT: You must feed a value for placeholder tensor 'gradients/ReverseV2_grad/ReverseV2/ReverseV2/axis' with dtype int32 and shape [1]\n",
      "\t [[{{node gradients/ReverseV2_grad/ReverseV2/ReverseV2/axis}}]]\n",
      "2023-07-30 20:42:31.923943: I tensorflow/core/common_runtime/executor.cc:1197] [/device:CPU:0] (DEBUG INFO) Executor start aborting (this does not indicate an error and you can ignore this message): INVALID_ARGUMENT: You must feed a value for placeholder tensor 'gradients/split_2_grad/concat/split_2/split_dim' with dtype int32\n",
      "\t [[{{node gradients/split_2_grad/concat/split_2/split_dim}}]]\n",
      "2023-07-30 20:42:31.924497: I tensorflow/core/common_runtime/executor.cc:1197] [/device:CPU:0] (DEBUG INFO) Executor start aborting (this does not indicate an error and you can ignore this message): INVALID_ARGUMENT: You must feed a value for placeholder tensor 'gradients/split_grad/concat/split/split_dim' with dtype int32\n",
      "\t [[{{node gradients/split_grad/concat/split/split_dim}}]]\n",
      "2023-07-30 20:42:31.924997: I tensorflow/core/common_runtime/executor.cc:1197] [/device:CPU:0] (DEBUG INFO) Executor start aborting (this does not indicate an error and you can ignore this message): INVALID_ARGUMENT: You must feed a value for placeholder tensor 'gradients/split_1_grad/concat/split_1/split_dim' with dtype int32\n",
      "\t [[{{node gradients/split_1_grad/concat/split_1/split_dim}}]]\n",
      "2023-07-30 20:42:32.003059: I tensorflow/core/common_runtime/executor.cc:1197] [/device:CPU:0] (DEBUG INFO) Executor start aborting (this does not indicate an error and you can ignore this message): INVALID_ARGUMENT: You must feed a value for placeholder tensor 'gradients/split_2_grad/concat/split_2/split_dim' with dtype int32\n",
      "\t [[{{node gradients/split_2_grad/concat/split_2/split_dim}}]]\n",
      "2023-07-30 20:42:32.003644: I tensorflow/core/common_runtime/executor.cc:1197] [/device:CPU:0] (DEBUG INFO) Executor start aborting (this does not indicate an error and you can ignore this message): INVALID_ARGUMENT: You must feed a value for placeholder tensor 'gradients/split_grad/concat/split/split_dim' with dtype int32\n",
      "\t [[{{node gradients/split_grad/concat/split/split_dim}}]]\n",
      "2023-07-30 20:42:32.004186: I tensorflow/core/common_runtime/executor.cc:1197] [/device:CPU:0] (DEBUG INFO) Executor start aborting (this does not indicate an error and you can ignore this message): INVALID_ARGUMENT: You must feed a value for placeholder tensor 'gradients/split_1_grad/concat/split_1/split_dim' with dtype int32\n",
      "\t [[{{node gradients/split_1_grad/concat/split_1/split_dim}}]]\n"
     ]
    },
    {
     "name": "stdout",
     "output_type": "stream",
     "text": [
      " 1/63 [..............................] - ETA: 28s"
     ]
    },
    {
     "name": "stderr",
     "output_type": "stream",
     "text": [
      "2023-07-30 20:42:32.062578: I tensorflow/core/common_runtime/executor.cc:1197] [/device:CPU:0] (DEBUG INFO) Executor start aborting (this does not indicate an error and you can ignore this message): INVALID_ARGUMENT: You must feed a value for placeholder tensor 'gradients/ReverseV2_grad/ReverseV2/ReverseV2/axis' with dtype int32 and shape [1]\n",
      "\t [[{{node gradients/ReverseV2_grad/ReverseV2/ReverseV2/axis}}]]\n",
      "2023-07-30 20:42:32.083405: I tensorflow/core/common_runtime/executor.cc:1197] [/device:CPU:0] (DEBUG INFO) Executor start aborting (this does not indicate an error and you can ignore this message): INVALID_ARGUMENT: You must feed a value for placeholder tensor 'gradients/split_2_grad/concat/split_2/split_dim' with dtype int32\n",
      "\t [[{{node gradients/split_2_grad/concat/split_2/split_dim}}]]\n",
      "2023-07-30 20:42:32.083952: I tensorflow/core/common_runtime/executor.cc:1197] [/device:CPU:0] (DEBUG INFO) Executor start aborting (this does not indicate an error and you can ignore this message): INVALID_ARGUMENT: You must feed a value for placeholder tensor 'gradients/split_grad/concat/split/split_dim' with dtype int32\n",
      "\t [[{{node gradients/split_grad/concat/split/split_dim}}]]\n",
      "2023-07-30 20:42:32.084465: I tensorflow/core/common_runtime/executor.cc:1197] [/device:CPU:0] (DEBUG INFO) Executor start aborting (this does not indicate an error and you can ignore this message): INVALID_ARGUMENT: You must feed a value for placeholder tensor 'gradients/split_1_grad/concat/split_1/split_dim' with dtype int32\n",
      "\t [[{{node gradients/split_1_grad/concat/split_1/split_dim}}]]\n"
     ]
    },
    {
     "name": "stdout",
     "output_type": "stream",
     "text": [
      "63/63 [==============================] - 2s 22ms/step\n",
      "(2000, 450, 5)\n",
      "(2000, 450, 5)\n"
     ]
    }
   ],
   "source": [
    "y_pred = model.predict(test_x_tensor)\n",
    "print(y_pred.shape)\n",
    "print(test_y_tensor.shape)"
   ]
  },
  {
   "cell_type": "code",
   "execution_count": 22,
   "id": "756a0c75-a64b-40aa-8e96-8b0d0cef7f71",
   "metadata": {
    "tags": []
   },
   "outputs": [],
   "source": [
    "def plot_confusion_matrix(cm, classes=None, title='Confusion matrix'):\n",
    "    \"\"\"Plots a confusion matrix.\"\"\"\n",
    "    if classes is not None:\n",
    "        sns.heatmap(cm, xticklabels=classes, yticklabels=classes, vmin=0., vmax=1., annot=True)\n",
    "    else:\n",
    "        sns.heatmap(cm, vmin=0., vmax=1.)\n",
    "    plt.title(title)\n",
    "    plt.ylabel('True label')\n",
    "    plt.xlabel('Predicted label')"
   ]
  },
  {
   "cell_type": "code",
   "execution_count": 23,
   "id": "1579c173-dcef-4811-af70-f81d0f884d1d",
   "metadata": {
    "tags": []
   },
   "outputs": [
    {
     "data": {
      "text/plain": [
       "([<matplotlib.axis.YTick at 0x7f4520164f50>,\n",
       "  <matplotlib.axis.YTick at 0x7f45044d1850>,\n",
       "  <matplotlib.axis.YTick at 0x7f452024f190>,\n",
       "  <matplotlib.axis.YTick at 0x7f45043a80d0>,\n",
       "  <matplotlib.axis.YTick at 0x7f45043a4c50>],\n",
       " [Text(0, 0.5, 'V'),\n",
       "  Text(0, 1.5, 'D'),\n",
       "  Text(0, 2.5, 'J'),\n",
       "  Text(0, 3.5, 'N'),\n",
       "  Text(0, 4.5, 'X')])"
      ]
     },
     "execution_count": 23,
     "metadata": {},
     "output_type": "execute_result"
    },
    {
     "data": {
      "image/png": "[encoded data removed]",
      "text/plain": [
       "<Figure size 640x480 with 2 Axes>"
      ]
     },
     "metadata": {},
     "output_type": "display_data"
    }
   ],
   "source": [
    "pred_classes = np.argmax(y_pred, axis=-1)\n",
    "y_true = np.argmax(test_y_tensor,axis=-1)\n",
    "y_true_flat = y_true.flatten()\n",
    "y_pred_flat = pred_classes.flatten()\n",
    "cm = confusion_matrix(y_true_flat,y_pred_flat)\n",
    "cm_norm = cm/cm.sum(axis=1)[:, np.newaxis]\n",
    "plt.figure()\n",
    "plot_confusion_matrix(cm_norm, classes=['V', 'D', 'J', 'N','X'])\n",
    "labels = ['V', 'D', 'J', 'N','X']\n",
    "plt.xticks(np.arange(5) + 0.5, labels)\n",
    "plt.yticks(np.arange(5) + 0.5, labels)"
   ]
  },
  {
   "cell_type": "code",
   "execution_count": 24,
   "id": "0559cf44-9596-4772-88f8-e62ea48b937a",
   "metadata": {
    "tags": []
   },
   "outputs": [
    {
     "data": {
      "image/png": "[encoded data removed]",
      "text/plain": [
       "<Figure size 640x480 with 2 Axes>"
      ]
     },
     "metadata": {},
     "output_type": "display_data"
    }
   ],
   "source": [
    "plt.figure()\n",
    "sns.heatmap(cm, annot=True, fmt=\"d\")\n",
    "\n",
    "labels = ['V', 'D', 'J', 'N','X']\n",
    "plt.xticks(np.arange(5) + 0.5, labels)\n",
    "plt.yticks(np.arange(5) + 0.5, labels)\n",
    "\n",
    "plt.title(\"Confusion matrix\")\n",
    "plt.ylabel('True label')\n",
    "plt.xlabel('Predicted label')\n",
    "plt.show()"
   ]
  },
  {
   "cell_type": "code",
   "execution_count": 25,
   "id": "3415ee78-702c-4002-8caf-18ee794cdb60",
   "metadata": {
    "tags": []
   },
   "outputs": [],
   "source": [
    "from sklearn.metrics import accuracy_score, precision_score, recall_score, f1_score\n",
    "\n",
    "from sklearn.metrics import roc_curve, auc\n",
    "from sklearn.preprocessing import label_binarize\n",
    "from scipy import interp\n",
    "from itertools import cycle"
   ]
  },
  {
   "cell_type": "code",
   "execution_count": 26,
   "id": "27c08468-bd82-4481-8ba7-17571411b49c",
   "metadata": {
    "tags": []
   },
   "outputs": [
    {
     "name": "stdout",
     "output_type": "stream",
     "text": [
      "Accuracy: 0.9908222222222223\n",
      "Precision: 0.9464844234217658\n",
      "Recall: 0.941462937059742\n",
      "F1 Score: 0.9438746013631443\n"
     ]
    }
   ],
   "source": [
    "# accuracy\n",
    "accuracy = accuracy_score(y_true_flat, y_pred_flat)\n",
    "print('Accuracy:', accuracy)\n",
    "\n",
    "# precision\n",
    "precision = precision_score(y_true_flat, y_pred_flat, average='macro')\n",
    "print('Precision:', precision)\n",
    "\n",
    "# recall\n",
    "recall = recall_score(y_true_flat, y_pred_flat, average='macro')\n",
    "print('Recall:', recall)\n",
    "\n",
    "# F1-score\n",
    "f1 = f1_score(y_true_flat, y_pred_flat, average='macro')\n",
    "print('F1 Score:', f1)"
   ]
  },
  {
   "cell_type": "markdown",
   "id": "012a16d7-f462-4056-89b1-c87957b3399e",
   "metadata": {
    "tags": []
   },
   "source": [
    "## SHM set"
   ]
  },
  {
   "cell_type": "code",
   "execution_count": 44,
   "id": "6e1a09e4-7203-4393-9f23-0a55ccd3ef51",
   "metadata": {
    "tags": []
   },
   "outputs": [],
   "source": [
    "fasta_file = os.path.join('..','repertoire','shm','shm_default_2000.fasta')\n",
    "annotation_file = os.path.join('..','repertoire','shm','shm_default_2000.tsv')"
   ]
  },
  {
   "cell_type": "code",
   "execution_count": 45,
   "id": "a81131ac-fb6e-468f-bac3-f410224b91e4",
   "metadata": {
    "tags": []
   },
   "outputs": [
    {
     "name": "stderr",
     "output_type": "stream",
     "text": [
      "/tmp/ipykernel_405649/3505619144.py:14: DeprecationWarning: The binary mode of fromstring is deprecated, as it behaves surprisingly on unicode inputs. Use frombuffer instead\n",
      "  seq_array = np.fromstring(seq, np.int8)\n"
     ]
    },
    {
     "data": {
      "text/plain": [
       "(900000, 5)"
      ]
     },
     "execution_count": 45,
     "metadata": {},
     "output_type": "execute_result"
    }
   ],
   "source": [
    "sequences = input_file(fasta_file)\n",
    "X_shm = process_input(sequences,chunk_size)\n",
    "X_shm.shape"
   ]
  },
  {
   "cell_type": "code",
   "execution_count": 46,
   "id": "7d150e7d-8ee1-43c8-b2ac-2e48a21c5c15",
   "metadata": {
    "tags": []
   },
   "outputs": [
    {
     "name": "stderr",
     "output_type": "stream",
     "text": [
      "/tmp/ipykernel_405649/2970507474.py:8: DeprecationWarning: The binary mode of fromstring is deprecated, as it behaves surprisingly on unicode inputs. Use frombuffer instead\n",
      "  return np.fromstring(seq, np.int8)\n",
      "/tmp/ipykernel_405649/3818073805.py:14: DeprecationWarning: The binary mode of fromstring is deprecated, as it behaves surprisingly on unicode inputs. Use frombuffer instead\n",
      "  seq_array = np.fromstring(seq, np.int8)\n"
     ]
    }
   ],
   "source": [
    "df = pd.read_csv(annotation_file, sep='\\t', header=0)\n",
    "chunk_size=450\n",
    "VDJ_seq = []\n",
    "VDJ_num = []\n",
    "for i in range(len(df)):\n",
    "    seq = translate_output(df,i)\n",
    "    seq_num = output_catogory(seq)\n",
    "    VDJ_seq.append(seq)\n",
    "    VDJ_num.append(seq_num)\n",
    "        \n",
    "combined_vdj = ''.join(VDJ_seq)\n",
    "encoded_vdj = output_encoding(combined_vdj)"
   ]
  },
  {
   "cell_type": "code",
   "execution_count": 47,
   "id": "084ac336-fcf0-4c97-aff2-7a9267a5aba4",
   "metadata": {
    "tags": []
   },
   "outputs": [
    {
     "name": "stdout",
     "output_type": "stream",
     "text": [
      "900000\n",
      "(900000, 5)\n"
     ]
    }
   ],
   "source": [
    "print(len(combined_vdj))\n",
    "print(encoded_vdj.shape)\n",
    "y_shm = encoded_vdj"
   ]
  },
  {
   "cell_type": "code",
   "execution_count": 48,
   "id": "f255ed9b-e2c0-4a13-abc6-db681d3deac7",
   "metadata": {
    "tags": []
   },
   "outputs": [],
   "source": [
    "timesteps = 450  \n",
    "\n",
    "X_shm_tensor = np.array([X_shm[i:i+timesteps] for i in range(0, X_shm.shape[0]-timesteps+1, timesteps)])\n",
    "y_shm_tensor = np.array([y_shm[i:i+timesteps] for i in range(0, y_shm.shape[0]-timesteps+1, timesteps)])\n"
   ]
  },
  {
   "cell_type": "code",
   "execution_count": 49,
   "id": "f7453c8a-dd2d-4a96-90a6-2db9f0b0ffe7",
   "metadata": {
    "tags": []
   },
   "outputs": [
    {
     "name": "stdout",
     "output_type": "stream",
     "text": [
      "63/63 [==============================] - 1s 13ms/step\n",
      "(2000, 450, 5)\n",
      "(2000, 450, 5)\n"
     ]
    }
   ],
   "source": [
    "y_pred = model.predict(X_shm_tensor)\n",
    "print(y_pred.shape)\n",
    "print(y_shm_tensor.shape)"
   ]
  },
  {
   "cell_type": "code",
   "execution_count": 50,
   "id": "53c3cf7e-9994-48e0-8ac5-a85e79f9a558",
   "metadata": {
    "tags": []
   },
   "outputs": [
    {
     "data": {
      "text/plain": [
       "([<matplotlib.axis.YTick at 0x7f467c71ac10>,\n",
       "  <matplotlib.axis.YTick at 0x7f469eb79850>,\n",
       "  <matplotlib.axis.YTick at 0x7f4618a1dc90>,\n",
       "  <matplotlib.axis.YTick at 0x7f467c735210>,\n",
       "  <matplotlib.axis.YTick at 0x7f4696223bd0>],\n",
       " [Text(0, 0.5, 'V'),\n",
       "  Text(0, 1.5, 'D'),\n",
       "  Text(0, 2.5, 'J'),\n",
       "  Text(0, 3.5, 'N'),\n",
       "  Text(0, 4.5, 'X')])"
      ]
     },
     "execution_count": 50,
     "metadata": {},
     "output_type": "execute_result"
    },
    {
     "data": {
      "image/png": "[encoded data removed]",
      "text/plain": [
       "<Figure size 640x480 with 2 Axes>"
      ]
     },
     "metadata": {},
     "output_type": "display_data"
    }
   ],
   "source": [
    "pred_classes = np.argmax(y_pred, axis=-1)\n",
    "y_true = np.argmax(y_shm_tensor,axis=-1)\n",
    "y_true_flat = y_true.flatten()\n",
    "y_pred_flat = pred_classes.flatten()\n",
    "cm = confusion_matrix(y_true_flat,y_pred_flat)\n",
    "cm_norm = cm/cm.sum(axis=1)[:, np.newaxis]\n",
    "plt.figure()\n",
    "plot_confusion_matrix(cm_norm, classes=['V', 'D', 'J', 'N','X'])\n",
    "labels = ['V', 'D', 'J', 'N','X']\n",
    "plt.xticks(np.arange(5) + 0.5, labels)\n",
    "plt.yticks(np.arange(5) + 0.5, labels)"
   ]
  },
  {
   "cell_type": "code",
   "execution_count": 51,
   "id": "86205ea1-4349-4c06-8d45-b1b15a4fb973",
   "metadata": {
    "tags": []
   },
   "outputs": [
    {
     "data": {
      "image/png": "[encoded data removed]",
      "text/plain": [
       "<Figure size 640x480 with 2 Axes>"
      ]
     },
     "metadata": {},
     "output_type": "display_data"
    }
   ],
   "source": [
    "plt.figure()\n",
    "sns.heatmap(cm, annot=True, fmt=\"d\")\n",
    "\n",
    "labels = ['V', 'D', 'J', 'N','X']\n",
    "plt.xticks(np.arange(5) + 0.5, labels)\n",
    "plt.yticks(np.arange(5) + 0.5, labels)\n",
    "\n",
    "plt.title(\"Confusion matrix\")\n",
    "plt.ylabel('True label')\n",
    "plt.xlabel('Predicted label')\n",
    "plt.show()"
   ]
  },
  {
   "cell_type": "code",
   "execution_count": 52,
   "id": "9abcbc47-71e8-41a5-ba21-fa0051b4a2f8",
   "metadata": {
    "tags": []
   },
   "outputs": [
    {
     "name": "stdout",
     "output_type": "stream",
     "text": [
      "Accuracy: 0.9905855555555556\n",
      "Precision: 0.9453267072099854\n",
      "Recall: 0.9394317881898789\n",
      "F1 Score: 0.9422330991807725\n"
     ]
    }
   ],
   "source": [
    "# accuracy\n",
    "accuracy = accuracy_score(y_true_flat, y_pred_flat)\n",
    "print('Accuracy:', accuracy)\n",
    "\n",
    "# precision\n",
    "precision = precision_score(y_true_flat, y_pred_flat, average='macro')\n",
    "print('Precision:', precision)\n",
    "\n",
    "# recall\n",
    "recall = recall_score(y_true_flat, y_pred_flat, average='macro')\n",
    "print('Recall:', recall)\n",
    "\n",
    "# F1-score\n",
    "f1 = f1_score(y_true_flat, y_pred_flat, average='macro')\n",
    "print('F1 Score:', f1)"
   ]
  },
  {
   "cell_type": "markdown",
   "id": "aef43351-1ecd-4549-8c62-3d045823bd44",
   "metadata": {},
   "source": [
    "## non shm set"
   ]
  },
  {
   "cell_type": "code",
   "execution_count": 53,
   "id": "8e3771c8-ab59-43fe-9322-4279c478df3a",
   "metadata": {
    "tags": []
   },
   "outputs": [],
   "source": [
    "fasta_file = os.path.join('..','repertoire','test','test_2000.fasta')\n",
    "annotation_file = os.path.join('..','repertoire','test','test_2000.tsv')"
   ]
  },
  {
   "cell_type": "code",
   "execution_count": 54,
   "id": "77456bc6-c3f4-4dbf-8ca0-488bce66eb28",
   "metadata": {
    "tags": []
   },
   "outputs": [
    {
     "name": "stderr",
     "output_type": "stream",
     "text": [
      "/tmp/ipykernel_405649/3505619144.py:14: DeprecationWarning: The binary mode of fromstring is deprecated, as it behaves surprisingly on unicode inputs. Use frombuffer instead\n",
      "  seq_array = np.fromstring(seq, np.int8)\n"
     ]
    },
    {
     "data": {
      "text/plain": [
       "(900000, 5)"
      ]
     },
     "execution_count": 54,
     "metadata": {},
     "output_type": "execute_result"
    }
   ],
   "source": [
    "sequences = input_file(fasta_file)\n",
    "X_nonshm = process_input(sequences,chunk_size)\n",
    "X_nonshm.shape"
   ]
  },
  {
   "cell_type": "code",
   "execution_count": 55,
   "id": "8eeba176-4615-410e-8226-e2ba15f8cd01",
   "metadata": {
    "tags": []
   },
   "outputs": [
    {
     "name": "stdout",
     "output_type": "stream",
     "text": [
      "900000\n",
      "(900000, 5)\n",
      " 5/63 [=>............................] - ETA: 0s"
     ]
    },
    {
     "name": "stderr",
     "output_type": "stream",
     "text": [
      "/tmp/ipykernel_405649/2970507474.py:8: DeprecationWarning: The binary mode of fromstring is deprecated, as it behaves surprisingly on unicode inputs. Use frombuffer instead\n",
      "  return np.fromstring(seq, np.int8)\n",
      "/tmp/ipykernel_405649/3818073805.py:14: DeprecationWarning: The binary mode of fromstring is deprecated, as it behaves surprisingly on unicode inputs. Use frombuffer instead\n",
      "  seq_array = np.fromstring(seq, np.int8)\n"
     ]
    },
    {
     "name": "stdout",
     "output_type": "stream",
     "text": [
      "63/63 [==============================] - 1s 13ms/step\n",
      "(2000, 450, 5)\n",
      "(2000, 450, 5)\n"
     ]
    }
   ],
   "source": [
    "df = pd.read_csv(annotation_file, sep='\\t', header=0)\n",
    "chunk_size=450\n",
    "VDJ_seq = []\n",
    "VDJ_num = []\n",
    "for i in range(len(df)):\n",
    "    seq = translate_output(df,i)\n",
    "    seq_num = output_catogory(seq)\n",
    "    VDJ_seq.append(seq)\n",
    "    VDJ_num.append(seq_num)\n",
    "        \n",
    "combined_vdj = ''.join(VDJ_seq)\n",
    "encoded_vdj = output_encoding(combined_vdj)\n",
    "print(len(combined_vdj))\n",
    "print(encoded_vdj.shape)\n",
    "y_nonshm = encoded_vdj\n",
    "timesteps = 450  \n",
    "\n",
    "X_nonshm_tensor = np.array([X_nonshm[i:i+timesteps] for i in range(0, X_nonshm.shape[0]-timesteps+1, timesteps)])\n",
    "y_nonshm_tensor = np.array([y_nonshm[i:i+timesteps] for i in range(0, y_nonshm.shape[0]-timesteps+1, timesteps)])\n",
    "y_pred = model.predict(X_nonshm_tensor)\n",
    "print(y_pred.shape)\n",
    "print(y_nonshm_tensor.shape)"
   ]
  },
  {
   "cell_type": "code",
   "execution_count": 56,
   "id": "4fd2be87-0024-41eb-85c0-254b2be70e4b",
   "metadata": {
    "tags": []
   },
   "outputs": [
    {
     "data": {
      "text/plain": [
       "([<matplotlib.axis.YTick at 0x7f4642945090>,\n",
       "  <matplotlib.axis.YTick at 0x7f463bfe5150>,\n",
       "  <matplotlib.axis.YTick at 0x7f4618adc710>,\n",
       "  <matplotlib.axis.YTick at 0x7f469ea2ccd0>,\n",
       "  <matplotlib.axis.YTick at 0x7f469ea2ef90>],\n",
       " [Text(0, 0.5, 'V'),\n",
       "  Text(0, 1.5, 'D'),\n",
       "  Text(0, 2.5, 'J'),\n",
       "  Text(0, 3.5, 'N'),\n",
       "  Text(0, 4.5, 'X')])"
      ]
     },
     "execution_count": 56,
     "metadata": {},
     "output_type": "execute_result"
    },
    {
     "data": {
      "image/png": "[encoded data removed]",
      "text/plain": [
       "<Figure size 640x480 with 2 Axes>"
      ]
     },
     "metadata": {},
     "output_type": "display_data"
    }
   ],
   "source": [
    "pred_classes = np.argmax(y_pred, axis=-1)\n",
    "y_true = np.argmax(y_nonshm_tensor,axis=-1)\n",
    "y_true_flat = y_true.flatten()\n",
    "y_pred_flat = pred_classes.flatten()\n",
    "cm = confusion_matrix(y_true_flat,y_pred_flat)\n",
    "cm_norm = cm/cm.sum(axis=1)[:, np.newaxis]\n",
    "plt.figure()\n",
    "plot_confusion_matrix(cm_norm, classes=['V', 'D', 'J', 'N','X'])\n",
    "labels = ['V', 'D', 'J', 'N','X']\n",
    "plt.xticks(np.arange(5) + 0.5, labels)\n",
    "plt.yticks(np.arange(5) + 0.5, labels)"
   ]
  },
  {
   "cell_type": "code",
   "execution_count": 57,
   "id": "1285f150-1e1b-4a0b-a3ef-e33297274e47",
   "metadata": {
    "tags": []
   },
   "outputs": [
    {
     "data": {
      "image/png": "[encoded data removed]",
      "text/plain": [
       "<Figure size 640x480 with 2 Axes>"
      ]
     },
     "metadata": {},
     "output_type": "display_data"
    }
   ],
   "source": [
    "plt.figure()\n",
    "sns.heatmap(cm, annot=True, fmt=\"d\")\n",
    "\n",
    "labels = ['V', 'D', 'J', 'N','X']\n",
    "plt.xticks(np.arange(5) + 0.5, labels)\n",
    "plt.yticks(np.arange(5) + 0.5, labels)\n",
    "\n",
    "plt.title(\"Confusion matrix\")\n",
    "plt.ylabel('True label')\n",
    "plt.xlabel('Predicted label')\n",
    "plt.show()"
   ]
  },
  {
   "cell_type": "code",
   "execution_count": 58,
   "id": "5650076c-d19a-41cc-87d9-c7eef9d77357",
   "metadata": {
    "tags": []
   },
   "outputs": [
    {
     "name": "stdout",
     "output_type": "stream",
     "text": [
      "Accuracy: 0.9926466666666667\n",
      "Precision: 0.9574325386273712\n",
      "Recall: 0.9529758150315206\n",
      "F1 Score: 0.9551759174693624\n"
     ]
    }
   ],
   "source": [
    "# accuracy\n",
    "accuracy = accuracy_score(y_true_flat, y_pred_flat)\n",
    "print('Accuracy:', accuracy)\n",
    "\n",
    "# precision\n",
    "precision = precision_score(y_true_flat, y_pred_flat, average='macro')\n",
    "print('Precision:', precision)\n",
    "\n",
    "# recall\n",
    "recall = recall_score(y_true_flat, y_pred_flat, average='macro')\n",
    "print('Recall:', recall)\n",
    "\n",
    "# F1-score\n",
    "f1 = f1_score(y_true_flat, y_pred_flat, average='macro')\n",
    "print('F1 Score:', f1)"
   ]
  },
  {
   "cell_type": "code",
   "execution_count": null,
   "id": "0e28a0c9-6171-4228-9389-4f0e755f27de",
   "metadata": {},
   "outputs": [],
   "source": []
  }
 ],
 "metadata": {
  "kernelspec": {
   "display_name": "test",
   "language": "python",
   "name": "test"
  },
  "language_info": {
   "codemirror_mode": {
    "name": "ipython",
    "version": 3
   },
   "file_extension": ".py",
   "mimetype": "text/x-python",
   "name": "python",
   "nbconvert_exporter": "python",
   "pygments_lexer": "ipython3",
   "version": "3.11.4"
  }
 },
 "nbformat": 4,
 "nbformat_minor": 5
}
