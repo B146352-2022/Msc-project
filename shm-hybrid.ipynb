{
 "cells": [
  {
   "cell_type": "code",
   "execution_count": 76,
   "id": "be3fdac2-0f54-4d3b-8772-a718f759ddea",
   "metadata": {
    "tags": []
   },
   "outputs": [
    {
     "name": "stdout",
     "output_type": "stream",
     "text": [
      "The tensorboard extension is already loaded. To reload it, use:\n",
      "  %reload_ext tensorboard\n"
     ]
    }
   ],
   "source": [
    "import os\n",
    "import re\n",
    "import pandas as pd\n",
    "import numpy as np\n",
    "import tensorflow as tf\n",
    "from sklearn.metrics import confusion_matrix\n",
    "import matplotlib.pyplot as plt\n",
    "import seaborn as sns\n",
    "import nbformat\n",
    "\n",
    "from keras.models import Sequential\n",
    "from keras.layers import Dense, Conv1D, MaxPooling1D, Flatten,Dropout,Conv2D\n",
    "from keras.layers import LSTM\n",
    "from keras.layers import Reshape\n",
    "from sklearn.model_selection import train_test_split\n",
    "# Load the TensorBoard notebook extension\n",
    "%load_ext tensorboard\n",
    "import datetime"
   ]
  },
  {
   "cell_type": "code",
   "execution_count": 77,
   "id": "58499ad2-e122-454d-a7e4-9cba365322ac",
   "metadata": {
    "tags": []
   },
   "outputs": [
    {
     "name": "stdout",
     "output_type": "stream",
     "text": [
      "The tensorboard extension is already loaded. To reload it, use:\n",
      "  %reload_ext tensorboard\n"
     ]
    }
   ],
   "source": [
    "%run 'one_hot.ipynb'"
   ]
  },
  {
   "cell_type": "code",
   "execution_count": 78,
   "id": "bd93070a-c411-492c-9980-f6f732eb51ca",
   "metadata": {
    "tags": []
   },
   "outputs": [
    {
     "name": "stdout",
     "output_type": "stream",
     "text": [
      "GPU device: PhysicalDevice(name='/physical_device:GPU:0', device_type='GPU')\n",
      "number of GPU device:  1\n"
     ]
    }
   ],
   "source": [
    "gpus = tf.config.list_physical_devices('GPU')\n",
    "\n",
    "if gpus:\n",
    "    for gpu in gpus:\n",
    "        print(\"GPU device:\", gpu)\n",
    "        print(\"number of GPU device: \",len(tf.config.experimental.list_physical_devices('GPU')))\n",
    "else:\n",
    "    print(\"No GPU devices found.\")\n",
    "\n",
    "\n",
    "tf.config.experimental.set_memory_growth(gpus[0], True)\n",
    "\n"
   ]
  },
  {
   "cell_type": "code",
   "execution_count": 79,
   "id": "70723b97-b7d3-40a5-bf50-1f22272a0ccf",
   "metadata": {
    "tags": []
   },
   "outputs": [],
   "source": [
    "fasta_file = os.path.join('..','repertoire','shm','shm_default.fasta')\n",
    "annotation_file = os.path.join('..','repertoire','shm','shm_default.tsv')"
   ]
  },
  {
   "cell_type": "code",
   "execution_count": 80,
   "id": "ae326e3a-f743-4005-b56d-7ee738dadf11",
   "metadata": {
    "tags": []
   },
   "outputs": [],
   "source": [
    "# pad the sequence and get the input\n",
    "def process_input(sequences,chunk_size):\n",
    "    \"\"\"\n",
    "    To ensure every sequence has the same length, I pad the sequence with \"N\" up to the length of set chunk_size\n",
    "    Then encode every sequence to get the final input for the model\n",
    "    input: a list of raw sequences and chunk size\n",
    "    output: the input of model (X)\n",
    "    \"\"\"\n",
    "    padded_seq = []\n",
    "    pad = ''\n",
    "    for seq in sequences:\n",
    "        pad = seq.ljust(chunk_size, 'N')\n",
    "        padded_seq.append(pad)\n",
    "    \n",
    "    combined_sequence = ''.join(padded_seq)\n",
    "    one_hot_sequences = one_hot_encode(combined_sequence) \n",
    "   \n",
    "    return one_hot_sequences"
   ]
  },
  {
   "cell_type": "code",
   "execution_count": 81,
   "id": "1f93cc49-2c4f-4a2d-9bb2-ac0afdcdd6e4",
   "metadata": {
    "tags": []
   },
   "outputs": [
    {
     "name": "stderr",
     "output_type": "stream",
     "text": [
      "/tmp/ipykernel_735454/3505619144.py:14: DeprecationWarning: The binary mode of fromstring is deprecated, as it behaves surprisingly on unicode inputs. Use frombuffer instead\n",
      "  seq_array = np.fromstring(seq, np.int8)\n"
     ]
    },
    {
     "data": {
      "text/plain": [
       "(4500000, 5)"
      ]
     },
     "execution_count": 81,
     "metadata": {},
     "output_type": "execute_result"
    }
   ],
   "source": [
    "chunk_size=450\n",
    "sequences = input_file(fasta_file)\n",
    "X = process_input(sequences,chunk_size)\n",
    "X.shape"
   ]
  },
  {
   "cell_type": "code",
   "execution_count": 82,
   "id": "32e8e248-2534-4167-8e15-8d663c7fa351",
   "metadata": {
    "tags": []
   },
   "outputs": [
    {
     "name": "stderr",
     "output_type": "stream",
     "text": [
      "/tmp/ipykernel_735454/2970507474.py:8: DeprecationWarning: The binary mode of fromstring is deprecated, as it behaves surprisingly on unicode inputs. Use frombuffer instead\n",
      "  return np.fromstring(seq, np.int8)\n",
      "/tmp/ipykernel_735454/3818073805.py:14: DeprecationWarning: The binary mode of fromstring is deprecated, as it behaves surprisingly on unicode inputs. Use frombuffer instead\n",
      "  seq_array = np.fromstring(seq, np.int8)\n"
     ]
    }
   ],
   "source": [
    "df = pd.read_csv(annotation_file, sep='\\t', header=0)\n",
    "chunk_size=450\n",
    "VDJ_seq = []\n",
    "VDJ_num = []\n",
    "for i in range(len(df)):\n",
    "    seq = translate_output(df,i)\n",
    "    seq_num = output_catogory(seq)\n",
    "    VDJ_seq.append(seq)\n",
    "    VDJ_num.append(seq_num)\n",
    "        \n",
    "combined_vdj = ''.join(VDJ_seq)\n",
    "encoded_vdj = output_encoding(combined_vdj)"
   ]
  },
  {
   "cell_type": "code",
   "execution_count": 83,
   "id": "4000f3ea-dba8-4512-87c2-32a83454ee63",
   "metadata": {
    "tags": []
   },
   "outputs": [
    {
     "name": "stdout",
     "output_type": "stream",
     "text": [
      "4500000\n",
      "(4500000, 5)\n"
     ]
    }
   ],
   "source": [
    "print(len(combined_vdj))\n",
    "print(encoded_vdj.shape)\n",
    "y = encoded_vdj"
   ]
  },
  {
   "cell_type": "code",
   "execution_count": 84,
   "id": "4833515d-bead-4839-bbc3-245f6ee0bdfd",
   "metadata": {
    "tags": []
   },
   "outputs": [],
   "source": [
    "train_data_ratio = 0.8 # Choose 80% of the data for training\n",
    "data_len = len(X)\n",
    "train_data_len = int(data_len*train_data_ratio)\n",
    "train_x = X[:train_data_len]\n",
    "train_y = y[:train_data_len]\n",
    "test_x = X[train_data_len:]\n",
    "test_y = y[train_data_len:]"
   ]
  },
  {
   "cell_type": "code",
   "execution_count": 85,
   "id": "e0be1b40-e953-4b6a-b118-7e6d453ba762",
   "metadata": {
    "tags": []
   },
   "outputs": [],
   "source": [
    "timesteps = 450  \n",
    "\n",
    "train_x_tensor = np.array([train_x[i:i+timesteps] for i in range(0, train_x.shape[0]-timesteps+1, timesteps)])\n",
    "train_y_tensor = np.array([train_y[i:i+timesteps] for i in range(0, train_y.shape[0]-timesteps+1, timesteps)])\n",
    "test_x_tensor = np.array([test_x[i:i+timesteps] for i in range(0, test_x.shape[0]-timesteps+1, timesteps)])\n",
    "test_y_tensor = np.array([test_y[i:i+timesteps] for i in range(0, test_y.shape[0]-timesteps+1, timesteps)])\n"
   ]
  },
  {
   "cell_type": "code",
   "execution_count": 86,
   "id": "38c7444f-6f4e-46c1-8044-9f48cbdfd215",
   "metadata": {
    "tags": []
   },
   "outputs": [],
   "source": [
    "from keras.layers import Dense, Dropout, LSTM, Embedding, Activation, Lambda, Bidirectional\n",
    "from tensorflow.keras.layers import TimeDistributed\n",
    "from keras.models import Sequential\n",
    "from keras.layers import Dense, Conv1D, MaxPooling1D, Flatten,Dropout,Conv2D\n",
    "from keras.layers import LSTM\n",
    "from keras.layers import Reshape\n",
    "import datetime\n",
    "from keras.layers import Dense, Dropout, LSTM, Embedding, Activation, Lambda, Bidirectional\n",
    "from tensorflow.keras.layers import TimeDistributed\n",
    "import time"
   ]
  },
  {
   "cell_type": "code",
   "execution_count": 87,
   "id": "26421f0a-a3e9-4de2-8a9d-dd81369179c5",
   "metadata": {
    "tags": []
   },
   "outputs": [
    {
     "name": "stderr",
     "output_type": "stream",
     "text": [
      "2023-08-05 16:03:50.329161: I tensorflow/core/common_runtime/executor.cc:1197] [/device:CPU:0] (DEBUG INFO) Executor start aborting (this does not indicate an error and you can ignore this message): INVALID_ARGUMENT: You must feed a value for placeholder tensor 'gradients/split_2_grad/concat/split_2/split_dim' with dtype int32\n",
      "\t [[{{node gradients/split_2_grad/concat/split_2/split_dim}}]]\n",
      "2023-08-05 16:03:50.329770: I tensorflow/core/common_runtime/executor.cc:1197] [/device:CPU:0] (DEBUG INFO) Executor start aborting (this does not indicate an error and you can ignore this message): INVALID_ARGUMENT: You must feed a value for placeholder tensor 'gradients/split_grad/concat/split/split_dim' with dtype int32\n",
      "\t [[{{node gradients/split_grad/concat/split/split_dim}}]]\n",
      "2023-08-05 16:03:50.330374: I tensorflow/core/common_runtime/executor.cc:1197] [/device:CPU:0] (DEBUG INFO) Executor start aborting (this does not indicate an error and you can ignore this message): INVALID_ARGUMENT: You must feed a value for placeholder tensor 'gradients/split_1_grad/concat/split_1/split_dim' with dtype int32\n",
      "\t [[{{node gradients/split_1_grad/concat/split_1/split_dim}}]]\n",
      "2023-08-05 16:03:50.375098: I tensorflow/core/common_runtime/executor.cc:1197] [/device:CPU:0] (DEBUG INFO) Executor start aborting (this does not indicate an error and you can ignore this message): INVALID_ARGUMENT: You must feed a value for placeholder tensor 'gradients/ReverseV2_grad/ReverseV2/ReverseV2/axis' with dtype int32 and shape [1]\n",
      "\t [[{{node gradients/ReverseV2_grad/ReverseV2/ReverseV2/axis}}]]\n",
      "2023-08-05 16:03:50.390426: I tensorflow/core/common_runtime/executor.cc:1197] [/device:CPU:0] (DEBUG INFO) Executor start aborting (this does not indicate an error and you can ignore this message): INVALID_ARGUMENT: You must feed a value for placeholder tensor 'gradients/split_2_grad/concat/split_2/split_dim' with dtype int32\n",
      "\t [[{{node gradients/split_2_grad/concat/split_2/split_dim}}]]\n",
      "2023-08-05 16:03:50.390848: I tensorflow/core/common_runtime/executor.cc:1197] [/device:CPU:0] (DEBUG INFO) Executor start aborting (this does not indicate an error and you can ignore this message): INVALID_ARGUMENT: You must feed a value for placeholder tensor 'gradients/split_grad/concat/split/split_dim' with dtype int32\n",
      "\t [[{{node gradients/split_grad/concat/split/split_dim}}]]\n",
      "2023-08-05 16:03:50.391249: I tensorflow/core/common_runtime/executor.cc:1197] [/device:CPU:0] (DEBUG INFO) Executor start aborting (this does not indicate an error and you can ignore this message): INVALID_ARGUMENT: You must feed a value for placeholder tensor 'gradients/split_1_grad/concat/split_1/split_dim' with dtype int32\n",
      "\t [[{{node gradients/split_1_grad/concat/split_1/split_dim}}]]\n",
      "2023-08-05 16:03:50.462824: I tensorflow/core/common_runtime/executor.cc:1197] [/device:CPU:0] (DEBUG INFO) Executor start aborting (this does not indicate an error and you can ignore this message): INVALID_ARGUMENT: You must feed a value for placeholder tensor 'gradients/split_2_grad/concat/split_2/split_dim' with dtype int32\n",
      "\t [[{{node gradients/split_2_grad/concat/split_2/split_dim}}]]\n",
      "2023-08-05 16:03:50.463433: I tensorflow/core/common_runtime/executor.cc:1197] [/device:CPU:0] (DEBUG INFO) Executor start aborting (this does not indicate an error and you can ignore this message): INVALID_ARGUMENT: You must feed a value for placeholder tensor 'gradients/split_grad/concat/split/split_dim' with dtype int32\n",
      "\t [[{{node gradients/split_grad/concat/split/split_dim}}]]\n",
      "2023-08-05 16:03:50.463891: I tensorflow/core/common_runtime/executor.cc:1197] [/device:CPU:0] (DEBUG INFO) Executor start aborting (this does not indicate an error and you can ignore this message): INVALID_ARGUMENT: You must feed a value for placeholder tensor 'gradients/split_1_grad/concat/split_1/split_dim' with dtype int32\n",
      "\t [[{{node gradients/split_1_grad/concat/split_1/split_dim}}]]\n",
      "2023-08-05 16:03:50.508231: I tensorflow/core/common_runtime/executor.cc:1197] [/device:CPU:0] (DEBUG INFO) Executor start aborting (this does not indicate an error and you can ignore this message): INVALID_ARGUMENT: You must feed a value for placeholder tensor 'gradients/ReverseV2_grad/ReverseV2/ReverseV2/axis' with dtype int32 and shape [1]\n",
      "\t [[{{node gradients/ReverseV2_grad/ReverseV2/ReverseV2/axis}}]]\n",
      "2023-08-05 16:03:50.523496: I tensorflow/core/common_runtime/executor.cc:1197] [/device:CPU:0] (DEBUG INFO) Executor start aborting (this does not indicate an error and you can ignore this message): INVALID_ARGUMENT: You must feed a value for placeholder tensor 'gradients/split_2_grad/concat/split_2/split_dim' with dtype int32\n",
      "\t [[{{node gradients/split_2_grad/concat/split_2/split_dim}}]]\n",
      "2023-08-05 16:03:50.523950: I tensorflow/core/common_runtime/executor.cc:1197] [/device:CPU:0] (DEBUG INFO) Executor start aborting (this does not indicate an error and you can ignore this message): INVALID_ARGUMENT: You must feed a value for placeholder tensor 'gradients/split_grad/concat/split/split_dim' with dtype int32\n",
      "\t [[{{node gradients/split_grad/concat/split/split_dim}}]]\n",
      "2023-08-05 16:03:50.524363: I tensorflow/core/common_runtime/executor.cc:1197] [/device:CPU:0] (DEBUG INFO) Executor start aborting (this does not indicate an error and you can ignore this message): INVALID_ARGUMENT: You must feed a value for placeholder tensor 'gradients/split_1_grad/concat/split_1/split_dim' with dtype int32\n",
      "\t [[{{node gradients/split_1_grad/concat/split_1/split_dim}}]]\n"
     ]
    },
    {
     "name": "stdout",
     "output_type": "stream",
     "text": [
      "Model: \"sequential_4\"\n",
      "_________________________________________________________________\n",
      " Layer (type)                Output Shape              Param #   \n",
      "=================================================================\n",
      " conv1d_8 (Conv1D)           (None, 450, 16)           176       \n",
      "                                                                 \n",
      " dropout_5 (Dropout)         (None, 450, 16)           0         \n",
      "                                                                 \n",
      " conv1d_9 (Conv1D)           (None, 450, 8)            264       \n",
      "                                                                 \n",
      " max_pooling1d_4 (MaxPooling  (None, 450, 8)           0         \n",
      " 1D)                                                             \n",
      "                                                                 \n",
      " time_distributed_6 (TimeDis  (None, 450, 8)           0         \n",
      " tributed)                                                       \n",
      "                                                                 \n",
      " bidirectional_6 (Bidirectio  (None, 450, 128)         37376     \n",
      " nal)                                                            \n",
      "                                                                 \n",
      " dropout_6 (Dropout)         (None, 450, 128)          0         \n",
      "                                                                 \n",
      " bidirectional_7 (Bidirectio  (None, 450, 128)         98816     \n",
      " nal)                                                            \n",
      "                                                                 \n",
      " time_distributed_7 (TimeDis  (None, 450, 5)           645       \n",
      " tributed)                                                       \n",
      "                                                                 \n",
      "=================================================================\n",
      "Total params: 137,277\n",
      "Trainable params: 137,277\n",
      "Non-trainable params: 0\n",
      "_________________________________________________________________\n",
      "None\n"
     ]
    }
   ],
   "source": [
    "\n",
    "sequence_length = 450\n",
    "one_hot_length = 5\n",
    "input_shape = (sequence_length, one_hot_length)\n",
    "num_classes = 5\n",
    "RNN_HIDDEN_DIM = 64\n",
    "DROPOUT_RATIO = 0.5\n",
    "\n",
    "model = Sequential()\n",
    "\n",
    "# First, add the CNN layers for feature extraction\n",
    "model.add(Conv1D(filters=16, kernel_size=2, padding='same', activation='relu', input_shape=input_shape))\n",
    "model.add(Dropout(DROPOUT_RATIO))\n",
    "model.add(Conv1D(filters=8, kernel_size=2, padding='same', activation='relu'))\n",
    "model.add(MaxPooling1D(pool_size=1))\n",
    "\n",
    "# Then, reshape the output from CNN layers to fit the LSTM layer\n",
    "model.add(TimeDistributed(Flatten())) \n",
    "\n",
    "# Followed by the LSTM layers\n",
    "model.add(Bidirectional(LSTM(units=RNN_HIDDEN_DIM, return_sequences=True)))\n",
    "model.add(Dropout(DROPOUT_RATIO))\n",
    "model.add(Bidirectional(LSTM(units=RNN_HIDDEN_DIM, return_sequences=True)))\n",
    "\n",
    "# Lastly, add a TimeDistributed Dense layer for output\n",
    "model.add(TimeDistributed(Dense(num_classes, activation='softmax')))\n",
    "\n",
    "model.compile(loss='categorical_crossentropy', optimizer='adam', metrics=['accuracy'])\n",
    "print(model.summary())\n"
   ]
  },
  {
   "cell_type": "code",
   "execution_count": 88,
   "id": "a7b60b92-1e26-4473-a0f7-d717f26cd4ba",
   "metadata": {
    "tags": []
   },
   "outputs": [],
   "source": [
    "import time"
   ]
  },
  {
   "cell_type": "code",
   "execution_count": 89,
   "id": "d7603833-b00b-40b2-9fe0-de4d16809ff0",
   "metadata": {
    "tags": []
   },
   "outputs": [
    {
     "name": "stdout",
     "output_type": "stream",
     "text": [
      "Epoch 1/150\n"
     ]
    },
    {
     "name": "stderr",
     "output_type": "stream",
     "text": [
      "2023-08-05 16:03:53.354418: I tensorflow/core/common_runtime/executor.cc:1197] [/device:CPU:0] (DEBUG INFO) Executor start aborting (this does not indicate an error and you can ignore this message): INVALID_ARGUMENT: You must feed a value for placeholder tensor 'gradients/split_2_grad/concat/split_2/split_dim' with dtype int32\n",
      "\t [[{{node gradients/split_2_grad/concat/split_2/split_dim}}]]\n",
      "2023-08-05 16:03:53.355246: I tensorflow/core/common_runtime/executor.cc:1197] [/device:CPU:0] (DEBUG INFO) Executor start aborting (this does not indicate an error and you can ignore this message): INVALID_ARGUMENT: You must feed a value for placeholder tensor 'gradients/split_grad/concat/split/split_dim' with dtype int32\n",
      "\t [[{{node gradients/split_grad/concat/split/split_dim}}]]\n",
      "2023-08-05 16:03:53.355833: I tensorflow/core/common_runtime/executor.cc:1197] [/device:CPU:0] (DEBUG INFO) Executor start aborting (this does not indicate an error and you can ignore this message): INVALID_ARGUMENT: You must feed a value for placeholder tensor 'gradients/split_1_grad/concat/split_1/split_dim' with dtype int32\n",
      "\t [[{{node gradients/split_1_grad/concat/split_1/split_dim}}]]\n",
      "2023-08-05 16:03:53.412042: I tensorflow/core/common_runtime/executor.cc:1197] [/device:CPU:0] (DEBUG INFO) Executor start aborting (this does not indicate an error and you can ignore this message): INVALID_ARGUMENT: You must feed a value for placeholder tensor 'gradients/ReverseV2_grad/ReverseV2/ReverseV2/axis' with dtype int32 and shape [1]\n",
      "\t [[{{node gradients/ReverseV2_grad/ReverseV2/ReverseV2/axis}}]]\n",
      "2023-08-05 16:03:53.433522: I tensorflow/core/common_runtime/executor.cc:1197] [/device:CPU:0] (DEBUG INFO) Executor start aborting (this does not indicate an error and you can ignore this message): INVALID_ARGUMENT: You must feed a value for placeholder tensor 'gradients/split_2_grad/concat/split_2/split_dim' with dtype int32\n",
      "\t [[{{node gradients/split_2_grad/concat/split_2/split_dim}}]]\n",
      "2023-08-05 16:03:53.434089: I tensorflow/core/common_runtime/executor.cc:1197] [/device:CPU:0] (DEBUG INFO) Executor start aborting (this does not indicate an error and you can ignore this message): INVALID_ARGUMENT: You must feed a value for placeholder tensor 'gradients/split_grad/concat/split/split_dim' with dtype int32\n",
      "\t [[{{node gradients/split_grad/concat/split/split_dim}}]]\n",
      "2023-08-05 16:03:53.434589: I tensorflow/core/common_runtime/executor.cc:1197] [/device:CPU:0] (DEBUG INFO) Executor start aborting (this does not indicate an error and you can ignore this message): INVALID_ARGUMENT: You must feed a value for placeholder tensor 'gradients/split_1_grad/concat/split_1/split_dim' with dtype int32\n",
      "\t [[{{node gradients/split_1_grad/concat/split_1/split_dim}}]]\n",
      "2023-08-05 16:03:53.512271: I tensorflow/core/common_runtime/executor.cc:1197] [/device:CPU:0] (DEBUG INFO) Executor start aborting (this does not indicate an error and you can ignore this message): INVALID_ARGUMENT: You must feed a value for placeholder tensor 'gradients/split_2_grad/concat/split_2/split_dim' with dtype int32\n",
      "\t [[{{node gradients/split_2_grad/concat/split_2/split_dim}}]]\n",
      "2023-08-05 16:03:53.512849: I tensorflow/core/common_runtime/executor.cc:1197] [/device:CPU:0] (DEBUG INFO) Executor start aborting (this does not indicate an error and you can ignore this message): INVALID_ARGUMENT: You must feed a value for placeholder tensor 'gradients/split_grad/concat/split/split_dim' with dtype int32\n",
      "\t [[{{node gradients/split_grad/concat/split/split_dim}}]]\n",
      "2023-08-05 16:03:53.513419: I tensorflow/core/common_runtime/executor.cc:1197] [/device:CPU:0] (DEBUG INFO) Executor start aborting (this does not indicate an error and you can ignore this message): INVALID_ARGUMENT: You must feed a value for placeholder tensor 'gradients/split_1_grad/concat/split_1/split_dim' with dtype int32\n",
      "\t [[{{node gradients/split_1_grad/concat/split_1/split_dim}}]]\n",
      "2023-08-05 16:03:53.570191: I tensorflow/core/common_runtime/executor.cc:1197] [/device:CPU:0] (DEBUG INFO) Executor start aborting (this does not indicate an error and you can ignore this message): INVALID_ARGUMENT: You must feed a value for placeholder tensor 'gradients/ReverseV2_grad/ReverseV2/ReverseV2/axis' with dtype int32 and shape [1]\n",
      "\t [[{{node gradients/ReverseV2_grad/ReverseV2/ReverseV2/axis}}]]\n",
      "2023-08-05 16:03:53.593172: I tensorflow/core/common_runtime/executor.cc:1197] [/device:CPU:0] (DEBUG INFO) Executor start aborting (this does not indicate an error and you can ignore this message): INVALID_ARGUMENT: You must feed a value for placeholder tensor 'gradients/split_2_grad/concat/split_2/split_dim' with dtype int32\n",
      "\t [[{{node gradients/split_2_grad/concat/split_2/split_dim}}]]\n",
      "2023-08-05 16:03:53.593786: I tensorflow/core/common_runtime/executor.cc:1197] [/device:CPU:0] (DEBUG INFO) Executor start aborting (this does not indicate an error and you can ignore this message): INVALID_ARGUMENT: You must feed a value for placeholder tensor 'gradients/split_grad/concat/split/split_dim' with dtype int32\n",
      "\t [[{{node gradients/split_grad/concat/split/split_dim}}]]\n",
      "2023-08-05 16:03:53.594330: I tensorflow/core/common_runtime/executor.cc:1197] [/device:CPU:0] (DEBUG INFO) Executor start aborting (this does not indicate an error and you can ignore this message): INVALID_ARGUMENT: You must feed a value for placeholder tensor 'gradients/split_1_grad/concat/split_1/split_dim' with dtype int32\n",
      "\t [[{{node gradients/split_1_grad/concat/split_1/split_dim}}]]\n",
      "2023-08-05 16:03:53.723028: I tensorflow/core/common_runtime/executor.cc:1197] [/device:CPU:0] (DEBUG INFO) Executor start aborting (this does not indicate an error and you can ignore this message): INVALID_ARGUMENT: You must feed a value for placeholder tensor 'gradients/ReverseV2_grad/ReverseV2/ReverseV2/axis' with dtype int32 and shape [1]\n",
      "\t [[{{node gradients/ReverseV2_grad/ReverseV2/ReverseV2/axis}}]]\n",
      "2023-08-05 16:03:53.825940: I tensorflow/core/common_runtime/executor.cc:1197] [/device:CPU:0] (DEBUG INFO) Executor start aborting (this does not indicate an error and you can ignore this message): INVALID_ARGUMENT: You must feed a value for placeholder tensor 'gradients/ReverseV2_grad/ReverseV2/ReverseV2/axis' with dtype int32 and shape [1]\n",
      "\t [[{{node gradients/ReverseV2_grad/ReverseV2/ReverseV2/axis}}]]\n",
      "2023-08-05 16:03:54.305879: I tensorflow/core/common_runtime/executor.cc:1197] [/device:CPU:0] (DEBUG INFO) Executor start aborting (this does not indicate an error and you can ignore this message): INVALID_ARGUMENT: You must feed a value for placeholder tensor 'gradients/split_2_grad/concat/split_2/split_dim' with dtype int32\n",
      "\t [[{{node gradients/split_2_grad/concat/split_2/split_dim}}]]\n",
      "2023-08-05 16:03:54.306820: I tensorflow/core/common_runtime/executor.cc:1197] [/device:CPU:0] (DEBUG INFO) Executor start aborting (this does not indicate an error and you can ignore this message): INVALID_ARGUMENT: You must feed a value for placeholder tensor 'gradients/split_grad/concat/split/split_dim' with dtype int32\n",
      "\t [[{{node gradients/split_grad/concat/split/split_dim}}]]\n",
      "2023-08-05 16:03:54.307375: I tensorflow/core/common_runtime/executor.cc:1197] [/device:CPU:0] (DEBUG INFO) Executor start aborting (this does not indicate an error and you can ignore this message): INVALID_ARGUMENT: You must feed a value for placeholder tensor 'gradients/split_1_grad/concat/split_1/split_dim' with dtype int32\n",
      "\t [[{{node gradients/split_1_grad/concat/split_1/split_dim}}]]\n",
      "2023-08-05 16:03:54.365437: I tensorflow/core/common_runtime/executor.cc:1197] [/device:CPU:0] (DEBUG INFO) Executor start aborting (this does not indicate an error and you can ignore this message): INVALID_ARGUMENT: You must feed a value for placeholder tensor 'gradients/ReverseV2_grad/ReverseV2/ReverseV2/axis' with dtype int32 and shape [1]\n",
      "\t [[{{node gradients/ReverseV2_grad/ReverseV2/ReverseV2/axis}}]]\n",
      "2023-08-05 16:03:54.385537: I tensorflow/core/common_runtime/executor.cc:1197] [/device:CPU:0] (DEBUG INFO) Executor start aborting (this does not indicate an error and you can ignore this message): INVALID_ARGUMENT: You must feed a value for placeholder tensor 'gradients/split_2_grad/concat/split_2/split_dim' with dtype int32\n",
      "\t [[{{node gradients/split_2_grad/concat/split_2/split_dim}}]]\n",
      "2023-08-05 16:03:54.386102: I tensorflow/core/common_runtime/executor.cc:1197] [/device:CPU:0] (DEBUG INFO) Executor start aborting (this does not indicate an error and you can ignore this message): INVALID_ARGUMENT: You must feed a value for placeholder tensor 'gradients/split_grad/concat/split/split_dim' with dtype int32\n",
      "\t [[{{node gradients/split_grad/concat/split/split_dim}}]]\n",
      "2023-08-05 16:03:54.386673: I tensorflow/core/common_runtime/executor.cc:1197] [/device:CPU:0] (DEBUG INFO) Executor start aborting (this does not indicate an error and you can ignore this message): INVALID_ARGUMENT: You must feed a value for placeholder tensor 'gradients/split_1_grad/concat/split_1/split_dim' with dtype int32\n",
      "\t [[{{node gradients/split_1_grad/concat/split_1/split_dim}}]]\n",
      "2023-08-05 16:03:54.463627: I tensorflow/core/common_runtime/executor.cc:1197] [/device:CPU:0] (DEBUG INFO) Executor start aborting (this does not indicate an error and you can ignore this message): INVALID_ARGUMENT: You must feed a value for placeholder tensor 'gradients/split_2_grad/concat/split_2/split_dim' with dtype int32\n",
      "\t [[{{node gradients/split_2_grad/concat/split_2/split_dim}}]]\n",
      "2023-08-05 16:03:54.464200: I tensorflow/core/common_runtime/executor.cc:1197] [/device:CPU:0] (DEBUG INFO) Executor start aborting (this does not indicate an error and you can ignore this message): INVALID_ARGUMENT: You must feed a value for placeholder tensor 'gradients/split_grad/concat/split/split_dim' with dtype int32\n",
      "\t [[{{node gradients/split_grad/concat/split/split_dim}}]]\n",
      "2023-08-05 16:03:54.464721: I tensorflow/core/common_runtime/executor.cc:1197] [/device:CPU:0] (DEBUG INFO) Executor start aborting (this does not indicate an error and you can ignore this message): INVALID_ARGUMENT: You must feed a value for placeholder tensor 'gradients/split_1_grad/concat/split_1/split_dim' with dtype int32\n",
      "\t [[{{node gradients/split_1_grad/concat/split_1/split_dim}}]]\n",
      "2023-08-05 16:03:54.520898: I tensorflow/core/common_runtime/executor.cc:1197] [/device:CPU:0] (DEBUG INFO) Executor start aborting (this does not indicate an error and you can ignore this message): INVALID_ARGUMENT: You must feed a value for placeholder tensor 'gradients/ReverseV2_grad/ReverseV2/ReverseV2/axis' with dtype int32 and shape [1]\n",
      "\t [[{{node gradients/ReverseV2_grad/ReverseV2/ReverseV2/axis}}]]\n",
      "2023-08-05 16:03:54.541942: I tensorflow/core/common_runtime/executor.cc:1197] [/device:CPU:0] (DEBUG INFO) Executor start aborting (this does not indicate an error and you can ignore this message): INVALID_ARGUMENT: You must feed a value for placeholder tensor 'gradients/split_2_grad/concat/split_2/split_dim' with dtype int32\n",
      "\t [[{{node gradients/split_2_grad/concat/split_2/split_dim}}]]\n",
      "2023-08-05 16:03:54.542524: I tensorflow/core/common_runtime/executor.cc:1197] [/device:CPU:0] (DEBUG INFO) Executor start aborting (this does not indicate an error and you can ignore this message): INVALID_ARGUMENT: You must feed a value for placeholder tensor 'gradients/split_grad/concat/split/split_dim' with dtype int32\n",
      "\t [[{{node gradients/split_grad/concat/split/split_dim}}]]\n",
      "2023-08-05 16:03:54.543078: I tensorflow/core/common_runtime/executor.cc:1197] [/device:CPU:0] (DEBUG INFO) Executor start aborting (this does not indicate an error and you can ignore this message): INVALID_ARGUMENT: You must feed a value for placeholder tensor 'gradients/split_1_grad/concat/split_1/split_dim' with dtype int32\n",
      "\t [[{{node gradients/split_1_grad/concat/split_1/split_dim}}]]\n",
      "2023-08-05 16:03:54.667533: I tensorflow/core/common_runtime/executor.cc:1197] [/device:CPU:0] (DEBUG INFO) Executor start aborting (this does not indicate an error and you can ignore this message): INVALID_ARGUMENT: You must feed a value for placeholder tensor 'gradients/ReverseV2_grad/ReverseV2/ReverseV2/axis' with dtype int32 and shape [1]\n",
      "\t [[{{node gradients/ReverseV2_grad/ReverseV2/ReverseV2/axis}}]]\n",
      "2023-08-05 16:03:54.771452: I tensorflow/core/common_runtime/executor.cc:1197] [/device:CPU:0] (DEBUG INFO) Executor start aborting (this does not indicate an error and you can ignore this message): INVALID_ARGUMENT: You must feed a value for placeholder tensor 'gradients/ReverseV2_grad/ReverseV2/ReverseV2/axis' with dtype int32 and shape [1]\n",
      "\t [[{{node gradients/ReverseV2_grad/ReverseV2/ReverseV2/axis}}]]\n"
     ]
    },
    {
     "name": "stdout",
     "output_type": "stream",
     "text": [
      "125/125 [==============================] - ETA: 0s - loss: 0.3857 - accuracy: 0.8685"
     ]
    },
    {
     "name": "stderr",
     "output_type": "stream",
     "text": [
      "2023-08-05 16:03:59.552290: I tensorflow/core/common_runtime/executor.cc:1197] [/device:CPU:0] (DEBUG INFO) Executor start aborting (this does not indicate an error and you can ignore this message): INVALID_ARGUMENT: You must feed a value for placeholder tensor 'gradients/split_2_grad/concat/split_2/split_dim' with dtype int32\n",
      "\t [[{{node gradients/split_2_grad/concat/split_2/split_dim}}]]\n",
      "2023-08-05 16:03:59.553246: I tensorflow/core/common_runtime/executor.cc:1197] [/device:CPU:0] (DEBUG INFO) Executor start aborting (this does not indicate an error and you can ignore this message): INVALID_ARGUMENT: You must feed a value for placeholder tensor 'gradients/split_grad/concat/split/split_dim' with dtype int32\n",
      "\t [[{{node gradients/split_grad/concat/split/split_dim}}]]\n",
      "2023-08-05 16:03:59.553830: I tensorflow/core/common_runtime/executor.cc:1197] [/device:CPU:0] (DEBUG INFO) Executor start aborting (this does not indicate an error and you can ignore this message): INVALID_ARGUMENT: You must feed a value for placeholder tensor 'gradients/split_1_grad/concat/split_1/split_dim' with dtype int32\n",
      "\t [[{{node gradients/split_1_grad/concat/split_1/split_dim}}]]\n",
      "2023-08-05 16:03:59.607017: I tensorflow/core/common_runtime/executor.cc:1197] [/device:CPU:0] (DEBUG INFO) Executor start aborting (this does not indicate an error and you can ignore this message): INVALID_ARGUMENT: You must feed a value for placeholder tensor 'gradients/ReverseV2_grad/ReverseV2/ReverseV2/axis' with dtype int32 and shape [1]\n",
      "\t [[{{node gradients/ReverseV2_grad/ReverseV2/ReverseV2/axis}}]]\n",
      "2023-08-05 16:03:59.628661: I tensorflow/core/common_runtime/executor.cc:1197] [/device:CPU:0] (DEBUG INFO) Executor start aborting (this does not indicate an error and you can ignore this message): INVALID_ARGUMENT: You must feed a value for placeholder tensor 'gradients/split_2_grad/concat/split_2/split_dim' with dtype int32\n",
      "\t [[{{node gradients/split_2_grad/concat/split_2/split_dim}}]]\n",
      "2023-08-05 16:03:59.629178: I tensorflow/core/common_runtime/executor.cc:1197] [/device:CPU:0] (DEBUG INFO) Executor start aborting (this does not indicate an error and you can ignore this message): INVALID_ARGUMENT: You must feed a value for placeholder tensor 'gradients/split_grad/concat/split/split_dim' with dtype int32\n",
      "\t [[{{node gradients/split_grad/concat/split/split_dim}}]]\n",
      "2023-08-05 16:03:59.629765: I tensorflow/core/common_runtime/executor.cc:1197] [/device:CPU:0] (DEBUG INFO) Executor start aborting (this does not indicate an error and you can ignore this message): INVALID_ARGUMENT: You must feed a value for placeholder tensor 'gradients/split_1_grad/concat/split_1/split_dim' with dtype int32\n",
      "\t [[{{node gradients/split_1_grad/concat/split_1/split_dim}}]]\n",
      "2023-08-05 16:03:59.702669: I tensorflow/core/common_runtime/executor.cc:1197] [/device:CPU:0] (DEBUG INFO) Executor start aborting (this does not indicate an error and you can ignore this message): INVALID_ARGUMENT: You must feed a value for placeholder tensor 'gradients/split_2_grad/concat/split_2/split_dim' with dtype int32\n",
      "\t [[{{node gradients/split_2_grad/concat/split_2/split_dim}}]]\n",
      "2023-08-05 16:03:59.703251: I tensorflow/core/common_runtime/executor.cc:1197] [/device:CPU:0] (DEBUG INFO) Executor start aborting (this does not indicate an error and you can ignore this message): INVALID_ARGUMENT: You must feed a value for placeholder tensor 'gradients/split_grad/concat/split/split_dim' with dtype int32\n",
      "\t [[{{node gradients/split_grad/concat/split/split_dim}}]]\n",
      "2023-08-05 16:03:59.703788: I tensorflow/core/common_runtime/executor.cc:1197] [/device:CPU:0] (DEBUG INFO) Executor start aborting (this does not indicate an error and you can ignore this message): INVALID_ARGUMENT: You must feed a value for placeholder tensor 'gradients/split_1_grad/concat/split_1/split_dim' with dtype int32\n",
      "\t [[{{node gradients/split_1_grad/concat/split_1/split_dim}}]]\n",
      "2023-08-05 16:03:59.756679: I tensorflow/core/common_runtime/executor.cc:1197] [/device:CPU:0] (DEBUG INFO) Executor start aborting (this does not indicate an error and you can ignore this message): INVALID_ARGUMENT: You must feed a value for placeholder tensor 'gradients/ReverseV2_grad/ReverseV2/ReverseV2/axis' with dtype int32 and shape [1]\n",
      "\t [[{{node gradients/ReverseV2_grad/ReverseV2/ReverseV2/axis}}]]\n",
      "2023-08-05 16:03:59.778807: I tensorflow/core/common_runtime/executor.cc:1197] [/device:CPU:0] (DEBUG INFO) Executor start aborting (this does not indicate an error and you can ignore this message): INVALID_ARGUMENT: You must feed a value for placeholder tensor 'gradients/split_2_grad/concat/split_2/split_dim' with dtype int32\n",
      "\t [[{{node gradients/split_2_grad/concat/split_2/split_dim}}]]\n",
      "2023-08-05 16:03:59.779721: I tensorflow/core/common_runtime/executor.cc:1197] [/device:CPU:0] (DEBUG INFO) Executor start aborting (this does not indicate an error and you can ignore this message): INVALID_ARGUMENT: You must feed a value for placeholder tensor 'gradients/split_grad/concat/split/split_dim' with dtype int32\n",
      "\t [[{{node gradients/split_grad/concat/split/split_dim}}]]\n",
      "2023-08-05 16:03:59.780355: I tensorflow/core/common_runtime/executor.cc:1197] [/device:CPU:0] (DEBUG INFO) Executor start aborting (this does not indicate an error and you can ignore this message): INVALID_ARGUMENT: You must feed a value for placeholder tensor 'gradients/split_1_grad/concat/split_1/split_dim' with dtype int32\n",
      "\t [[{{node gradients/split_1_grad/concat/split_1/split_dim}}]]\n"
     ]
    },
    {
     "name": "stdout",
     "output_type": "stream",
     "text": [
      "125/125 [==============================] - 7s 39ms/step - loss: 0.3857 - accuracy: 0.8685 - val_loss: 0.1241 - val_accuracy: 0.9482\n",
      "Epoch 2/150\n",
      "125/125 [==============================] - 5s 42ms/step - loss: 0.1254 - accuracy: 0.9463 - val_loss: 0.1138 - val_accuracy: 0.9522\n",
      "Epoch 3/150\n",
      "125/125 [==============================] - 7s 55ms/step - loss: 0.0912 - accuracy: 0.9600 - val_loss: 0.0648 - val_accuracy: 0.9715\n",
      "Epoch 4/150\n",
      "125/125 [==============================] - 5s 43ms/step - loss: 0.0680 - accuracy: 0.9693 - val_loss: 0.0582 - val_accuracy: 0.9743\n",
      "Epoch 5/150\n",
      "125/125 [==============================] - 7s 56ms/step - loss: 0.0632 - accuracy: 0.9715 - val_loss: 0.0567 - val_accuracy: 0.9739\n",
      "Epoch 6/150\n",
      "125/125 [==============================] - 6s 52ms/step - loss: 0.0602 - accuracy: 0.9727 - val_loss: 0.0523 - val_accuracy: 0.9765\n",
      "Epoch 7/150\n",
      "125/125 [==============================] - 7s 54ms/step - loss: 0.0600 - accuracy: 0.9729 - val_loss: 0.0520 - val_accuracy: 0.9769\n",
      "Epoch 8/150\n",
      "125/125 [==============================] - 5s 41ms/step - loss: 0.0555 - accuracy: 0.9748 - val_loss: 0.0492 - val_accuracy: 0.9782\n",
      "Epoch 9/150\n",
      "125/125 [==============================] - 6s 50ms/step - loss: 0.0546 - accuracy: 0.9754 - val_loss: 0.0474 - val_accuracy: 0.9790\n",
      "Epoch 10/150\n",
      "125/125 [==============================] - 4s 36ms/step - loss: 0.0540 - accuracy: 0.9757 - val_loss: 0.0471 - val_accuracy: 0.9791\n",
      "Epoch 11/150\n",
      "125/125 [==============================] - 6s 46ms/step - loss: 0.0518 - accuracy: 0.9770 - val_loss: 0.0461 - val_accuracy: 0.9796\n",
      "Epoch 12/150\n",
      "125/125 [==============================] - 5s 39ms/step - loss: 0.0500 - accuracy: 0.9775 - val_loss: 0.0435 - val_accuracy: 0.9805\n",
      "Epoch 13/150\n",
      "125/125 [==============================] - 5s 43ms/step - loss: 0.0490 - accuracy: 0.9781 - val_loss: 0.0429 - val_accuracy: 0.9811\n",
      "Epoch 14/150\n",
      "125/125 [==============================] - 5s 41ms/step - loss: 0.0484 - accuracy: 0.9785 - val_loss: 0.0423 - val_accuracy: 0.9814\n",
      "Epoch 15/150\n",
      "125/125 [==============================] - 7s 56ms/step - loss: 0.0470 - accuracy: 0.9792 - val_loss: 0.0412 - val_accuracy: 0.9819\n",
      "Epoch 16/150\n",
      "125/125 [==============================] - 7s 53ms/step - loss: 0.0460 - accuracy: 0.9796 - val_loss: 0.0426 - val_accuracy: 0.9812\n",
      "Epoch 17/150\n",
      "125/125 [==============================] - 6s 51ms/step - loss: 0.0449 - accuracy: 0.9802 - val_loss: 0.0398 - val_accuracy: 0.9825\n",
      "Epoch 18/150\n",
      "125/125 [==============================] - 6s 48ms/step - loss: 0.0443 - accuracy: 0.9805 - val_loss: 0.0394 - val_accuracy: 0.9827\n",
      "Epoch 19/150\n",
      "125/125 [==============================] - 6s 51ms/step - loss: 0.0437 - accuracy: 0.9808 - val_loss: 0.0393 - val_accuracy: 0.9826\n",
      "Epoch 20/150\n",
      "125/125 [==============================] - 6s 44ms/step - loss: 0.0435 - accuracy: 0.9808 - val_loss: 0.0383 - val_accuracy: 0.9834\n",
      "Epoch 21/150\n",
      "125/125 [==============================] - 6s 44ms/step - loss: 0.0532 - accuracy: 0.9777 - val_loss: 0.0418 - val_accuracy: 0.9819\n",
      "Epoch 22/150\n",
      "125/125 [==============================] - 6s 47ms/step - loss: 0.0453 - accuracy: 0.9804 - val_loss: 0.0392 - val_accuracy: 0.9830\n",
      "Epoch 23/150\n",
      "125/125 [==============================] - 4s 36ms/step - loss: 0.0432 - accuracy: 0.9812 - val_loss: 0.0387 - val_accuracy: 0.9833\n",
      "Epoch 24/150\n",
      "125/125 [==============================] - 5s 38ms/step - loss: 0.0423 - accuracy: 0.9815 - val_loss: 0.0377 - val_accuracy: 0.9837\n",
      "Epoch 25/150\n",
      "125/125 [==============================] - 6s 50ms/step - loss: 0.0429 - accuracy: 0.9814 - val_loss: 0.0381 - val_accuracy: 0.9834\n",
      "Epoch 26/150\n",
      "125/125 [==============================] - 6s 48ms/step - loss: 0.0416 - accuracy: 0.9818 - val_loss: 0.0372 - val_accuracy: 0.9840\n",
      "Epoch 27/150\n",
      "125/125 [==============================] - 5s 38ms/step - loss: 0.0410 - accuracy: 0.9821 - val_loss: 0.0368 - val_accuracy: 0.9841\n",
      "Epoch 28/150\n",
      "125/125 [==============================] - 6s 47ms/step - loss: 0.0408 - accuracy: 0.9822 - val_loss: 0.0361 - val_accuracy: 0.9845\n",
      "Epoch 29/150\n",
      "125/125 [==============================] - 5s 42ms/step - loss: 0.0400 - accuracy: 0.9825 - val_loss: 0.0375 - val_accuracy: 0.9839\n",
      "Epoch 30/150\n",
      "125/125 [==============================] - 5s 40ms/step - loss: 0.0397 - accuracy: 0.9827 - val_loss: 0.0364 - val_accuracy: 0.9845\n",
      "Epoch 31/150\n",
      "125/125 [==============================] - 4s 36ms/step - loss: 0.0398 - accuracy: 0.9827 - val_loss: 0.0363 - val_accuracy: 0.9843\n",
      "Epoch 32/150\n",
      "125/125 [==============================] - 5s 40ms/step - loss: 0.0394 - accuracy: 0.9829 - val_loss: 0.0355 - val_accuracy: 0.9847\n",
      "Epoch 33/150\n",
      "125/125 [==============================] - 5s 43ms/step - loss: 0.0390 - accuracy: 0.9830 - val_loss: 0.0356 - val_accuracy: 0.9847\n",
      "Epoch 34/150\n",
      "125/125 [==============================] - 6s 45ms/step - loss: 0.0386 - accuracy: 0.9832 - val_loss: 0.0347 - val_accuracy: 0.9851\n",
      "Epoch 35/150\n",
      "125/125 [==============================] - 6s 52ms/step - loss: 0.0385 - accuracy: 0.9833 - val_loss: 0.0346 - val_accuracy: 0.9851\n",
      "Epoch 36/150\n",
      "125/125 [==============================] - 5s 40ms/step - loss: 0.0384 - accuracy: 0.9834 - val_loss: 0.0348 - val_accuracy: 0.9852\n",
      "Epoch 37/150\n",
      "125/125 [==============================] - 7s 52ms/step - loss: 0.0376 - accuracy: 0.9837 - val_loss: 0.0346 - val_accuracy: 0.9851\n",
      "Epoch 38/150\n",
      "125/125 [==============================] - 5s 41ms/step - loss: 0.0373 - accuracy: 0.9838 - val_loss: 0.0337 - val_accuracy: 0.9856\n",
      "Epoch 39/150\n",
      "125/125 [==============================] - 7s 55ms/step - loss: 0.0368 - accuracy: 0.9840 - val_loss: 0.0331 - val_accuracy: 0.9859\n",
      "Epoch 40/150\n",
      "125/125 [==============================] - 7s 54ms/step - loss: 0.0365 - accuracy: 0.9842 - val_loss: 0.0332 - val_accuracy: 0.9857\n",
      "Epoch 41/150\n",
      "125/125 [==============================] - 6s 51ms/step - loss: 0.0361 - accuracy: 0.9843 - val_loss: 0.0326 - val_accuracy: 0.9859\n",
      "Epoch 42/150\n",
      "125/125 [==============================] - 5s 44ms/step - loss: 0.0362 - accuracy: 0.9843 - val_loss: 0.0325 - val_accuracy: 0.9860\n",
      "Epoch 43/150\n",
      "125/125 [==============================] - 7s 55ms/step - loss: 0.0357 - accuracy: 0.9845 - val_loss: 0.0326 - val_accuracy: 0.9861\n",
      "Epoch 44/150\n",
      "125/125 [==============================] - 7s 56ms/step - loss: 0.0352 - accuracy: 0.9848 - val_loss: 0.0312 - val_accuracy: 0.9866\n",
      "Epoch 45/150\n",
      "125/125 [==============================] - 5s 39ms/step - loss: 0.0348 - accuracy: 0.9849 - val_loss: 0.0319 - val_accuracy: 0.9861\n",
      "Epoch 46/150\n",
      "125/125 [==============================] - 5s 43ms/step - loss: 0.0352 - accuracy: 0.9848 - val_loss: 0.0313 - val_accuracy: 0.9865\n",
      "Epoch 47/150\n",
      "125/125 [==============================] - 5s 43ms/step - loss: 0.0357 - accuracy: 0.9847 - val_loss: 0.0307 - val_accuracy: 0.9869\n",
      "Epoch 48/150\n",
      "125/125 [==============================] - 7s 52ms/step - loss: 0.0340 - accuracy: 0.9854 - val_loss: 0.0300 - val_accuracy: 0.9871\n",
      "Epoch 49/150\n",
      "125/125 [==============================] - 5s 43ms/step - loss: 0.0336 - accuracy: 0.9855 - val_loss: 0.0307 - val_accuracy: 0.9869\n",
      "Epoch 50/150\n",
      "125/125 [==============================] - 6s 47ms/step - loss: 0.0332 - accuracy: 0.9857 - val_loss: 0.0296 - val_accuracy: 0.9872\n",
      "Epoch 51/150\n",
      "125/125 [==============================] - 5s 38ms/step - loss: 0.0329 - accuracy: 0.9858 - val_loss: 0.0304 - val_accuracy: 0.9868\n",
      "Epoch 52/150\n",
      "125/125 [==============================] - 6s 49ms/step - loss: 0.0326 - accuracy: 0.9860 - val_loss: 0.0295 - val_accuracy: 0.9873\n",
      "Epoch 53/150\n",
      "125/125 [==============================] - 6s 49ms/step - loss: 0.0322 - accuracy: 0.9862 - val_loss: 0.0291 - val_accuracy: 0.9875\n",
      "Epoch 54/150\n",
      "125/125 [==============================] - 7s 53ms/step - loss: 0.0320 - accuracy: 0.9862 - val_loss: 0.0282 - val_accuracy: 0.9879\n",
      "Epoch 55/150\n",
      "125/125 [==============================] - 5s 40ms/step - loss: 0.0319 - accuracy: 0.9863 - val_loss: 0.0282 - val_accuracy: 0.9880\n",
      "Epoch 56/150\n",
      "125/125 [==============================] - 5s 43ms/step - loss: 0.0320 - accuracy: 0.9863 - val_loss: 0.0297 - val_accuracy: 0.9872\n",
      "Epoch 57/150\n",
      "125/125 [==============================] - 7s 52ms/step - loss: 0.0312 - accuracy: 0.9866 - val_loss: 0.0280 - val_accuracy: 0.9880\n",
      "Epoch 58/150\n",
      "125/125 [==============================] - 5s 41ms/step - loss: 0.0312 - accuracy: 0.9866 - val_loss: 0.0278 - val_accuracy: 0.9880\n",
      "Epoch 59/150\n",
      "125/125 [==============================] - 6s 46ms/step - loss: 0.0304 - accuracy: 0.9869 - val_loss: 0.0269 - val_accuracy: 0.9886\n",
      "Epoch 60/150\n",
      "125/125 [==============================] - 6s 51ms/step - loss: 0.0302 - accuracy: 0.9871 - val_loss: 0.0276 - val_accuracy: 0.9882\n",
      "Epoch 61/150\n",
      "125/125 [==============================] - 5s 42ms/step - loss: 0.0302 - accuracy: 0.9870 - val_loss: 0.0278 - val_accuracy: 0.9882\n",
      "Epoch 62/150\n",
      "125/125 [==============================] - 5s 40ms/step - loss: 0.0300 - accuracy: 0.9872 - val_loss: 0.0273 - val_accuracy: 0.9884\n",
      "Epoch 63/150\n",
      "125/125 [==============================] - 5s 37ms/step - loss: 0.0317 - accuracy: 0.9867 - val_loss: 0.0286 - val_accuracy: 0.9878\n",
      "Epoch 64/150\n",
      "125/125 [==============================] - 7s 56ms/step - loss: 0.0305 - accuracy: 0.9870 - val_loss: 0.0272 - val_accuracy: 0.9883\n",
      "Epoch 65/150\n",
      "125/125 [==============================] - 7s 58ms/step - loss: 0.0298 - accuracy: 0.9873 - val_loss: 0.0263 - val_accuracy: 0.9888\n",
      "Epoch 66/150\n",
      "125/125 [==============================] - 6s 48ms/step - loss: 0.0294 - accuracy: 0.9874 - val_loss: 0.0263 - val_accuracy: 0.9888\n",
      "Epoch 67/150\n",
      "125/125 [==============================] - 7s 55ms/step - loss: 0.0290 - accuracy: 0.9876 - val_loss: 0.0262 - val_accuracy: 0.9889\n",
      "Epoch 68/150\n",
      "125/125 [==============================] - 6s 49ms/step - loss: 0.0287 - accuracy: 0.9877 - val_loss: 0.0258 - val_accuracy: 0.9891\n",
      "Epoch 69/150\n",
      "125/125 [==============================] - 7s 55ms/step - loss: 0.0288 - accuracy: 0.9877 - val_loss: 0.0263 - val_accuracy: 0.9888\n",
      "Epoch 70/150\n",
      "125/125 [==============================] - 7s 55ms/step - loss: 0.0283 - accuracy: 0.9879 - val_loss: 0.0262 - val_accuracy: 0.9888\n",
      "Epoch 71/150\n",
      "125/125 [==============================] - 7s 57ms/step - loss: 0.0281 - accuracy: 0.9880 - val_loss: 0.0273 - val_accuracy: 0.9884\n",
      "Epoch 72/150\n",
      "125/125 [==============================] - 6s 51ms/step - loss: 0.0280 - accuracy: 0.9880 - val_loss: 0.0257 - val_accuracy: 0.9890\n",
      "Epoch 73/150\n",
      "125/125 [==============================] - 5s 38ms/step - loss: 0.0280 - accuracy: 0.9880 - val_loss: 0.0268 - val_accuracy: 0.9887\n",
      "Epoch 74/150\n",
      "125/125 [==============================] - 6s 51ms/step - loss: 0.0280 - accuracy: 0.9880 - val_loss: 0.0252 - val_accuracy: 0.9893\n",
      "Epoch 75/150\n",
      "125/125 [==============================] - 7s 56ms/step - loss: 0.0276 - accuracy: 0.9881 - val_loss: 0.0256 - val_accuracy: 0.9891\n",
      "Epoch 76/150\n",
      "125/125 [==============================] - 7s 56ms/step - loss: 0.0274 - accuracy: 0.9882 - val_loss: 0.0252 - val_accuracy: 0.9893\n",
      "Epoch 77/150\n",
      "125/125 [==============================] - 4s 36ms/step - loss: 0.0275 - accuracy: 0.9883 - val_loss: 0.0250 - val_accuracy: 0.9894\n",
      "Epoch 78/150\n",
      "125/125 [==============================] - 5s 44ms/step - loss: 0.0273 - accuracy: 0.9883 - val_loss: 0.0251 - val_accuracy: 0.9894\n",
      "Epoch 79/150\n",
      "125/125 [==============================] - 6s 48ms/step - loss: 0.0268 - accuracy: 0.9885 - val_loss: 0.0248 - val_accuracy: 0.9895\n",
      "Epoch 80/150\n",
      "125/125 [==============================] - 5s 43ms/step - loss: 0.0268 - accuracy: 0.9885 - val_loss: 0.0249 - val_accuracy: 0.9894\n",
      "Epoch 81/150\n",
      "125/125 [==============================] - 6s 45ms/step - loss: 0.0267 - accuracy: 0.9886 - val_loss: 0.0247 - val_accuracy: 0.9895\n",
      "Epoch 82/150\n",
      "125/125 [==============================] - 6s 45ms/step - loss: 0.0265 - accuracy: 0.9887 - val_loss: 0.0247 - val_accuracy: 0.9896\n",
      "Epoch 83/150\n",
      "125/125 [==============================] - 5s 37ms/step - loss: 0.0261 - accuracy: 0.9888 - val_loss: 0.0247 - val_accuracy: 0.9896\n",
      "Epoch 84/150\n",
      "125/125 [==============================] - 5s 40ms/step - loss: 0.0260 - accuracy: 0.9890 - val_loss: 0.0245 - val_accuracy: 0.9897\n",
      "Epoch 85/150\n",
      "125/125 [==============================] - 5s 38ms/step - loss: 0.0260 - accuracy: 0.9889 - val_loss: 0.0243 - val_accuracy: 0.9897\n",
      "Epoch 86/150\n",
      "125/125 [==============================] - 7s 56ms/step - loss: 0.0258 - accuracy: 0.9890 - val_loss: 0.0244 - val_accuracy: 0.9897\n",
      "Epoch 87/150\n",
      "125/125 [==============================] - 7s 52ms/step - loss: 0.0259 - accuracy: 0.9890 - val_loss: 0.0241 - val_accuracy: 0.9897\n",
      "Epoch 88/150\n",
      "125/125 [==============================] - 6s 47ms/step - loss: 0.0255 - accuracy: 0.9892 - val_loss: 0.0244 - val_accuracy: 0.9897\n",
      "Epoch 89/150\n",
      "125/125 [==============================] - 5s 39ms/step - loss: 0.0255 - accuracy: 0.9891 - val_loss: 0.0243 - val_accuracy: 0.9897\n",
      "Epoch 90/150\n",
      "125/125 [==============================] - 5s 44ms/step - loss: 0.0252 - accuracy: 0.9892 - val_loss: 0.0240 - val_accuracy: 0.9898\n",
      "Epoch 91/150\n",
      "125/125 [==============================] - 7s 57ms/step - loss: 0.0251 - accuracy: 0.9893 - val_loss: 0.0243 - val_accuracy: 0.9898\n",
      "Epoch 92/150\n",
      "125/125 [==============================] - 5s 43ms/step - loss: 0.0248 - accuracy: 0.9894 - val_loss: 0.0236 - val_accuracy: 0.9900\n",
      "Epoch 93/150\n",
      "125/125 [==============================] - 6s 45ms/step - loss: 0.0249 - accuracy: 0.9894 - val_loss: 0.0240 - val_accuracy: 0.9898\n",
      "Epoch 94/150\n",
      "125/125 [==============================] - 5s 43ms/step - loss: 0.0250 - accuracy: 0.9894 - val_loss: 0.0238 - val_accuracy: 0.9900\n",
      "Epoch 95/150\n",
      "125/125 [==============================] - 7s 59ms/step - loss: 0.0246 - accuracy: 0.9895 - val_loss: 0.0237 - val_accuracy: 0.9900\n",
      "Epoch 96/150\n",
      "125/125 [==============================] - 5s 43ms/step - loss: 0.0246 - accuracy: 0.9895 - val_loss: 0.0237 - val_accuracy: 0.9901\n",
      "Epoch 97/150\n",
      "125/125 [==============================] - 5s 43ms/step - loss: 0.0246 - accuracy: 0.9896 - val_loss: 0.0239 - val_accuracy: 0.9900\n",
      "Epoch 98/150\n",
      "125/125 [==============================] - 5s 40ms/step - loss: 0.0245 - accuracy: 0.9897 - val_loss: 0.0241 - val_accuracy: 0.9899\n",
      "Epoch 99/150\n",
      "125/125 [==============================] - 6s 44ms/step - loss: 0.0240 - accuracy: 0.9899 - val_loss: 0.0242 - val_accuracy: 0.9900\n",
      "Epoch 100/150\n",
      "125/125 [==============================] - 7s 53ms/step - loss: 0.0239 - accuracy: 0.9898 - val_loss: 0.0234 - val_accuracy: 0.9902\n",
      "Epoch 101/150\n",
      "125/125 [==============================] - 5s 43ms/step - loss: 0.0238 - accuracy: 0.9899 - val_loss: 0.0233 - val_accuracy: 0.9902\n",
      "Epoch 102/150\n",
      "125/125 [==============================] - 6s 44ms/step - loss: 0.0236 - accuracy: 0.9900 - val_loss: 0.0234 - val_accuracy: 0.9902\n",
      "Epoch 103/150\n",
      "125/125 [==============================] - 5s 40ms/step - loss: 0.0235 - accuracy: 0.9900 - val_loss: 0.0236 - val_accuracy: 0.9900\n",
      "Epoch 104/150\n",
      "125/125 [==============================] - 5s 37ms/step - loss: 0.0236 - accuracy: 0.9900 - val_loss: 0.0233 - val_accuracy: 0.9902\n",
      "Epoch 105/150\n",
      "125/125 [==============================] - 5s 37ms/step - loss: 0.0232 - accuracy: 0.9902 - val_loss: 0.0229 - val_accuracy: 0.9905\n",
      "Epoch 106/150\n",
      "125/125 [==============================] - 5s 40ms/step - loss: 0.0234 - accuracy: 0.9900 - val_loss: 0.0234 - val_accuracy: 0.9903\n",
      "Epoch 107/150\n",
      "125/125 [==============================] - 7s 56ms/step - loss: 0.0232 - accuracy: 0.9902 - val_loss: 0.0229 - val_accuracy: 0.9904\n",
      "Epoch 108/150\n",
      "125/125 [==============================] - 6s 52ms/step - loss: 0.0229 - accuracy: 0.9904 - val_loss: 0.0233 - val_accuracy: 0.9903\n",
      "Epoch 109/150\n",
      "125/125 [==============================] - 5s 37ms/step - loss: 0.0227 - accuracy: 0.9904 - val_loss: 0.0230 - val_accuracy: 0.9903\n",
      "Epoch 110/150\n",
      "125/125 [==============================] - 4s 36ms/step - loss: 0.0228 - accuracy: 0.9904 - val_loss: 0.0229 - val_accuracy: 0.9904\n",
      "Epoch 111/150\n",
      "125/125 [==============================] - 6s 50ms/step - loss: 0.0225 - accuracy: 0.9905 - val_loss: 0.0226 - val_accuracy: 0.9906\n",
      "Epoch 112/150\n",
      "125/125 [==============================] - 7s 53ms/step - loss: 0.0224 - accuracy: 0.9905 - val_loss: 0.0228 - val_accuracy: 0.9905\n",
      "Epoch 113/150\n",
      "125/125 [==============================] - 5s 39ms/step - loss: 0.0222 - accuracy: 0.9906 - val_loss: 0.0237 - val_accuracy: 0.9902\n",
      "Epoch 114/150\n",
      "125/125 [==============================] - 6s 52ms/step - loss: 0.0223 - accuracy: 0.9906 - val_loss: 0.0230 - val_accuracy: 0.9904\n",
      "Epoch 115/150\n",
      "125/125 [==============================] - 5s 44ms/step - loss: 0.0222 - accuracy: 0.9906 - val_loss: 0.0226 - val_accuracy: 0.9906\n",
      "Epoch 116/150\n",
      "125/125 [==============================] - 5s 41ms/step - loss: 0.0220 - accuracy: 0.9908 - val_loss: 0.0230 - val_accuracy: 0.9904\n",
      "Epoch 117/150\n",
      "125/125 [==============================] - 7s 54ms/step - loss: 0.0218 - accuracy: 0.9908 - val_loss: 0.0229 - val_accuracy: 0.9905\n",
      "Epoch 118/150\n",
      "125/125 [==============================] - 5s 42ms/step - loss: 0.0217 - accuracy: 0.9908 - val_loss: 0.0231 - val_accuracy: 0.9904\n",
      "Epoch 119/150\n",
      "125/125 [==============================] - 5s 43ms/step - loss: 0.0216 - accuracy: 0.9909 - val_loss: 0.0229 - val_accuracy: 0.9904\n",
      "Epoch 120/150\n",
      "125/125 [==============================] - 5s 44ms/step - loss: 0.0213 - accuracy: 0.9910 - val_loss: 0.0226 - val_accuracy: 0.9906\n",
      "Epoch 121/150\n",
      "125/125 [==============================] - 6s 44ms/step - loss: 0.0212 - accuracy: 0.9911 - val_loss: 0.0225 - val_accuracy: 0.9907\n",
      "Epoch 122/150\n",
      "125/125 [==============================] - 5s 44ms/step - loss: 0.0216 - accuracy: 0.9909 - val_loss: 0.0227 - val_accuracy: 0.9906\n",
      "Epoch 123/150\n",
      "125/125 [==============================] - 6s 51ms/step - loss: 0.0213 - accuracy: 0.9911 - val_loss: 0.0226 - val_accuracy: 0.9907\n",
      "Epoch 124/150\n",
      "125/125 [==============================] - 5s 42ms/step - loss: 0.0211 - accuracy: 0.9912 - val_loss: 0.0225 - val_accuracy: 0.9906\n",
      "Epoch 125/150\n",
      "125/125 [==============================] - 6s 49ms/step - loss: 0.0208 - accuracy: 0.9912 - val_loss: 0.0225 - val_accuracy: 0.9907\n",
      "Epoch 126/150\n",
      "125/125 [==============================] - 6s 45ms/step - loss: 0.0209 - accuracy: 0.9912 - val_loss: 0.0225 - val_accuracy: 0.9908\n",
      "Epoch 127/150\n",
      "125/125 [==============================] - 6s 48ms/step - loss: 0.0207 - accuracy: 0.9913 - val_loss: 0.0225 - val_accuracy: 0.9907\n",
      "Epoch 128/150\n",
      "125/125 [==============================] - 6s 46ms/step - loss: 0.0206 - accuracy: 0.9914 - val_loss: 0.0229 - val_accuracy: 0.9906\n",
      "Epoch 129/150\n",
      "125/125 [==============================] - 5s 40ms/step - loss: 0.0205 - accuracy: 0.9913 - val_loss: 0.0223 - val_accuracy: 0.9908\n",
      "Epoch 130/150\n",
      "125/125 [==============================] - 5s 41ms/step - loss: 0.0202 - accuracy: 0.9915 - val_loss: 0.0229 - val_accuracy: 0.9906\n",
      "Epoch 131/150\n",
      "125/125 [==============================] - 6s 46ms/step - loss: 0.0203 - accuracy: 0.9915 - val_loss: 0.0228 - val_accuracy: 0.9906\n",
      "Epoch 132/150\n",
      "125/125 [==============================] - 7s 53ms/step - loss: 0.0200 - accuracy: 0.9916 - val_loss: 0.0222 - val_accuracy: 0.9909\n",
      "Epoch 133/150\n",
      "125/125 [==============================] - 5s 37ms/step - loss: 0.0202 - accuracy: 0.9915 - val_loss: 0.0227 - val_accuracy: 0.9907\n",
      "Epoch 134/150\n",
      "125/125 [==============================] - 5s 41ms/step - loss: 0.0199 - accuracy: 0.9916 - val_loss: 0.0226 - val_accuracy: 0.9908\n",
      "Epoch 135/150\n",
      "125/125 [==============================] - 6s 49ms/step - loss: 0.0200 - accuracy: 0.9916 - val_loss: 0.0230 - val_accuracy: 0.9906\n",
      "Epoch 136/150\n",
      "125/125 [==============================] - 5s 38ms/step - loss: 0.0200 - accuracy: 0.9916 - val_loss: 0.0226 - val_accuracy: 0.9907\n",
      "Epoch 137/150\n",
      "125/125 [==============================] - 5s 40ms/step - loss: 0.0195 - accuracy: 0.9918 - val_loss: 0.0226 - val_accuracy: 0.9907\n",
      "Epoch 138/150\n",
      "125/125 [==============================] - 5s 36ms/step - loss: 0.0196 - accuracy: 0.9919 - val_loss: 0.0223 - val_accuracy: 0.9908\n",
      "Epoch 139/150\n",
      "125/125 [==============================] - 6s 44ms/step - loss: 0.0197 - accuracy: 0.9918 - val_loss: 0.0225 - val_accuracy: 0.9908\n",
      "Epoch 140/150\n",
      "125/125 [==============================] - 6s 49ms/step - loss: 0.0194 - accuracy: 0.9919 - val_loss: 0.0223 - val_accuracy: 0.9909\n",
      "Epoch 141/150\n",
      "125/125 [==============================] - 6s 44ms/step - loss: 0.0194 - accuracy: 0.9919 - val_loss: 0.0225 - val_accuracy: 0.9908\n",
      "Epoch 142/150\n",
      "125/125 [==============================] - 5s 38ms/step - loss: 0.0193 - accuracy: 0.9919 - val_loss: 0.0225 - val_accuracy: 0.9909\n",
      "Epoch 143/150\n",
      "125/125 [==============================] - 6s 46ms/step - loss: 0.0192 - accuracy: 0.9920 - val_loss: 0.0227 - val_accuracy: 0.9908\n",
      "Epoch 144/150\n",
      "125/125 [==============================] - 5s 39ms/step - loss: 0.0188 - accuracy: 0.9922 - val_loss: 0.0227 - val_accuracy: 0.9908\n",
      "Epoch 145/150\n",
      "125/125 [==============================] - 7s 59ms/step - loss: 0.0188 - accuracy: 0.9922 - val_loss: 0.0230 - val_accuracy: 0.9907\n",
      "Epoch 146/150\n",
      "125/125 [==============================] - 5s 44ms/step - loss: 0.0194 - accuracy: 0.9919 - val_loss: 0.0237 - val_accuracy: 0.9903\n",
      "Epoch 147/150\n",
      "125/125 [==============================] - 6s 46ms/step - loss: 0.0191 - accuracy: 0.9920 - val_loss: 0.0231 - val_accuracy: 0.9907\n",
      "Epoch 148/150\n",
      "125/125 [==============================] - 7s 57ms/step - loss: 0.0188 - accuracy: 0.9922 - val_loss: 0.0231 - val_accuracy: 0.9907\n",
      "Epoch 149/150\n",
      "125/125 [==============================] - 5s 41ms/step - loss: 0.0185 - accuracy: 0.9923 - val_loss: 0.0225 - val_accuracy: 0.9907\n",
      "Epoch 150/150\n",
      "125/125 [==============================] - 5s 44ms/step - loss: 0.0184 - accuracy: 0.9923 - val_loss: 0.0230 - val_accuracy: 0.9908\n",
      "Training the model took 860.36 seconds\n"
     ]
    }
   ],
   "source": [
    "start_time = time.time()\n",
    "log_dir = \"logs/hybrid_shm/\" + datetime.datetime.now().strftime(\"%Y%m%d-%H%M%S\")\n",
    "tf_callback = tf.keras.callbacks.TensorBoard(log_dir=log_dir)\n",
    "model.fit(train_x_tensor, train_y_tensor, validation_data = (test_x_tensor, test_y_tensor), epochs=150, batch_size=64, callbacks=[tf_callback])\n",
    "end_time = time.time()\n",
    "training_time = end_time - start_time\n",
    "print(\"Training the model took {:.2f} seconds\".format(training_time))"
   ]
  },
  {
   "cell_type": "code",
   "execution_count": 90,
   "id": "d63b9727-df7d-4be2-88cb-807627631e47",
   "metadata": {
    "tags": []
   },
   "outputs": [
    {
     "name": "stderr",
     "output_type": "stream",
     "text": [
      "2023-08-05 16:39:45.517454: I tensorflow/core/common_runtime/executor.cc:1197] [/device:CPU:0] (DEBUG INFO) Executor start aborting (this does not indicate an error and you can ignore this message): INVALID_ARGUMENT: You must feed a value for placeholder tensor 'gradients/split_2_grad/concat/split_2/split_dim' with dtype int32\n",
      "\t [[{{node gradients/split_2_grad/concat/split_2/split_dim}}]]\n",
      "2023-08-05 16:39:45.518153: I tensorflow/core/common_runtime/executor.cc:1197] [/device:CPU:0] (DEBUG INFO) Executor start aborting (this does not indicate an error and you can ignore this message): INVALID_ARGUMENT: You must feed a value for placeholder tensor 'gradients/split_grad/concat/split/split_dim' with dtype int32\n",
      "\t [[{{node gradients/split_grad/concat/split/split_dim}}]]\n",
      "2023-08-05 16:39:45.519198: I tensorflow/core/common_runtime/executor.cc:1197] [/device:CPU:0] (DEBUG INFO) Executor start aborting (this does not indicate an error and you can ignore this message): INVALID_ARGUMENT: You must feed a value for placeholder tensor 'gradients/split_1_grad/concat/split_1/split_dim' with dtype int32\n",
      "\t [[{{node gradients/split_1_grad/concat/split_1/split_dim}}]]\n",
      "2023-08-05 16:39:45.575027: I tensorflow/core/common_runtime/executor.cc:1197] [/device:CPU:0] (DEBUG INFO) Executor start aborting (this does not indicate an error and you can ignore this message): INVALID_ARGUMENT: You must feed a value for placeholder tensor 'gradients/ReverseV2_grad/ReverseV2/ReverseV2/axis' with dtype int32 and shape [1]\n",
      "\t [[{{node gradients/ReverseV2_grad/ReverseV2/ReverseV2/axis}}]]\n",
      "2023-08-05 16:39:45.594744: I tensorflow/core/common_runtime/executor.cc:1197] [/device:CPU:0] (DEBUG INFO) Executor start aborting (this does not indicate an error and you can ignore this message): INVALID_ARGUMENT: You must feed a value for placeholder tensor 'gradients/split_2_grad/concat/split_2/split_dim' with dtype int32\n",
      "\t [[{{node gradients/split_2_grad/concat/split_2/split_dim}}]]\n",
      "2023-08-05 16:39:45.595272: I tensorflow/core/common_runtime/executor.cc:1197] [/device:CPU:0] (DEBUG INFO) Executor start aborting (this does not indicate an error and you can ignore this message): INVALID_ARGUMENT: You must feed a value for placeholder tensor 'gradients/split_grad/concat/split/split_dim' with dtype int32\n",
      "\t [[{{node gradients/split_grad/concat/split/split_dim}}]]\n",
      "2023-08-05 16:39:45.595754: I tensorflow/core/common_runtime/executor.cc:1197] [/device:CPU:0] (DEBUG INFO) Executor start aborting (this does not indicate an error and you can ignore this message): INVALID_ARGUMENT: You must feed a value for placeholder tensor 'gradients/split_1_grad/concat/split_1/split_dim' with dtype int32\n",
      "\t [[{{node gradients/split_1_grad/concat/split_1/split_dim}}]]\n",
      "2023-08-05 16:39:45.669682: I tensorflow/core/common_runtime/executor.cc:1197] [/device:CPU:0] (DEBUG INFO) Executor start aborting (this does not indicate an error and you can ignore this message): INVALID_ARGUMENT: You must feed a value for placeholder tensor 'gradients/split_2_grad/concat/split_2/split_dim' with dtype int32\n",
      "\t [[{{node gradients/split_2_grad/concat/split_2/split_dim}}]]\n",
      "2023-08-05 16:39:45.670219: I tensorflow/core/common_runtime/executor.cc:1197] [/device:CPU:0] (DEBUG INFO) Executor start aborting (this does not indicate an error and you can ignore this message): INVALID_ARGUMENT: You must feed a value for placeholder tensor 'gradients/split_grad/concat/split/split_dim' with dtype int32\n",
      "\t [[{{node gradients/split_grad/concat/split/split_dim}}]]\n",
      "2023-08-05 16:39:45.670697: I tensorflow/core/common_runtime/executor.cc:1197] [/device:CPU:0] (DEBUG INFO) Executor start aborting (this does not indicate an error and you can ignore this message): INVALID_ARGUMENT: You must feed a value for placeholder tensor 'gradients/split_1_grad/concat/split_1/split_dim' with dtype int32\n",
      "\t [[{{node gradients/split_1_grad/concat/split_1/split_dim}}]]\n"
     ]
    },
    {
     "name": "stdout",
     "output_type": "stream",
     "text": [
      " 5/63 [=>............................] - ETA: 0s "
     ]
    },
    {
     "name": "stderr",
     "output_type": "stream",
     "text": [
      "2023-08-05 16:39:45.726325: I tensorflow/core/common_runtime/executor.cc:1197] [/device:CPU:0] (DEBUG INFO) Executor start aborting (this does not indicate an error and you can ignore this message): INVALID_ARGUMENT: You must feed a value for placeholder tensor 'gradients/ReverseV2_grad/ReverseV2/ReverseV2/axis' with dtype int32 and shape [1]\n",
      "\t [[{{node gradients/ReverseV2_grad/ReverseV2/ReverseV2/axis}}]]\n",
      "2023-08-05 16:39:45.746306: I tensorflow/core/common_runtime/executor.cc:1197] [/device:CPU:0] (DEBUG INFO) Executor start aborting (this does not indicate an error and you can ignore this message): INVALID_ARGUMENT: You must feed a value for placeholder tensor 'gradients/split_2_grad/concat/split_2/split_dim' with dtype int32\n",
      "\t [[{{node gradients/split_2_grad/concat/split_2/split_dim}}]]\n",
      "2023-08-05 16:39:45.746903: I tensorflow/core/common_runtime/executor.cc:1197] [/device:CPU:0] (DEBUG INFO) Executor start aborting (this does not indicate an error and you can ignore this message): INVALID_ARGUMENT: You must feed a value for placeholder tensor 'gradients/split_grad/concat/split/split_dim' with dtype int32\n",
      "\t [[{{node gradients/split_grad/concat/split/split_dim}}]]\n",
      "2023-08-05 16:39:45.747432: I tensorflow/core/common_runtime/executor.cc:1197] [/device:CPU:0] (DEBUG INFO) Executor start aborting (this does not indicate an error and you can ignore this message): INVALID_ARGUMENT: You must feed a value for placeholder tensor 'gradients/split_1_grad/concat/split_1/split_dim' with dtype int32\n",
      "\t [[{{node gradients/split_1_grad/concat/split_1/split_dim}}]]\n"
     ]
    },
    {
     "name": "stdout",
     "output_type": "stream",
     "text": [
      "63/63 [==============================] - 1s 13ms/step\n",
      "(2000, 450, 5)\n",
      "(2000, 450, 5)\n"
     ]
    }
   ],
   "source": [
    "y_pred = model.predict(test_x_tensor)\n",
    "print(y_pred.shape)\n",
    "print(test_y_tensor.shape)"
   ]
  },
  {
   "cell_type": "code",
   "execution_count": 91,
   "id": "756a0c75-a64b-40aa-8e96-8b0d0cef7f71",
   "metadata": {
    "tags": []
   },
   "outputs": [],
   "source": [
    "def plot_confusion_matrix(cm, classes=None, title='Confusion matrix'):\n",
    "    \"\"\"Plots a confusion matrix.\"\"\"\n",
    "    if classes is not None:\n",
    "        sns.heatmap(cm, xticklabels=classes, yticklabels=classes, vmin=0., vmax=1., annot=True)\n",
    "    else:\n",
    "        sns.heatmap(cm, vmin=0., vmax=1.)\n",
    "    plt.title(title)\n",
    "    plt.ylabel('True label')\n",
    "    plt.xlabel('Predicted label')"
   ]
  },
  {
   "cell_type": "code",
   "execution_count": 92,
   "id": "1579c173-dcef-4811-af70-f81d0f884d1d",
   "metadata": {
    "tags": []
   },
   "outputs": [
    {
     "data": {
      "text/plain": [
       "([<matplotlib.axis.YTick at 0x7f6f08529950>,\n",
       "  <matplotlib.axis.YTick at 0x7f6f0827cb50>,\n",
       "  <matplotlib.axis.YTick at 0x7f6f083dfe10>,\n",
       "  <matplotlib.axis.YTick at 0x7f6ffc7c60d0>,\n",
       "  <matplotlib.axis.YTick at 0x7f6f5c395c10>],\n",
       " [Text(0, 0.5, 'V'),\n",
       "  Text(0, 1.5, 'D'),\n",
       "  Text(0, 2.5, 'J'),\n",
       "  Text(0, 3.5, 'N'),\n",
       "  Text(0, 4.5, 'X')])"
      ]
     },
     "execution_count": 92,
     "metadata": {},
     "output_type": "execute_result"
    },
    {
     "data": {
      "image/png": "[encoded data removed]",
      "text/plain": [
       "<Figure size 640x480 with 2 Axes>"
      ]
     },
     "metadata": {},
     "output_type": "display_data"
    }
   ],
   "source": [
    "pred_classes = np.argmax(y_pred, axis=-1)\n",
    "y_true = np.argmax(test_y_tensor,axis=-1)\n",
    "y_true_flat = y_true.flatten()\n",
    "y_pred_flat = pred_classes.flatten()\n",
    "cm = confusion_matrix(y_true_flat,y_pred_flat)\n",
    "cm_norm = cm/cm.sum(axis=1)[:, np.newaxis]\n",
    "plt.figure()\n",
    "plot_confusion_matrix(cm_norm, classes=['V', 'D', 'J', 'N','X'])\n",
    "labels = ['V', 'D', 'J', 'N','X']\n",
    "plt.xticks(np.arange(5) + 0.5, labels)\n",
    "plt.yticks(np.arange(5) + 0.5, labels)"
   ]
  },
  {
   "cell_type": "code",
   "execution_count": 93,
   "id": "3415ee78-702c-4002-8caf-18ee794cdb60",
   "metadata": {
    "tags": []
   },
   "outputs": [],
   "source": [
    "from sklearn.metrics import accuracy_score, precision_score, recall_score, f1_score\n",
    "\n",
    "from sklearn.metrics import roc_curve, auc\n",
    "from sklearn.preprocessing import label_binarize\n",
    "from scipy import interp\n",
    "from itertools import cycle"
   ]
  },
  {
   "cell_type": "code",
   "execution_count": 94,
   "id": "79e9bbb8-65e6-41fc-b15d-e0a998fd8d2a",
   "metadata": {
    "tags": []
   },
   "outputs": [
    {
     "name": "stdout",
     "output_type": "stream",
     "text": [
      "Accuracy: 0.9908077777777777\n",
      "Precision: 0.9468940557036263\n",
      "Recall: 0.9427827588468665\n",
      "F1 Score: 0.944738248365085\n"
     ]
    }
   ],
   "source": [
    "# accuracy\n",
    "accuracy = accuracy_score(y_true_flat, y_pred_flat)\n",
    "print('Accuracy:', accuracy)\n",
    "\n",
    "# precision\n",
    "precision = precision_score(y_true_flat, y_pred_flat, average='macro')\n",
    "print('Precision:', precision)\n",
    "\n",
    "# recall\n",
    "recall = recall_score(y_true_flat, y_pred_flat, average='macro')\n",
    "print('Recall:', recall)\n",
    "\n",
    "# F1-score\n",
    "f1 = f1_score(y_true_flat, y_pred_flat, average='macro')\n",
    "print('F1 Score:', f1)"
   ]
  },
  {
   "cell_type": "markdown",
   "id": "c370c016-3129-45fe-8d4d-8aaed5bf497e",
   "metadata": {},
   "source": [
    "## new shm dataset"
   ]
  },
  {
   "cell_type": "code",
   "execution_count": 49,
   "id": "6e1a09e4-7203-4393-9f23-0a55ccd3ef51",
   "metadata": {
    "tags": []
   },
   "outputs": [],
   "source": [
    "fasta_file = os.path.join('..','repertoire','shm','shm_default_2000.fasta')\n",
    "annotation_file = os.path.join('..','repertoire','shm','shm_default_2000.tsv')"
   ]
  },
  {
   "cell_type": "code",
   "execution_count": 50,
   "id": "a81131ac-fb6e-468f-bac3-f410224b91e4",
   "metadata": {
    "tags": []
   },
   "outputs": [
    {
     "name": "stderr",
     "output_type": "stream",
     "text": [
      "/tmp/ipykernel_735454/3505619144.py:14: DeprecationWarning: The binary mode of fromstring is deprecated, as it behaves surprisingly on unicode inputs. Use frombuffer instead\n",
      "  seq_array = np.fromstring(seq, np.int8)\n"
     ]
    },
    {
     "data": {
      "text/plain": [
       "(900000, 5)"
      ]
     },
     "execution_count": 50,
     "metadata": {},
     "output_type": "execute_result"
    }
   ],
   "source": [
    "sequences = input_file(fasta_file)\n",
    "X_shm = process_input(sequences,chunk_size)\n",
    "X_shm.shape"
   ]
  },
  {
   "cell_type": "code",
   "execution_count": 51,
   "id": "7d150e7d-8ee1-43c8-b2ac-2e48a21c5c15",
   "metadata": {
    "tags": []
   },
   "outputs": [
    {
     "name": "stderr",
     "output_type": "stream",
     "text": [
      "/tmp/ipykernel_735454/2970507474.py:8: DeprecationWarning: The binary mode of fromstring is deprecated, as it behaves surprisingly on unicode inputs. Use frombuffer instead\n",
      "  return np.fromstring(seq, np.int8)\n",
      "/tmp/ipykernel_735454/3818073805.py:14: DeprecationWarning: The binary mode of fromstring is deprecated, as it behaves surprisingly on unicode inputs. Use frombuffer instead\n",
      "  seq_array = np.fromstring(seq, np.int8)\n"
     ]
    }
   ],
   "source": [
    "df = pd.read_csv(annotation_file, sep='\\t', header=0)\n",
    "chunk_size=450\n",
    "VDJ_seq = []\n",
    "VDJ_num = []\n",
    "for i in range(len(df)):\n",
    "    seq = translate_output(df,i)\n",
    "    seq_num = output_catogory(seq)\n",
    "    VDJ_seq.append(seq)\n",
    "    VDJ_num.append(seq_num)\n",
    "        \n",
    "combined_vdj = ''.join(VDJ_seq)\n",
    "encoded_vdj = output_encoding(combined_vdj)"
   ]
  },
  {
   "cell_type": "code",
   "execution_count": 52,
   "id": "084ac336-fcf0-4c97-aff2-7a9267a5aba4",
   "metadata": {
    "tags": []
   },
   "outputs": [
    {
     "name": "stdout",
     "output_type": "stream",
     "text": [
      "900000\n",
      "(900000, 5)\n"
     ]
    }
   ],
   "source": [
    "print(len(combined_vdj))\n",
    "print(encoded_vdj.shape)\n",
    "y_shm = encoded_vdj"
   ]
  },
  {
   "cell_type": "code",
   "execution_count": 53,
   "id": "f255ed9b-e2c0-4a13-abc6-db681d3deac7",
   "metadata": {
    "tags": []
   },
   "outputs": [],
   "source": [
    "timesteps = 450  \n",
    "\n",
    "X_shm_tensor = np.array([X_shm[i:i+timesteps] for i in range(0, X_shm.shape[0]-timesteps+1, timesteps)])\n",
    "y_shm_tensor = np.array([y_shm[i:i+timesteps] for i in range(0, y_shm.shape[0]-timesteps+1, timesteps)])\n"
   ]
  },
  {
   "cell_type": "code",
   "execution_count": 54,
   "id": "f7453c8a-dd2d-4a96-90a6-2db9f0b0ffe7",
   "metadata": {
    "tags": []
   },
   "outputs": [
    {
     "name": "stdout",
     "output_type": "stream",
     "text": [
      "63/63 [==============================] - 1s 21ms/step\n",
      "(2000, 450, 5)\n",
      "(2000, 450, 5)\n"
     ]
    }
   ],
   "source": [
    "y_pred = model.predict(X_shm_tensor)\n",
    "print(y_pred.shape)\n",
    "print(y_shm_tensor.shape)"
   ]
  },
  {
   "cell_type": "code",
   "execution_count": 55,
   "id": "53c3cf7e-9994-48e0-8ac5-a85e79f9a558",
   "metadata": {
    "tags": []
   },
   "outputs": [
    {
     "data": {
      "text/plain": [
       "([<matplotlib.axis.YTick at 0x7f6e8c68fb90>,\n",
       "  <matplotlib.axis.YTick at 0x7f6e8c646290>,\n",
       "  <matplotlib.axis.YTick at 0x7f6e8c63e350>,\n",
       "  <matplotlib.axis.YTick at 0x7f701acc9ad0>,\n",
       "  <matplotlib.axis.YTick at 0x7f701adaa2d0>],\n",
       " [Text(0, 0.5, 'V'),\n",
       "  Text(0, 1.5, 'D'),\n",
       "  Text(0, 2.5, 'J'),\n",
       "  Text(0, 3.5, 'N'),\n",
       "  Text(0, 4.5, 'X')])"
      ]
     },
     "execution_count": 55,
     "metadata": {},
     "output_type": "execute_result"
    },
    {
     "data": {
      "image/png": "[encoded data removed]",
      "text/plain": [
       "<Figure size 640x480 with 2 Axes>"
      ]
     },
     "metadata": {},
     "output_type": "display_data"
    }
   ],
   "source": [
    "pred_classes = np.argmax(y_pred, axis=-1)\n",
    "y_true = np.argmax(y_shm_tensor,axis=-1)\n",
    "y_true_flat = y_true.flatten()\n",
    "y_pred_flat = pred_classes.flatten()\n",
    "cm = confusion_matrix(y_true_flat,y_pred_flat)\n",
    "cm_norm = cm/cm.sum(axis=1)[:, np.newaxis]\n",
    "plt.figure()\n",
    "plot_confusion_matrix(cm_norm, classes=['V', 'D', 'J', 'N','X'])\n",
    "labels = ['V', 'D', 'J', 'N','X']\n",
    "plt.xticks(np.arange(5) + 0.5, labels)\n",
    "plt.yticks(np.arange(5) + 0.5, labels)"
   ]
  },
  {
   "cell_type": "code",
   "execution_count": 56,
   "id": "9abcbc47-71e8-41a5-ba21-fa0051b4a2f8",
   "metadata": {
    "tags": []
   },
   "outputs": [
    {
     "name": "stdout",
     "output_type": "stream",
     "text": [
      "Accuracy: 0.9905955555555556\n",
      "Precision: 0.9451500773235916\n",
      "Recall: 0.9422943289912876\n",
      "F1 Score: 0.9435268121310534\n"
     ]
    }
   ],
   "source": [
    "# accuracy\n",
    "accuracy = accuracy_score(y_true_flat, y_pred_flat)\n",
    "print('Accuracy:', accuracy)\n",
    "\n",
    "# precision\n",
    "precision = precision_score(y_true_flat, y_pred_flat, average='macro')\n",
    "print('Precision:', precision)\n",
    "\n",
    "# recall\n",
    "recall = recall_score(y_true_flat, y_pred_flat, average='macro')\n",
    "print('Recall:', recall)\n",
    "\n",
    "# F1-score\n",
    "f1 = f1_score(y_true_flat, y_pred_flat, average='macro')\n",
    "print('F1 Score:', f1)"
   ]
  },
  {
   "cell_type": "code",
   "execution_count": 57,
   "id": "92bdaed8-bc20-456e-aa11-0a8652f320e1",
   "metadata": {
    "tags": []
   },
   "outputs": [
    {
     "data": {
      "image/png": "[encoded data removed]",
      "text/plain": [
       "<Figure size 640x480 with 1 Axes>"
      ]
     },
     "metadata": {},
     "output_type": "display_data"
    }
   ],
   "source": [
    "vdjclass = [\"V\",\"D\",\"J\",\"N\",\"X\"]\n",
    "plt.figure()\n",
    "for i in range(5):\n",
    "    y_pred_1d = y_pred[:,:,i].ravel()\n",
    "    y_true_1d = y_shm_tensor[:,:,i].ravel()\n",
    "    fpr, tpr, _ = roc_curve(y_true_1d, y_pred_1d)\n",
    "    roc_auc = auc(fpr, tpr)\n",
    "    \n",
    "    plt.plot(fpr, tpr, label='Class %s (AUC = %0.2f)' % (vdjclass[i],roc_auc))\n",
    "plt.plot([0, 1], [0, 1], 'k--')\n",
    "plt.xlim([0.0, 1.0])\n",
    "plt.ylim([0.0, 1.05])\n",
    "plt.xlabel('False Positive Rate')\n",
    "plt.ylabel('True Positive Rate')\n",
    "plt.title('Receiver operating characteristic (ROC) curve ')\n",
    "plt.legend(loc=\"lower right\")\n",
    "plt.show()"
   ]
  },
  {
   "cell_type": "markdown",
   "id": "abb4803c-88c9-45e9-9971-0df37e9be43a",
   "metadata": {},
   "source": [
    "## new nonshm dataset"
   ]
  },
  {
   "cell_type": "code",
   "execution_count": 40,
   "id": "ef044ae9-c195-4159-9f5a-e8dc0e774bef",
   "metadata": {
    "tags": []
   },
   "outputs": [],
   "source": [
    "fasta_file = os.path.join('..','repertoire','first_1000.fasta')\n",
    "annotation_file = os.path.join('..','repertoire','first_1000.tsv')"
   ]
  },
  {
   "cell_type": "code",
   "execution_count": 41,
   "id": "a54de2c2-cb1b-4d51-8a8f-f024dc694e08",
   "metadata": {
    "tags": []
   },
   "outputs": [
    {
     "name": "stderr",
     "output_type": "stream",
     "text": [
      "/tmp/ipykernel_735454/3505619144.py:14: DeprecationWarning: The binary mode of fromstring is deprecated, as it behaves surprisingly on unicode inputs. Use frombuffer instead\n",
      "  seq_array = np.fromstring(seq, np.int8)\n"
     ]
    },
    {
     "data": {
      "text/plain": [
       "(450000, 5)"
      ]
     },
     "execution_count": 41,
     "metadata": {},
     "output_type": "execute_result"
    }
   ],
   "source": [
    "sequences = input_file(fasta_file)\n",
    "X_nonshm = process_input(sequences,chunk_size)\n",
    "X_nonshm.shape"
   ]
  },
  {
   "cell_type": "code",
   "execution_count": 42,
   "id": "2dce4ff0-e193-4a96-b448-3d2565b671d8",
   "metadata": {
    "tags": []
   },
   "outputs": [
    {
     "name": "stderr",
     "output_type": "stream",
     "text": [
      "/tmp/ipykernel_735454/2970507474.py:8: DeprecationWarning: The binary mode of fromstring is deprecated, as it behaves surprisingly on unicode inputs. Use frombuffer instead\n",
      "  return np.fromstring(seq, np.int8)\n",
      "/tmp/ipykernel_735454/3818073805.py:14: DeprecationWarning: The binary mode of fromstring is deprecated, as it behaves surprisingly on unicode inputs. Use frombuffer instead\n",
      "  seq_array = np.fromstring(seq, np.int8)\n"
     ]
    }
   ],
   "source": [
    "df = pd.read_csv(annotation_file, sep='\\t', header=0)\n",
    "chunk_size=450\n",
    "VDJ_seq = []\n",
    "VDJ_num = []\n",
    "for i in range(len(df)):\n",
    "    seq = translate_output(df,i)\n",
    "    seq_num = output_catogory(seq)\n",
    "    VDJ_seq.append(seq)\n",
    "    VDJ_num.append(seq_num)\n",
    "        \n",
    "combined_vdj = ''.join(VDJ_seq)\n",
    "encoded_vdj = output_encoding(combined_vdj)"
   ]
  },
  {
   "cell_type": "code",
   "execution_count": 43,
   "id": "97781730-3010-491f-99bf-189fce46a730",
   "metadata": {
    "tags": []
   },
   "outputs": [
    {
     "name": "stdout",
     "output_type": "stream",
     "text": [
      "450000\n",
      "(450000, 5)\n"
     ]
    }
   ],
   "source": [
    "print(len(combined_vdj))\n",
    "print(encoded_vdj.shape)\n",
    "y_nonshm = encoded_vdj"
   ]
  },
  {
   "cell_type": "code",
   "execution_count": 44,
   "id": "4070e03a-2ed4-45e6-9a13-c59f29e61df4",
   "metadata": {
    "tags": []
   },
   "outputs": [],
   "source": [
    "timesteps = 450  \n",
    "\n",
    "X_nonshm_tensor = np.array([X_nonshm[i:i+timesteps] for i in range(0, X_nonshm.shape[0]-timesteps+1, timesteps)])\n",
    "y_nonshm_tensor = np.array([y_nonshm[i:i+timesteps] for i in range(0, y_nonshm.shape[0]-timesteps+1, timesteps)])\n"
   ]
  },
  {
   "cell_type": "code",
   "execution_count": 45,
   "id": "cca4d9bc-41b0-43e5-a51f-5c835e317067",
   "metadata": {
    "tags": []
   },
   "outputs": [
    {
     "name": "stdout",
     "output_type": "stream",
     "text": [
      "32/32 [==============================] - 0s 13ms/step\n",
      "(1000, 450, 5)\n",
      "(1000, 450, 5)\n"
     ]
    }
   ],
   "source": [
    "y_pred = model.predict(X_nonshm_tensor)\n",
    "print(y_pred.shape)\n",
    "print(y_nonshm_tensor.shape)"
   ]
  },
  {
   "cell_type": "code",
   "execution_count": 46,
   "id": "9ce3b99c-406d-44db-839f-fb36bbeb870b",
   "metadata": {
    "tags": []
   },
   "outputs": [
    {
     "data": {
      "text/plain": [
       "([<matplotlib.axis.YTick at 0x7f6e8c415e90>,\n",
       "  <matplotlib.axis.YTick at 0x7f6e8c420bd0>,\n",
       "  <matplotlib.axis.YTick at 0x7f6e8c61d450>,\n",
       "  <matplotlib.axis.YTick at 0x7f6e8c484590>,\n",
       "  <matplotlib.axis.YTick at 0x7f701acf3710>],\n",
       " [Text(0, 0.5, 'V'),\n",
       "  Text(0, 1.5, 'D'),\n",
       "  Text(0, 2.5, 'J'),\n",
       "  Text(0, 3.5, 'N'),\n",
       "  Text(0, 4.5, 'X')])"
      ]
     },
     "execution_count": 46,
     "metadata": {},
     "output_type": "execute_result"
    },
    {
     "data": {
      "image/png": "[encoded data removed]",
      "text/plain": [
       "<Figure size 640x480 with 2 Axes>"
      ]
     },
     "metadata": {},
     "output_type": "display_data"
    }
   ],
   "source": [
    "pred_classes = np.argmax(y_pred, axis=-1)\n",
    "y_true = np.argmax(y_nonshm_tensor,axis=-1)\n",
    "y_true_flat = y_true.flatten()\n",
    "y_pred_flat = pred_classes.flatten()\n",
    "cm = confusion_matrix(y_true_flat,y_pred_flat)\n",
    "cm_norm = cm/cm.sum(axis=1)[:, np.newaxis]\n",
    "plt.figure()\n",
    "plot_confusion_matrix(cm_norm, classes=['V', 'D', 'J', 'N','X'])\n",
    "labels = ['V', 'D', 'J', 'N','X']\n",
    "plt.xticks(np.arange(5) + 0.5, labels)\n",
    "plt.yticks(np.arange(5) + 0.5, labels)"
   ]
  },
  {
   "cell_type": "code",
   "execution_count": 47,
   "id": "47adbc1e-29c3-4666-975b-8296ad5ffc6a",
   "metadata": {
    "tags": []
   },
   "outputs": [
    {
     "name": "stdout",
     "output_type": "stream",
     "text": [
      "Accuracy: 0.9927377777777778\n",
      "Precision: 0.959668586600112\n",
      "Recall: 0.9581885007652049\n",
      "F1 Score: 0.9582167316282089\n"
     ]
    }
   ],
   "source": [
    "# accuracy\n",
    "accuracy = accuracy_score(y_true_flat, y_pred_flat)\n",
    "print('Accuracy:', accuracy)\n",
    "\n",
    "# precision\n",
    "precision = precision_score(y_true_flat, y_pred_flat, average='macro')\n",
    "print('Precision:', precision)\n",
    "\n",
    "# recall\n",
    "recall = recall_score(y_true_flat, y_pred_flat, average='macro')\n",
    "print('Recall:', recall)\n",
    "\n",
    "# F1-score\n",
    "f1 = f1_score(y_true_flat, y_pred_flat, average='macro')\n",
    "print('F1 Score:', f1)"
   ]
  },
  {
   "cell_type": "code",
   "execution_count": 48,
   "id": "9c99fbc6-8969-4267-b06a-a6bf01dceb18",
   "metadata": {},
   "outputs": [
    {
     "data": {
      "image/png": "[encoded data removed]",
      "text/plain": [
       "<Figure size 640x480 with 1 Axes>"
      ]
     },
     "metadata": {},
     "output_type": "display_data"
    }
   ],
   "source": [
    "vdjclass = [\"V\",\"D\",\"J\",\"N\",\"X\"]\n",
    "plt.figure()\n",
    "for i in range(5):\n",
    "    y_pred_1d = y_pred[:,:,i].ravel()\n",
    "    y_true_1d = y_nonshm_tensor[:,:,i].ravel()\n",
    "    fpr, tpr, _ = roc_curve(y_true_1d, y_pred_1d)\n",
    "    roc_auc = auc(fpr, tpr)\n",
    "    \n",
    "    plt.plot(fpr, tpr, label='Class %s (AUC = %0.2f)' % (vdjclass[i],roc_auc))\n",
    "plt.plot([0, 1], [0, 1], 'k--')\n",
    "plt.xlim([0.0, 1.0])\n",
    "plt.ylim([0.0, 1.05])\n",
    "plt.xlabel('False Positive Rate')\n",
    "plt.ylabel('True Positive Rate')\n",
    "plt.title('Receiver operating characteristic (ROC) curve ')\n",
    "plt.legend(loc=\"lower right\")\n",
    "plt.show()"
   ]
  }
 ],
 "metadata": {
  "kernelspec": {
   "display_name": "test",
   "language": "python",
   "name": "test"
  },
  "language_info": {
   "codemirror_mode": {
    "name": "ipython",
    "version": 3
   },
   "file_extension": ".py",
   "mimetype": "text/x-python",
   "name": "python",
   "nbconvert_exporter": "python",
   "pygments_lexer": "ipython3",
   "version": "3.11.4"
  }
 },
 "nbformat": 4,
 "nbformat_minor": 5
}
