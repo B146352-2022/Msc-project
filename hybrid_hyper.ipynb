{
 "cells": [
  {
   "cell_type": "code",
   "execution_count": 1,
   "id": "b65228dd-a484-4ea5-b95f-74aafdccb8c0",
   "metadata": {
    "tags": []
   },
   "outputs": [
    {
     "name": "stderr",
     "output_type": "stream",
     "text": [
      "2023-08-04 20:15:16.635614: I tensorflow/core/util/port.cc:110] oneDNN custom operations are on. You may see slightly different numerical results due to floating-point round-off errors from different computation orders. To turn them off, set the environment variable `TF_ENABLE_ONEDNN_OPTS=0`.\n",
      "2023-08-04 20:15:16.654775: I tensorflow/core/platform/cpu_feature_guard.cc:182] This TensorFlow binary is optimized to use available CPU instructions in performance-critical operations.\n",
      "To enable the following instructions: SSE4.1 SSE4.2 AVX AVX2 AVX_VNNI FMA, in other operations, rebuild TensorFlow with the appropriate compiler flags.\n"
     ]
    }
   ],
   "source": [
    "import os\n",
    "import re\n",
    "import pandas as pd\n",
    "import numpy as np\n",
    "import tensorflow as tf\n",
    "from sklearn.metrics import confusion_matrix\n",
    "import matplotlib.pyplot as plt\n",
    "import seaborn as sns\n",
    "import nbformat\n",
    "\n",
    "from keras.models import Sequential\n",
    "from keras.layers import Dense, Conv1D, MaxPooling1D, Flatten,Dropout,Conv2D\n",
    "from keras.layers import LSTM\n",
    "from keras.layers import Reshape\n",
    "from keras.layers import Dense, Dropout, LSTM, Embedding, Activation, Lambda, Bidirectional\n",
    "from tensorflow.keras.layers import TimeDistributed\n",
    "from sklearn.model_selection import train_test_split\n",
    "# Load the TensorBoard notebook extension\n",
    "%load_ext tensorboard\n",
    "import datetime"
   ]
  },
  {
   "cell_type": "code",
   "execution_count": 3,
   "id": "0f8f7067-4f73-44f4-b3d7-7b48d84b0011",
   "metadata": {
    "tags": []
   },
   "outputs": [
    {
     "name": "stdout",
     "output_type": "stream",
     "text": [
      "GPU device: PhysicalDevice(name='/physical_device:GPU:0', device_type='GPU')\n",
      "number of GPU device:  1\n"
     ]
    }
   ],
   "source": [
    "gpus = tf.config.list_physical_devices('GPU')\n",
    "\n",
    "if gpus:\n",
    "    for gpu in gpus:\n",
    "        print(\"GPU device:\", gpu)\n",
    "        print(\"number of GPU device: \",len(tf.config.experimental.list_physical_devices('GPU')))\n",
    "else:\n",
    "    print(\"No GPU devices found.\")\n",
    "\n",
    "\n",
    "tf.config.experimental.set_memory_growth(gpus[0], True)"
   ]
  },
  {
   "cell_type": "code",
   "execution_count": 4,
   "id": "3c72ace0-c2b8-418a-a36b-f7fbb69982be",
   "metadata": {
    "tags": []
   },
   "outputs": [
    {
     "name": "stderr",
     "output_type": "stream",
     "text": [
      "/tmp/ipykernel_747072/3805274735.py:1: DeprecationWarning: `import kerastuner` is deprecated, please use `import keras_tuner`.\n",
      "  from kerastuner import HyperModel, RandomSearch\n"
     ]
    }
   ],
   "source": [
    "from kerastuner import HyperModel, RandomSearch"
   ]
  },
  {
   "cell_type": "code",
   "execution_count": 5,
   "id": "886d2af7-4dca-4b70-8fff-638ae0e3d355",
   "metadata": {
    "tags": []
   },
   "outputs": [
    {
     "name": "stdout",
     "output_type": "stream",
     "text": [
      "The tensorboard extension is already loaded. To reload it, use:\n",
      "  %reload_ext tensorboard\n",
      "The tensorboard extension is already loaded. To reload it, use:\n",
      "  %reload_ext tensorboard\n"
     ]
    },
    {
     "name": "stderr",
     "output_type": "stream",
     "text": [
      "/tmp/ipykernel_747072/3505619144.py:14: DeprecationWarning: The binary mode of fromstring is deprecated, as it behaves surprisingly on unicode inputs. Use frombuffer instead\n",
      "  seq_array = np.fromstring(seq, np.int8)\n",
      "/tmp/ipykernel_747072/2970507474.py:8: DeprecationWarning: The binary mode of fromstring is deprecated, as it behaves surprisingly on unicode inputs. Use frombuffer instead\n",
      "  return np.fromstring(seq, np.int8)\n",
      "/tmp/ipykernel_747072/3818073805.py:14: DeprecationWarning: The binary mode of fromstring is deprecated, as it behaves surprisingly on unicode inputs. Use frombuffer instead\n",
      "  seq_array = np.fromstring(seq, np.int8)\n"
     ]
    }
   ],
   "source": [
    "%run 'lstminput.ipynb'"
   ]
  },
  {
   "cell_type": "code",
   "execution_count": 6,
   "id": "d417b519-0c2c-46af-89cf-74d64f3022f9",
   "metadata": {
    "tags": []
   },
   "outputs": [
    {
     "data": {
      "text/plain": [
       "(8000, 450, 5)"
      ]
     },
     "execution_count": 6,
     "metadata": {},
     "output_type": "execute_result"
    }
   ],
   "source": [
    "train_x_tensor.shape"
   ]
  },
  {
   "cell_type": "code",
   "execution_count": 7,
   "id": "08e258a7-5f1f-4922-b935-c86083a02921",
   "metadata": {
    "tags": []
   },
   "outputs": [],
   "source": [
    "from tensorflow import keras\n",
    "from tensorflow.keras import layers\n",
    "from tensorflow.keras.layers import Bidirectional, LSTM, Dropout, TimeDistributed, Dense\n",
    "from kerastuner.tuners import RandomSearch\n",
    "import kerastuner"
   ]
  },
  {
   "cell_type": "code",
   "execution_count": 28,
   "id": "00067509-7882-4cc7-8e99-90afc2a814af",
   "metadata": {
    "tags": []
   },
   "outputs": [],
   "source": [
    "class MyHyperModel(kerastuner.HyperModel):\n",
    "\n",
    "    def __init__(self, num_classes):\n",
    "        self.num_classes = num_classes\n",
    "\n",
    "    def build(self, hp):\n",
    "        sequence_length = 450\n",
    "        one_hot_length = 5\n",
    "        input_shape = (sequence_length, one_hot_length)\n",
    "    \n",
    "        model = keras.Sequential()\n",
    "        model.add(Conv1D(filters=hp.Int('filters', min_value=8, max_value=64, step=8), kernel_size=hp.Int('kernel_size', min_value=1, max_value=6, step=1), padding='same', activation='relu', input_shape=input_shape))\n",
    "        if hp.Boolean(\"dropout\"):\n",
    "            model.add(Dropout(hp.Float('dropout_rate', min_value=0.1, max_value=0.5, step=0.1)))\n",
    "        model.add(Conv1D(filters=hp.Int('filters', min_value=8, max_value=64, step=8), kernel_size=hp.Int('kernel_size', min_value=1, max_value=6, step=1), padding='same', activation='relu'))\n",
    "        model.add(MaxPooling1D(pool_size=1))\n",
    "        model.add(TimeDistributed(Flatten())) \n",
    "        model.add(Bidirectional(LSTM(units=hp.Int('lstm_units', min_value=32, max_value=512, step=32), return_sequences=True),input_shape=(450,5)))\n",
    "        if hp.Boolean(\"dropout\"):\n",
    "            model.add(Dropout(hp.Float('dropout_rate', min_value=0.1, max_value=0.5, step=0.1)))\n",
    "        model.add(Bidirectional(LSTM(units=hp.Int('lstm_units', min_value=32, max_value=512, step=32), return_sequences=True)))\n",
    "        model.add(TimeDistributed(Dense(self.num_classes, activation='softmax')))\n",
    "        if hp.Boolean(\"dropout\"):\n",
    "            model.add(Dropout(hp.Float('dropout_rate', min_value=0.1, max_value=0.5, step=0.1)))\n",
    "        model.add(Dense(self.num_classes, activation='softmax'))\n",
    "        model.compile(optimizer=keras.optimizers.Adam(hp.Choice('learning_rate', values=[1e-2, 1e-3, 1e-4])),\n",
    "                      loss='categorical_crossentropy',\n",
    "                      metrics=['accuracy'])\n",
    "        return model\n",
    "\n"
   ]
  },
  {
   "cell_type": "code",
   "execution_count": 29,
   "id": "0fe63b5b-f97d-48ff-af63-44b779da5820",
   "metadata": {
    "tags": []
   },
   "outputs": [],
   "source": [
    "hypermodel = MyHyperModel(num_classes=5)"
   ]
  },
  {
   "cell_type": "code",
   "execution_count": 45,
   "id": "abf56b0a-abe0-4cea-8365-317696bbffe2",
   "metadata": {
    "tags": []
   },
   "outputs": [
    {
     "name": "stdout",
     "output_type": "stream",
     "text": [
      "INFO:tensorflow:Reloading Tuner from random_search/hybrid_shm/tuner0.json\n"
     ]
    }
   ],
   "source": [
    "tuner = RandomSearch(\n",
    "    hypermodel,\n",
    "    objective='val_accuracy',\n",
    "    max_trials=100,\n",
    "    executions_per_trial=2,\n",
    "    directory='random_search',\n",
    "    project_name='hybrid_shm')\n",
    "\n"
   ]
  },
  {
   "cell_type": "code",
   "execution_count": 46,
   "id": "0f841061-15b3-4286-b836-10d867c3611b",
   "metadata": {
    "tags": []
   },
   "outputs": [
    {
     "name": "stdout",
     "output_type": "stream",
     "text": [
      "Search space summary\n",
      "Default search space size: 6\n",
      "filters (Int)\n",
      "{'default': None, 'conditions': [], 'min_value': 8, 'max_value': 64, 'step': 8, 'sampling': 'linear'}\n",
      "kernel_size (Int)\n",
      "{'default': None, 'conditions': [], 'min_value': 1, 'max_value': 6, 'step': 1, 'sampling': 'linear'}\n",
      "dropout (Boolean)\n",
      "{'default': False, 'conditions': []}\n",
      "lstm_units (Int)\n",
      "{'default': None, 'conditions': [], 'min_value': 32, 'max_value': 512, 'step': 32, 'sampling': 'linear'}\n",
      "learning_rate (Choice)\n",
      "{'default': 0.01, 'conditions': [], 'values': [0.01, 0.001, 0.0001], 'ordered': True}\n",
      "dropout_rate (Float)\n",
      "{'default': 0.1, 'conditions': [], 'min_value': 0.1, 'max_value': 0.5, 'step': 0.1, 'sampling': 'linear'}\n"
     ]
    }
   ],
   "source": [
    "tuner.search_space_summary()\n",
    "\n"
   ]
  },
  {
   "cell_type": "code",
   "execution_count": 47,
   "id": "8619469b-1ce7-4d83-8925-be3d9088a47e",
   "metadata": {
    "tags": []
   },
   "outputs": [],
   "source": [
    "from tensorflow.keras.callbacks import EarlyStopping"
   ]
  },
  {
   "cell_type": "code",
   "execution_count": 48,
   "id": "a23cc248-f0fb-4451-aa9d-404d1491ac05",
   "metadata": {
    "tags": []
   },
   "outputs": [
    {
     "name": "stdout",
     "output_type": "stream",
     "text": [
      "Trial 100 Complete [00h 03m 09s]\n",
      "val_accuracy: 0.7979288995265961\n",
      "\n",
      "Best val_accuracy So Far: 0.9804733395576477\n",
      "Total elapsed time: 02h 47m 01s\n",
      "INFO:tensorflow:Oracle triggered exit\n"
     ]
    }
   ],
   "source": [
    "log_dir = \"logs/hybrid_hyper/\" + datetime.datetime.now().strftime(\"%Y%m%d-%H%M%S\")\n",
    "tf_callback = tf.keras.callbacks.TensorBoard(log_dir=log_dir)\n",
    "early_stopping_callback = EarlyStopping(monitor='val_accuracy', patience=5)\n",
    "tuner.search(train_x_tensor, train_y_tensor, epochs=150, validation_data=(test_x_tensor, test_y_tensor), batch_size=64, callbacks=[tf_callback, early_stopping_callback])\n",
    "\n"
   ]
  },
  {
   "cell_type": "code",
   "execution_count": 49,
   "id": "8f2ee455-2f17-4c70-af43-2aaad39000fa",
   "metadata": {},
   "outputs": [
    {
     "data": {
      "text/plain": [
       "[<keras_tuner.engine.hyperparameters.hyperparameters.HyperParameters at 0x7ef9f019f8d0>]"
      ]
     },
     "execution_count": 49,
     "metadata": {},
     "output_type": "execute_result"
    }
   ],
   "source": [
    "tuner.get_best_hyperparameters()"
   ]
  },
  {
   "cell_type": "code",
   "execution_count": 50,
   "id": "37fb1a04-9855-4cfb-986a-80cb16e17970",
   "metadata": {
    "tags": []
   },
   "outputs": [
    {
     "name": "stdout",
     "output_type": "stream",
     "text": [
      "Results summary\n",
      "Results in random_search/hybrid_shm\n",
      "Showing 10 best trials\n",
      "Objective(name=\"val_accuracy\", direction=\"max\")\n",
      "\n",
      "Trial 29 summary\n",
      "Hyperparameters:\n",
      "filters: 64\n",
      "kernel_size: 5\n",
      "dropout: False\n",
      "lstm_units: 384\n",
      "learning_rate: 0.001\n",
      "dropout_rate: 0.2\n",
      "Score: 0.9804733395576477\n",
      "\n",
      "Trial 21 summary\n",
      "Hyperparameters:\n",
      "filters: 56\n",
      "kernel_size: 2\n",
      "dropout: False\n",
      "lstm_units: 64\n",
      "learning_rate: 0.001\n",
      "Score: 0.9793089032173157\n",
      "\n",
      "Trial 095 summary\n",
      "Hyperparameters:\n",
      "filters: 64\n",
      "kernel_size: 5\n",
      "dropout: False\n",
      "lstm_units: 32\n",
      "learning_rate: 0.001\n",
      "dropout_rate: 0.2\n",
      "Score: 0.9711755514144897\n",
      "\n",
      "Trial 42 summary\n",
      "Hyperparameters:\n",
      "filters: 56\n",
      "kernel_size: 5\n",
      "dropout: True\n",
      "lstm_units: 160\n",
      "learning_rate: 0.01\n",
      "dropout_rate: 0.4\n",
      "Score: 0.9693005681037903\n",
      "\n",
      "Trial 06 summary\n",
      "Hyperparameters:\n",
      "filters: 56\n",
      "kernel_size: 5\n",
      "dropout: False\n",
      "lstm_units: 224\n",
      "learning_rate: 0.001\n",
      "Score: 0.9649477899074554\n",
      "\n",
      "Trial 084 summary\n",
      "Hyperparameters:\n",
      "filters: 16\n",
      "kernel_size: 4\n",
      "dropout: True\n",
      "lstm_units: 32\n",
      "learning_rate: 0.01\n",
      "dropout_rate: 0.5\n",
      "Score: 0.9615655541419983\n",
      "\n",
      "Trial 050 summary\n",
      "Hyperparameters:\n",
      "filters: 64\n",
      "kernel_size: 6\n",
      "dropout: True\n",
      "lstm_units: 64\n",
      "learning_rate: 0.01\n",
      "dropout_rate: 0.2\n",
      "Score: 0.959907203912735\n",
      "\n",
      "Trial 054 summary\n",
      "Hyperparameters:\n",
      "filters: 40\n",
      "kernel_size: 1\n",
      "dropout: False\n",
      "lstm_units: 128\n",
      "learning_rate: 0.001\n",
      "dropout_rate: 0.4\n",
      "Score: 0.9556427597999573\n",
      "\n",
      "Trial 46 summary\n",
      "Hyperparameters:\n",
      "filters: 32\n",
      "kernel_size: 5\n",
      "dropout: False\n",
      "lstm_units: 64\n",
      "learning_rate: 0.001\n",
      "dropout_rate: 0.4\n",
      "Score: 0.9542950093746185\n",
      "\n",
      "Trial 45 summary\n",
      "Hyperparameters:\n",
      "filters: 48\n",
      "kernel_size: 2\n",
      "dropout: True\n",
      "lstm_units: 448\n",
      "learning_rate: 0.0001\n",
      "dropout_rate: 0.5\n",
      "Score: 0.9508044421672821\n"
     ]
    }
   ],
   "source": [
    "tuner.results_summary()"
   ]
  },
  {
   "cell_type": "code",
   "execution_count": 51,
   "id": "8dd7834e-57b9-49f3-8d54-63bd23c96e69",
   "metadata": {
    "tags": []
   },
   "outputs": [
    {
     "name": "stderr",
     "output_type": "stream",
     "text": [
      "2023-08-05 20:53:50.770891: I tensorflow/core/common_runtime/executor.cc:1197] [/device:CPU:0] (DEBUG INFO) Executor start aborting (this does not indicate an error and you can ignore this message): INVALID_ARGUMENT: You must feed a value for placeholder tensor 'gradients/split_2_grad/concat/split_2/split_dim' with dtype int32\n",
      "\t [[{{node gradients/split_2_grad/concat/split_2/split_dim}}]]\n",
      "2023-08-05 20:53:50.771907: I tensorflow/core/common_runtime/executor.cc:1197] [/device:CPU:0] (DEBUG INFO) Executor start aborting (this does not indicate an error and you can ignore this message): INVALID_ARGUMENT: You must feed a value for placeholder tensor 'gradients/split_grad/concat/split/split_dim' with dtype int32\n",
      "\t [[{{node gradients/split_grad/concat/split/split_dim}}]]\n",
      "2023-08-05 20:53:50.772422: I tensorflow/core/common_runtime/executor.cc:1197] [/device:CPU:0] (DEBUG INFO) Executor start aborting (this does not indicate an error and you can ignore this message): INVALID_ARGUMENT: You must feed a value for placeholder tensor 'gradients/split_1_grad/concat/split_1/split_dim' with dtype int32\n",
      "\t [[{{node gradients/split_1_grad/concat/split_1/split_dim}}]]\n",
      "2023-08-05 20:53:50.823885: I tensorflow/core/common_runtime/executor.cc:1197] [/device:CPU:0] (DEBUG INFO) Executor start aborting (this does not indicate an error and you can ignore this message): INVALID_ARGUMENT: You must feed a value for placeholder tensor 'gradients/ReverseV2_grad/ReverseV2/ReverseV2/axis' with dtype int32 and shape [1]\n",
      "\t [[{{node gradients/ReverseV2_grad/ReverseV2/ReverseV2/axis}}]]\n",
      "2023-08-05 20:53:50.840127: I tensorflow/core/common_runtime/executor.cc:1197] [/device:CPU:0] (DEBUG INFO) Executor start aborting (this does not indicate an error and you can ignore this message): INVALID_ARGUMENT: You must feed a value for placeholder tensor 'gradients/split_2_grad/concat/split_2/split_dim' with dtype int32\n",
      "\t [[{{node gradients/split_2_grad/concat/split_2/split_dim}}]]\n",
      "2023-08-05 20:53:50.840612: I tensorflow/core/common_runtime/executor.cc:1197] [/device:CPU:0] (DEBUG INFO) Executor start aborting (this does not indicate an error and you can ignore this message): INVALID_ARGUMENT: You must feed a value for placeholder tensor 'gradients/split_grad/concat/split/split_dim' with dtype int32\n",
      "\t [[{{node gradients/split_grad/concat/split/split_dim}}]]\n",
      "2023-08-05 20:53:50.841043: I tensorflow/core/common_runtime/executor.cc:1197] [/device:CPU:0] (DEBUG INFO) Executor start aborting (this does not indicate an error and you can ignore this message): INVALID_ARGUMENT: You must feed a value for placeholder tensor 'gradients/split_1_grad/concat/split_1/split_dim' with dtype int32\n",
      "\t [[{{node gradients/split_1_grad/concat/split_1/split_dim}}]]\n",
      "2023-08-05 20:53:50.982073: I tensorflow/core/common_runtime/executor.cc:1197] [/device:CPU:0] (DEBUG INFO) Executor start aborting (this does not indicate an error and you can ignore this message): INVALID_ARGUMENT: You must feed a value for placeholder tensor 'gradients/split_2_grad/concat/split_2/split_dim' with dtype int32\n",
      "\t [[{{node gradients/split_2_grad/concat/split_2/split_dim}}]]\n",
      "2023-08-05 20:53:50.982957: I tensorflow/core/common_runtime/executor.cc:1197] [/device:CPU:0] (DEBUG INFO) Executor start aborting (this does not indicate an error and you can ignore this message): INVALID_ARGUMENT: You must feed a value for placeholder tensor 'gradients/split_grad/concat/split/split_dim' with dtype int32\n",
      "\t [[{{node gradients/split_grad/concat/split/split_dim}}]]\n",
      "2023-08-05 20:53:50.983418: I tensorflow/core/common_runtime/executor.cc:1197] [/device:CPU:0] (DEBUG INFO) Executor start aborting (this does not indicate an error and you can ignore this message): INVALID_ARGUMENT: You must feed a value for placeholder tensor 'gradients/split_1_grad/concat/split_1/split_dim' with dtype int32\n",
      "\t [[{{node gradients/split_1_grad/concat/split_1/split_dim}}]]\n",
      "2023-08-05 20:53:51.034429: I tensorflow/core/common_runtime/executor.cc:1197] [/device:CPU:0] (DEBUG INFO) Executor start aborting (this does not indicate an error and you can ignore this message): INVALID_ARGUMENT: You must feed a value for placeholder tensor 'gradients/ReverseV2_grad/ReverseV2/ReverseV2/axis' with dtype int32 and shape [1]\n",
      "\t [[{{node gradients/ReverseV2_grad/ReverseV2/ReverseV2/axis}}]]\n",
      "2023-08-05 20:53:51.051590: I tensorflow/core/common_runtime/executor.cc:1197] [/device:CPU:0] (DEBUG INFO) Executor start aborting (this does not indicate an error and you can ignore this message): INVALID_ARGUMENT: You must feed a value for placeholder tensor 'gradients/split_2_grad/concat/split_2/split_dim' with dtype int32\n",
      "\t [[{{node gradients/split_2_grad/concat/split_2/split_dim}}]]\n",
      "2023-08-05 20:53:51.052134: I tensorflow/core/common_runtime/executor.cc:1197] [/device:CPU:0] (DEBUG INFO) Executor start aborting (this does not indicate an error and you can ignore this message): INVALID_ARGUMENT: You must feed a value for placeholder tensor 'gradients/split_grad/concat/split/split_dim' with dtype int32\n",
      "\t [[{{node gradients/split_grad/concat/split/split_dim}}]]\n",
      "2023-08-05 20:53:51.052598: I tensorflow/core/common_runtime/executor.cc:1197] [/device:CPU:0] (DEBUG INFO) Executor start aborting (this does not indicate an error and you can ignore this message): INVALID_ARGUMENT: You must feed a value for placeholder tensor 'gradients/split_1_grad/concat/split_1/split_dim' with dtype int32\n",
      "\t [[{{node gradients/split_1_grad/concat/split_1/split_dim}}]]\n"
     ]
    }
   ],
   "source": [
    "best_model = tuner.get_best_models(num_models=1)[0]"
   ]
  },
  {
   "cell_type": "code",
   "execution_count": 52,
   "id": "6b8e06f6-f517-4d9f-a76a-f8d12e9e3669",
   "metadata": {
    "tags": []
   },
   "outputs": [],
   "source": [
    "def plot_confusion_matrix(cm, classes=None, title='Confusion matrix'):\n",
    "    \"\"\"Plots a confusion matrix.\"\"\"\n",
    "    if classes is not None:\n",
    "        sns.heatmap(cm, xticklabels=classes, yticklabels=classes, vmin=0., vmax=1., annot=True)\n",
    "    else:\n",
    "        sns.heatmap(cm, vmin=0., vmax=1.)\n",
    "    plt.title(title)\n",
    "    plt.ylabel('True label')\n",
    "    plt.xlabel('Predicted label')"
   ]
  },
  {
   "cell_type": "code",
   "execution_count": 53,
   "id": "bf7232f9-e973-4eee-821b-87cb7a699013",
   "metadata": {
    "tags": []
   },
   "outputs": [
    {
     "name": "stderr",
     "output_type": "stream",
     "text": [
      "2023-08-05 20:53:53.411982: I tensorflow/core/common_runtime/executor.cc:1197] [/device:CPU:0] (DEBUG INFO) Executor start aborting (this does not indicate an error and you can ignore this message): INVALID_ARGUMENT: You must feed a value for placeholder tensor 'gradients/split_2_grad/concat/split_2/split_dim' with dtype int32\n",
      "\t [[{{node gradients/split_2_grad/concat/split_2/split_dim}}]]\n",
      "2023-08-05 20:53:53.412678: I tensorflow/core/common_runtime/executor.cc:1197] [/device:CPU:0] (DEBUG INFO) Executor start aborting (this does not indicate an error and you can ignore this message): INVALID_ARGUMENT: You must feed a value for placeholder tensor 'gradients/split_grad/concat/split/split_dim' with dtype int32\n",
      "\t [[{{node gradients/split_grad/concat/split/split_dim}}]]\n",
      "2023-08-05 20:53:53.413221: I tensorflow/core/common_runtime/executor.cc:1197] [/device:CPU:0] (DEBUG INFO) Executor start aborting (this does not indicate an error and you can ignore this message): INVALID_ARGUMENT: You must feed a value for placeholder tensor 'gradients/split_1_grad/concat/split_1/split_dim' with dtype int32\n",
      "\t [[{{node gradients/split_1_grad/concat/split_1/split_dim}}]]\n",
      "2023-08-05 20:53:53.473444: I tensorflow/core/common_runtime/executor.cc:1197] [/device:CPU:0] (DEBUG INFO) Executor start aborting (this does not indicate an error and you can ignore this message): INVALID_ARGUMENT: You must feed a value for placeholder tensor 'gradients/ReverseV2_grad/ReverseV2/ReverseV2/axis' with dtype int32 and shape [1]\n",
      "\t [[{{node gradients/ReverseV2_grad/ReverseV2/ReverseV2/axis}}]]\n",
      "2023-08-05 20:53:53.493574: I tensorflow/core/common_runtime/executor.cc:1197] [/device:CPU:0] (DEBUG INFO) Executor start aborting (this does not indicate an error and you can ignore this message): INVALID_ARGUMENT: You must feed a value for placeholder tensor 'gradients/split_2_grad/concat/split_2/split_dim' with dtype int32\n",
      "\t [[{{node gradients/split_2_grad/concat/split_2/split_dim}}]]\n",
      "2023-08-05 20:53:53.494214: I tensorflow/core/common_runtime/executor.cc:1197] [/device:CPU:0] (DEBUG INFO) Executor start aborting (this does not indicate an error and you can ignore this message): INVALID_ARGUMENT: You must feed a value for placeholder tensor 'gradients/split_grad/concat/split/split_dim' with dtype int32\n",
      "\t [[{{node gradients/split_grad/concat/split/split_dim}}]]\n",
      "2023-08-05 20:53:53.494748: I tensorflow/core/common_runtime/executor.cc:1197] [/device:CPU:0] (DEBUG INFO) Executor start aborting (this does not indicate an error and you can ignore this message): INVALID_ARGUMENT: You must feed a value for placeholder tensor 'gradients/split_1_grad/concat/split_1/split_dim' with dtype int32\n",
      "\t [[{{node gradients/split_1_grad/concat/split_1/split_dim}}]]\n",
      "2023-08-05 20:53:53.575018: I tensorflow/core/common_runtime/executor.cc:1197] [/device:CPU:0] (DEBUG INFO) Executor start aborting (this does not indicate an error and you can ignore this message): INVALID_ARGUMENT: You must feed a value for placeholder tensor 'gradients/split_2_grad/concat/split_2/split_dim' with dtype int32\n",
      "\t [[{{node gradients/split_2_grad/concat/split_2/split_dim}}]]\n",
      "2023-08-05 20:53:53.575652: I tensorflow/core/common_runtime/executor.cc:1197] [/device:CPU:0] (DEBUG INFO) Executor start aborting (this does not indicate an error and you can ignore this message): INVALID_ARGUMENT: You must feed a value for placeholder tensor 'gradients/split_grad/concat/split/split_dim' with dtype int32\n",
      "\t [[{{node gradients/split_grad/concat/split/split_dim}}]]\n",
      "2023-08-05 20:53:53.576201: I tensorflow/core/common_runtime/executor.cc:1197] [/device:CPU:0] (DEBUG INFO) Executor start aborting (this does not indicate an error and you can ignore this message): INVALID_ARGUMENT: You must feed a value for placeholder tensor 'gradients/split_1_grad/concat/split_1/split_dim' with dtype int32\n",
      "\t [[{{node gradients/split_1_grad/concat/split_1/split_dim}}]]\n",
      "2023-08-05 20:53:53.636712: I tensorflow/core/common_runtime/executor.cc:1197] [/device:CPU:0] (DEBUG INFO) Executor start aborting (this does not indicate an error and you can ignore this message): INVALID_ARGUMENT: You must feed a value for placeholder tensor 'gradients/ReverseV2_grad/ReverseV2/ReverseV2/axis' with dtype int32 and shape [1]\n",
      "\t [[{{node gradients/ReverseV2_grad/ReverseV2/ReverseV2/axis}}]]\n",
      "2023-08-05 20:53:53.657071: I tensorflow/core/common_runtime/executor.cc:1197] [/device:CPU:0] (DEBUG INFO) Executor start aborting (this does not indicate an error and you can ignore this message): INVALID_ARGUMENT: You must feed a value for placeholder tensor 'gradients/split_2_grad/concat/split_2/split_dim' with dtype int32\n",
      "\t [[{{node gradients/split_2_grad/concat/split_2/split_dim}}]]\n",
      "2023-08-05 20:53:53.657714: I tensorflow/core/common_runtime/executor.cc:1197] [/device:CPU:0] (DEBUG INFO) Executor start aborting (this does not indicate an error and you can ignore this message): INVALID_ARGUMENT: You must feed a value for placeholder tensor 'gradients/split_grad/concat/split/split_dim' with dtype int32\n",
      "\t [[{{node gradients/split_grad/concat/split/split_dim}}]]\n",
      "2023-08-05 20:53:53.658257: I tensorflow/core/common_runtime/executor.cc:1197] [/device:CPU:0] (DEBUG INFO) Executor start aborting (this does not indicate an error and you can ignore this message): INVALID_ARGUMENT: You must feed a value for placeholder tensor 'gradients/split_1_grad/concat/split_1/split_dim' with dtype int32\n",
      "\t [[{{node gradients/split_1_grad/concat/split_1/split_dim}}]]\n"
     ]
    },
    {
     "name": "stdout",
     "output_type": "stream",
     "text": [
      "63/63 [==============================] - 2s 29ms/step\n"
     ]
    },
    {
     "data": {
      "text/plain": [
       "([<matplotlib.axis.YTick at 0x7ef9f033ea10>,\n",
       "  <matplotlib.axis.YTick at 0x7ef9d8405dd0>,\n",
       "  <matplotlib.axis.YTick at 0x7ef990433750>,\n",
       "  <matplotlib.axis.YTick at 0x7ef97c68c1d0>,\n",
       "  <matplotlib.axis.YTick at 0x7ef9f0305110>],\n",
       " [Text(0, 0.5, 'V'),\n",
       "  Text(0, 1.5, 'D'),\n",
       "  Text(0, 2.5, 'J'),\n",
       "  Text(0, 3.5, 'N'),\n",
       "  Text(0, 4.5, 'X')])"
      ]
     },
     "execution_count": 53,
     "metadata": {},
     "output_type": "execute_result"
    },
    {
     "data": {
      "image/png": "[encoded data removed]",
      "text/plain": [
       "<Figure size 640x480 with 2 Axes>"
      ]
     },
     "metadata": {},
     "output_type": "display_data"
    }
   ],
   "source": [
    "y_pred = best_model.predict(test_x_tensor)\n",
    "pred_classes = np.argmax(y_pred, axis=-1)\n",
    "y_true = np.argmax(test_y_tensor,axis=-1)\n",
    "y_true_flat = y_true.flatten()\n",
    "y_pred_flat = pred_classes.flatten()\n",
    "cm = confusion_matrix(y_true_flat,y_pred_flat)\n",
    "cm_norm = cm/cm.sum(axis=1)[:, np.newaxis]\n",
    "plt.figure()\n",
    "plot_confusion_matrix(cm_norm, classes=['V', 'D', 'J', 'N','X'])\n",
    "labels = ['V', 'D', 'J', 'N','X']\n",
    "plt.xticks(np.arange(5) + 0.5, labels)\n",
    "plt.yticks(np.arange(5) + 0.5, labels)"
   ]
  },
  {
   "cell_type": "code",
   "execution_count": 54,
   "id": "401c3e9e-88ee-421d-b7b1-668466e6737d",
   "metadata": {
    "tags": []
   },
   "outputs": [],
   "source": [
    "from sklearn.metrics import accuracy_score, precision_score, recall_score, f1_score\n",
    "\n",
    "from sklearn.metrics import roc_curve, auc\n",
    "from sklearn.preprocessing import label_binarize\n",
    "from scipy import interp\n",
    "from itertools import cycle"
   ]
  },
  {
   "cell_type": "code",
   "execution_count": 55,
   "id": "1a63492c-ed8b-4f8e-9fd9-a90328427ef8",
   "metadata": {
    "tags": []
   },
   "outputs": [
    {
     "name": "stdout",
     "output_type": "stream",
     "text": [
      "Accuracy: 0.9907777777777778\n",
      "Precision: 0.9450332555311943\n",
      "Recall: 0.9434003954471771\n",
      "F1 Score: 0.9441466806853829\n"
     ]
    }
   ],
   "source": [
    "# accuracy\n",
    "accuracy = accuracy_score(y_true_flat, y_pred_flat)\n",
    "print('Accuracy:', accuracy)\n",
    "\n",
    "# precision\n",
    "precision = precision_score(y_true_flat, y_pred_flat, average='macro')\n",
    "print('Precision:', precision)\n",
    "\n",
    "# recall\n",
    "recall = recall_score(y_true_flat, y_pred_flat, average='macro')\n",
    "print('Recall:', recall)\n",
    "\n",
    "# F1-score\n",
    "f1 = f1_score(y_true_flat, y_pred_flat, average='macro')\n",
    "print('F1 Score:', f1)"
   ]
  },
  {
   "cell_type": "code",
   "execution_count": null,
   "id": "8e12b28d-8643-4c17-8076-fb754513fc86",
   "metadata": {},
   "outputs": [],
   "source": []
  },
  {
   "cell_type": "code",
   "execution_count": null,
   "id": "10e85283-74b4-475a-bad3-3b2be86cb96e",
   "metadata": {},
   "outputs": [],
   "source": []
  }
 ],
 "metadata": {
  "kernelspec": {
   "display_name": "test",
   "language": "python",
   "name": "test"
  },
  "language_info": {
   "codemirror_mode": {
    "name": "ipython",
    "version": 3
   },
   "file_extension": ".py",
   "mimetype": "text/x-python",
   "name": "python",
   "nbconvert_exporter": "python",
   "pygments_lexer": "ipython3",
   "version": "3.11.4"
  }
 },
 "nbformat": 4,
 "nbformat_minor": 5
}
